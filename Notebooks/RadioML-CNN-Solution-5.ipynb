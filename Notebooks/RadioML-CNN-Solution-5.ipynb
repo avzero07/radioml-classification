{
 "cells": [
  {
   "cell_type": "markdown",
   "metadata": {},
   "source": [
    "# Radio ML Classification - CNN Approach\n",
    "\n",
    "Solution to the RadioML classification challenge using CNNs."
   ]
  },
  {
   "cell_type": "code",
   "execution_count": 1,
   "metadata": {},
   "outputs": [],
   "source": [
    "# Loading Data\n",
    "\n",
    "pathToDataset = \"C:/Users/aksha/Documents/Jupyter Notebooks/radioml-classification/Datasets/Standard/RML2016.10a_dict.pkl\"\n",
    "\n",
    "# Extract the pickle file\n",
    "import pickle\n",
    "import numpy as np\n",
    "Xd = pickle.load(open(pathToDataset,'rb'),encoding=\"bytes\")\n",
    "snrs,mods = map(lambda j: sorted(list(set(map(lambda x: x[j], Xd.keys())))), [1,0])\n",
    "X = []  \n",
    "lbl = []\n",
    "for mod in mods:\n",
    "    for snr in snrs:\n",
    "        X.append(Xd[(mod,snr)])\n",
    "        for i in range(Xd[(mod,snr)].shape[0]):  lbl.append((mod,snr))\n",
    "X = np.vstack(X)"
   ]
  },
  {
   "cell_type": "markdown",
   "metadata": {},
   "source": [
    "# Description of Data\n",
    "\n",
    "The dataset has the size 220,000×2×128, which means that there are 220,000 entries, each consisting of an array of size 2 × 128. Each array represents the samples of about 128 µs of a received waveform sampled with approximately 106 samples/second, and it contains between 8 and 16 modulation symbols. Since the samples of the signal waveforms are complex-valued, they have been stored as real and imaginary parts, and therefore we have arrays of size 2 × 128 in the data set.\n",
    "\n",
    "That is, each row is essentially, **a + ib**.\n",
    "\n",
    "The labels of the downloaded dataset contain two parameters: the modulation technique used (one of [’8PSK’, ’AM-DSB’, ’AM-SSB’, ’BPSK’,’CPFSK’, ’GFSK’, ’PAM4’, ’QAM16’, ’QAM64’, ’QPSK’, ’WBFM’], so 11 possible modulation techniques), and the signal-to noise ratio (SNR) value (one of [−20, −18, −16, −14, −12, −10, −8, −6, −4, −2, 0, 2, 4, 6, 8, 10, 12, 14, 16, 18], so 20 possible SNR values). The SNR is a measure for the quality of the communication channel. The higher the SNR, the less “noisy” is the channel.\n",
    "\n",
    "Each item of the list is essentially like **(b'Modulation Type',SNR Value)** [Use os.fsdecode to extract Modulation Type as string] "
   ]
  },
  {
   "cell_type": "code",
   "execution_count": 2,
   "metadata": {},
   "outputs": [],
   "source": [
    "# Import Necessary Packages\n",
    "%matplotlib inline\n",
    "import os\n",
    "import random\n",
    "import tensorflow.keras.utils\n",
    "import tensorflow.keras.models as models\n",
    "from tensorflow.keras.layers import Reshape,Dense,Dropout,Activation,Flatten\n",
    "from tensorflow.keras.layers import GaussianNoise\n",
    "from tensorflow.keras.layers import Convolution2D, MaxPooling2D, ZeroPadding2D, BatchNormalization, LayerNormalization\n",
    "from tensorflow.keras.regularizers import *\n",
    "from tensorflow.keras.optimizers import *\n",
    "import matplotlib.pyplot as plt\n",
    "import seaborn as sns\n",
    "import tensorflow.keras\n",
    "import numpy as np"
   ]
  },
  {
   "cell_type": "markdown",
   "metadata": {},
   "source": [
    "# Data Processing\n",
    "\n",
    "The goal of this stage is to split data into Training, Validation and Testing data and then process the available data and transform (if needed) it into relevant inputs to be fed into the CNN.\n",
    "\n",
    "1. Split Dataset into Training, Validation and Testing Data : 110,000 samples for training and validation and 110,000 samples for testing."
   ]
  },
  {
   "cell_type": "code",
   "execution_count": 3,
   "metadata": {},
   "outputs": [],
   "source": [
    "#  into training and test sets of the form we can train/test on \n",
    "random.seed(777)\n",
    "np.random.seed(777)\n",
    "\n",
    "index = np.arange(0,220000)\n",
    "random.shuffle(index)\n",
    "\n",
    "trainIdx = index[0:110000]\n",
    "testIdx = index[110000:220000]\n",
    "\n",
    "trainX = X[trainIdx]\n",
    "\n",
    "\n",
    "# Create Validation Data Set\n",
    "indexVal = np.arange(0,110000)\n",
    "random.shuffle(indexVal)\n",
    "\n",
    "realTrainIdx = indexVal[0:99000] \n",
    "valIdx = indexVal[99000:110000]\n",
    "\n",
    "# Actual Training Data\n",
    "realTrainX = trainX[realTrainIdx]\n",
    "X_train = np.expand_dims(realTrainX, axis=-1) # Important\n",
    "\n",
    "# Actual Validation Data\n",
    "validX = trainX[valIdx]\n",
    "X_valid = np.expand_dims(validX, axis=-1) # Important\n",
    "\n",
    "# Actual Testing Data\n",
    "testX = X[testIdx]\n",
    "X_test = np.expand_dims(testX, axis=-1) # Important"
   ]
  },
  {
   "cell_type": "code",
   "execution_count": 4,
   "metadata": {},
   "outputs": [
    {
     "name": "stdout",
     "output_type": "stream",
     "text": [
      "[b'8PSK' b'AM-DSB' b'AM-SSB' b'BPSK' b'CPFSK' b'GFSK' b'PAM4' b'QAM16'\n",
      " b'QAM64' b'QPSK' b'WBFM']\n"
     ]
    }
   ],
   "source": [
    "# One Hot Encode Labels\n",
    "from sklearn import preprocessing\n",
    "lb = preprocessing.LabelBinarizer()\n",
    "lb.fit(np.asarray(lbl)[:,0])\n",
    "print(lb.classes_)\n",
    "lbl_encoded=lb.transform(np.asarray(lbl)[:,0])\n",
    "ytrain=lbl_encoded[trainIdx]\n",
    "\n",
    "y_train = ytrain[realTrainIdx]\n",
    "y_valid = ytrain[valIdx]\n",
    "y_test=lbl_encoded[testIdx]"
   ]
  },
  {
   "cell_type": "markdown",
   "metadata": {},
   "source": [
    "# Design Neural Network"
   ]
  },
  {
   "cell_type": "code",
   "execution_count": 5,
   "metadata": {},
   "outputs": [
    {
     "name": "stdout",
     "output_type": "stream",
     "text": [
      "Model: \"sequential\"\n",
      "_________________________________________________________________\n",
      "Layer (type)                 Output Shape              Param #   \n",
      "=================================================================\n",
      "Normalization_1 (BatchNormal (None, 2, 128, 1)         4         \n",
      "_________________________________________________________________\n",
      "Conv_1 (Conv2D)              (None, 2, 126, 64)        256       \n",
      "_________________________________________________________________\n",
      "Conv_2 (Conv2D)              (None, 1, 124, 16)        6160      \n",
      "_________________________________________________________________\n",
      "flatten (Flatten)            (None, 1984)              0         \n",
      "_________________________________________________________________\n",
      "dense (Dense)                (None, 128)               254080    \n",
      "_________________________________________________________________\n",
      "dense_1 (Dense)              (None, 11)                1419      \n",
      "=================================================================\n",
      "Total params: 261,919\n",
      "Trainable params: 261,917\n",
      "Non-trainable params: 2\n",
      "_________________________________________________________________\n"
     ]
    }
   ],
   "source": [
    "# Network Parameters\n",
    "dropoutRate = 0.5\n",
    "\n",
    "# Structure\n",
    "inpShape = (2,128,1) # Shape of Input Data\n",
    "CNN1_numFilt = 64 # Number of Filters in CNN Layer 1\n",
    "CNN1_kernSize = (1,3) # Kernel Size of CNN Layer 1\n",
    "\n",
    "CNN2_numFilt = 16 # Number of Filters in CNN Layer 2\n",
    "CNN2_kernSize = (2,3) # Kernel Size of CNN Layer 2\n",
    "\n",
    "Dense1_numNeurons = 128 # Number of Nodes in the First Dense Layer\n",
    "numOutput = 11 # Number of Output Nodes\n",
    "\n",
    "# Weight Initialization\n",
    "weightInit = 'glorot_uniform' # Xavier Initialization\n",
    "\n",
    "# Activation Functions\n",
    "activationHidden = 'relu'\n",
    "activationOutput = 'softmax'\n",
    "\n",
    "# Loss Function\n",
    "lossFunction = 'categorical_crossentropy'\n",
    "\n",
    "# Learning Algorithm\n",
    "netOptimizer = 'adam'\n",
    "\n",
    "# Callbacks\n",
    "callbackList = [\n",
    "        tensorflow.keras.callbacks.ModelCheckpoint('Data/CNN-5/CNN-5-Weights_best.h5', monitor='val_loss', verbose=0, save_best_only=True, mode='auto')]\n",
    "\n",
    "# Construct Network\n",
    "model = models.Sequential()\n",
    "model.add(BatchNormalization(axis=-1,input_shape=inpShape, name='Normalization_1'))\n",
    "model.add(Convolution2D(filters=CNN1_numFilt, kernel_size=CNN1_kernSize, activation=activationHidden, name='Conv_1'))\n",
    "model.add(Convolution2D(filters=CNN2_numFilt, kernel_size=CNN2_kernSize, activation=activationHidden, name='Conv_2'))\n",
    "model.add(Flatten())\n",
    "model.add(Dense(Dense1_numNeurons, activation=activationHidden))\n",
    "model.add(Dense(numOutput, activation=activationOutput))\n",
    "model.compile(loss=lossFunction, optimizer=netOptimizer,metrics=['categorical_accuracy'])\n",
    "model.summary()"
   ]
  },
  {
   "cell_type": "markdown",
   "metadata": {},
   "source": [
    "# Train Network"
   ]
  },
  {
   "cell_type": "code",
   "execution_count": 6,
   "metadata": {},
   "outputs": [],
   "source": [
    "numEpochs = 100\n",
    "batchSize = 1024"
   ]
  },
  {
   "cell_type": "code",
   "execution_count": 7,
   "metadata": {},
   "outputs": [
    {
     "name": "stdout",
     "output_type": "stream",
     "text": [
      "Train on 99000 samples, validate on 11000 samples\n",
      "Epoch 1/100\n",
      "99000/99000 - 9s - loss: 2.0833 - categorical_accuracy: 0.2487 - val_loss: 2.5964 - val_categorical_accuracy: 0.0940\n",
      "Epoch 2/100\n",
      "99000/99000 - 3s - loss: 1.8251 - categorical_accuracy: 0.3105 - val_loss: 2.5164 - val_categorical_accuracy: 0.1240\n",
      "Epoch 3/100\n",
      "99000/99000 - 3s - loss: 1.6924 - categorical_accuracy: 0.3537 - val_loss: 2.4566 - val_categorical_accuracy: 0.1333\n",
      "Epoch 4/100\n",
      "99000/99000 - 3s - loss: 1.5922 - categorical_accuracy: 0.3898 - val_loss: 2.5676 - val_categorical_accuracy: 0.1416\n",
      "Epoch 5/100\n",
      "99000/99000 - 3s - loss: 1.5230 - categorical_accuracy: 0.4108 - val_loss: 2.3943 - val_categorical_accuracy: 0.1929\n",
      "Epoch 6/100\n",
      "99000/99000 - 3s - loss: 1.4743 - categorical_accuracy: 0.4267 - val_loss: 2.2174 - val_categorical_accuracy: 0.2316\n",
      "Epoch 7/100\n",
      "99000/99000 - 3s - loss: 1.4342 - categorical_accuracy: 0.4479 - val_loss: 1.9045 - val_categorical_accuracy: 0.2820\n",
      "Epoch 8/100\n",
      "99000/99000 - 2s - loss: 1.3784 - categorical_accuracy: 0.4804 - val_loss: 1.6708 - val_categorical_accuracy: 0.3638\n",
      "Epoch 9/100\n",
      "99000/99000 - 3s - loss: 1.3161 - categorical_accuracy: 0.5086 - val_loss: 1.4922 - val_categorical_accuracy: 0.4430\n",
      "Epoch 10/100\n",
      "99000/99000 - 3s - loss: 1.2632 - categorical_accuracy: 0.5264 - val_loss: 1.3645 - val_categorical_accuracy: 0.4839\n",
      "Epoch 11/100\n",
      "99000/99000 - 3s - loss: 1.2305 - categorical_accuracy: 0.5365 - val_loss: 1.3389 - val_categorical_accuracy: 0.4918\n",
      "Epoch 12/100\n",
      "99000/99000 - 3s - loss: 1.2014 - categorical_accuracy: 0.5459 - val_loss: 1.3399 - val_categorical_accuracy: 0.5015\n",
      "Epoch 13/100\n",
      "99000/99000 - 3s - loss: 1.1807 - categorical_accuracy: 0.5518 - val_loss: 1.3310 - val_categorical_accuracy: 0.4918\n",
      "Epoch 14/100\n",
      "99000/99000 - 3s - loss: 1.1600 - categorical_accuracy: 0.5596 - val_loss: 1.3358 - val_categorical_accuracy: 0.4928\n",
      "Epoch 15/100\n",
      "99000/99000 - 3s - loss: 1.1429 - categorical_accuracy: 0.5654 - val_loss: 1.3347 - val_categorical_accuracy: 0.4945\n",
      "Epoch 16/100\n",
      "99000/99000 - 3s - loss: 1.1207 - categorical_accuracy: 0.5730 - val_loss: 1.3410 - val_categorical_accuracy: 0.4934\n",
      "Epoch 17/100\n",
      "99000/99000 - 3s - loss: 1.1076 - categorical_accuracy: 0.5778 - val_loss: 1.3463 - val_categorical_accuracy: 0.4876\n",
      "Epoch 18/100\n",
      "99000/99000 - 3s - loss: 1.0895 - categorical_accuracy: 0.5858 - val_loss: 1.3596 - val_categorical_accuracy: 0.4998\n",
      "Epoch 19/100\n",
      "99000/99000 - 3s - loss: 1.0665 - categorical_accuracy: 0.5944 - val_loss: 1.3697 - val_categorical_accuracy: 0.4870\n",
      "Epoch 20/100\n",
      "99000/99000 - 3s - loss: 1.0495 - categorical_accuracy: 0.6010 - val_loss: 1.3798 - val_categorical_accuracy: 0.4908\n",
      "Epoch 21/100\n",
      "99000/99000 - 3s - loss: 1.0319 - categorical_accuracy: 0.6085 - val_loss: 1.4127 - val_categorical_accuracy: 0.4840\n",
      "Epoch 22/100\n",
      "99000/99000 - 3s - loss: 1.0116 - categorical_accuracy: 0.6156 - val_loss: 1.4093 - val_categorical_accuracy: 0.4950\n",
      "Epoch 23/100\n",
      "99000/99000 - 3s - loss: 0.9914 - categorical_accuracy: 0.6253 - val_loss: 1.4300 - val_categorical_accuracy: 0.4812\n",
      "Epoch 24/100\n",
      "99000/99000 - 2s - loss: 0.9721 - categorical_accuracy: 0.6326 - val_loss: 1.4524 - val_categorical_accuracy: 0.4834\n",
      "Epoch 25/100\n",
      "99000/99000 - 3s - loss: 0.9514 - categorical_accuracy: 0.6393 - val_loss: 1.4615 - val_categorical_accuracy: 0.4899\n",
      "Epoch 26/100\n",
      "99000/99000 - 3s - loss: 0.9310 - categorical_accuracy: 0.6486 - val_loss: 1.4926 - val_categorical_accuracy: 0.4775\n",
      "Epoch 27/100\n",
      "99000/99000 - 3s - loss: 0.9105 - categorical_accuracy: 0.6548 - val_loss: 1.5200 - val_categorical_accuracy: 0.4805\n",
      "Epoch 28/100\n",
      "99000/99000 - 3s - loss: 0.8890 - categorical_accuracy: 0.6670 - val_loss: 1.5339 - val_categorical_accuracy: 0.4835\n",
      "Epoch 29/100\n",
      "99000/99000 - 3s - loss: 0.8643 - categorical_accuracy: 0.6737 - val_loss: 1.5718 - val_categorical_accuracy: 0.4867\n",
      "Epoch 30/100\n",
      "99000/99000 - 3s - loss: 0.8452 - categorical_accuracy: 0.6822 - val_loss: 1.6189 - val_categorical_accuracy: 0.4743\n",
      "Epoch 31/100\n",
      "99000/99000 - 3s - loss: 0.8208 - categorical_accuracy: 0.6913 - val_loss: 1.6420 - val_categorical_accuracy: 0.4735\n",
      "Epoch 32/100\n",
      "99000/99000 - 2s - loss: 0.8020 - categorical_accuracy: 0.6981 - val_loss: 1.6719 - val_categorical_accuracy: 0.4772\n",
      "Epoch 33/100\n",
      "99000/99000 - 3s - loss: 0.7795 - categorical_accuracy: 0.7076 - val_loss: 1.6897 - val_categorical_accuracy: 0.4826\n",
      "Epoch 34/100\n",
      "99000/99000 - 3s - loss: 0.7548 - categorical_accuracy: 0.7178 - val_loss: 1.7466 - val_categorical_accuracy: 0.4794\n",
      "Epoch 35/100\n",
      "99000/99000 - 2s - loss: 0.7376 - categorical_accuracy: 0.7234 - val_loss: 1.7814 - val_categorical_accuracy: 0.4877\n",
      "Epoch 36/100\n",
      "99000/99000 - 2s - loss: 0.7138 - categorical_accuracy: 0.7315 - val_loss: 1.8697 - val_categorical_accuracy: 0.4689\n",
      "Epoch 37/100\n",
      "99000/99000 - 3s - loss: 0.6959 - categorical_accuracy: 0.7381 - val_loss: 1.8636 - val_categorical_accuracy: 0.4821\n",
      "Epoch 38/100\n",
      "99000/99000 - 3s - loss: 0.6718 - categorical_accuracy: 0.7473 - val_loss: 1.9395 - val_categorical_accuracy: 0.4722\n",
      "Epoch 39/100\n",
      "99000/99000 - 2s - loss: 0.6592 - categorical_accuracy: 0.7530 - val_loss: 2.0057 - val_categorical_accuracy: 0.4775\n",
      "Epoch 40/100\n",
      "99000/99000 - 3s - loss: 0.6392 - categorical_accuracy: 0.7586 - val_loss: 2.0672 - val_categorical_accuracy: 0.4796\n",
      "Epoch 41/100\n",
      "99000/99000 - 3s - loss: 0.6140 - categorical_accuracy: 0.7707 - val_loss: 2.1086 - val_categorical_accuracy: 0.4809\n",
      "Epoch 42/100\n",
      "99000/99000 - 3s - loss: 0.5968 - categorical_accuracy: 0.7741 - val_loss: 2.1684 - val_categorical_accuracy: 0.4804\n",
      "Epoch 43/100\n",
      "99000/99000 - 3s - loss: 0.5790 - categorical_accuracy: 0.7834 - val_loss: 2.2306 - val_categorical_accuracy: 0.4716\n",
      "Epoch 44/100\n",
      "99000/99000 - 3s - loss: 0.5608 - categorical_accuracy: 0.7907 - val_loss: 2.2702 - val_categorical_accuracy: 0.4812\n",
      "Epoch 45/100\n",
      "99000/99000 - 2s - loss: 0.5440 - categorical_accuracy: 0.7952 - val_loss: 2.3417 - val_categorical_accuracy: 0.4747\n",
      "Epoch 46/100\n",
      "99000/99000 - 3s - loss: 0.5300 - categorical_accuracy: 0.8014 - val_loss: 2.3966 - val_categorical_accuracy: 0.4754\n",
      "Epoch 47/100\n",
      "99000/99000 - 3s - loss: 0.5066 - categorical_accuracy: 0.8114 - val_loss: 2.4934 - val_categorical_accuracy: 0.4761\n",
      "Epoch 48/100\n",
      "99000/99000 - 3s - loss: 0.4912 - categorical_accuracy: 0.8160 - val_loss: 2.5876 - val_categorical_accuracy: 0.4804\n",
      "Epoch 49/100\n",
      "99000/99000 - 3s - loss: 0.4771 - categorical_accuracy: 0.8221 - val_loss: 2.6237 - val_categorical_accuracy: 0.4825\n",
      "Epoch 50/100\n",
      "99000/99000 - 3s - loss: 0.4668 - categorical_accuracy: 0.8251 - val_loss: 2.7017 - val_categorical_accuracy: 0.4745\n",
      "Epoch 51/100\n",
      "99000/99000 - 3s - loss: 0.4481 - categorical_accuracy: 0.8329 - val_loss: 2.7940 - val_categorical_accuracy: 0.4750\n",
      "Epoch 52/100\n",
      "99000/99000 - 3s - loss: 0.4287 - categorical_accuracy: 0.8404 - val_loss: 2.8528 - val_categorical_accuracy: 0.4778\n",
      "Epoch 53/100\n",
      "99000/99000 - 3s - loss: 0.4247 - categorical_accuracy: 0.8415 - val_loss: 2.9348 - val_categorical_accuracy: 0.4766\n",
      "Epoch 54/100\n",
      "99000/99000 - 3s - loss: 0.4039 - categorical_accuracy: 0.8494 - val_loss: 3.0825 - val_categorical_accuracy: 0.4631\n",
      "Epoch 55/100\n",
      "99000/99000 - 3s - loss: 0.4056 - categorical_accuracy: 0.8479 - val_loss: 3.0952 - val_categorical_accuracy: 0.4762\n",
      "Epoch 56/100\n",
      "99000/99000 - 3s - loss: 0.3845 - categorical_accuracy: 0.8566 - val_loss: 3.1712 - val_categorical_accuracy: 0.4675\n",
      "Epoch 57/100\n",
      "99000/99000 - 3s - loss: 0.3710 - categorical_accuracy: 0.8599 - val_loss: 3.2783 - val_categorical_accuracy: 0.4686\n",
      "Epoch 58/100\n",
      "99000/99000 - 3s - loss: 0.3569 - categorical_accuracy: 0.8658 - val_loss: 3.3497 - val_categorical_accuracy: 0.4736\n",
      "Epoch 59/100\n",
      "99000/99000 - 3s - loss: 0.3466 - categorical_accuracy: 0.8707 - val_loss: 3.4431 - val_categorical_accuracy: 0.4748\n",
      "Epoch 60/100\n",
      "99000/99000 - 2s - loss: 0.3402 - categorical_accuracy: 0.8720 - val_loss: 3.5006 - val_categorical_accuracy: 0.4708\n",
      "Epoch 61/100\n",
      "99000/99000 - 3s - loss: 0.3312 - categorical_accuracy: 0.8755 - val_loss: 3.6076 - val_categorical_accuracy: 0.4772\n",
      "Epoch 62/100\n",
      "99000/99000 - 3s - loss: 0.3220 - categorical_accuracy: 0.8789 - val_loss: 3.6965 - val_categorical_accuracy: 0.4695\n",
      "Epoch 63/100\n",
      "99000/99000 - 3s - loss: 0.3055 - categorical_accuracy: 0.8856 - val_loss: 3.7873 - val_categorical_accuracy: 0.4707\n"
     ]
    },
    {
     "name": "stdout",
     "output_type": "stream",
     "text": [
      "Epoch 64/100\n",
      "99000/99000 - 2s - loss: 0.2971 - categorical_accuracy: 0.8891 - val_loss: 3.8985 - val_categorical_accuracy: 0.4748\n",
      "Epoch 65/100\n",
      "99000/99000 - 3s - loss: 0.2923 - categorical_accuracy: 0.8920 - val_loss: 3.9950 - val_categorical_accuracy: 0.4710\n",
      "Epoch 66/100\n",
      "99000/99000 - 3s - loss: 0.2776 - categorical_accuracy: 0.8962 - val_loss: 4.0840 - val_categorical_accuracy: 0.4761\n",
      "Epoch 67/100\n",
      "99000/99000 - 3s - loss: 0.2883 - categorical_accuracy: 0.8920 - val_loss: 4.1094 - val_categorical_accuracy: 0.4701\n",
      "Epoch 68/100\n",
      "99000/99000 - 3s - loss: 0.2869 - categorical_accuracy: 0.8915 - val_loss: 4.1942 - val_categorical_accuracy: 0.4707\n",
      "Epoch 69/100\n",
      "99000/99000 - 3s - loss: 0.2614 - categorical_accuracy: 0.9020 - val_loss: 4.3048 - val_categorical_accuracy: 0.4691\n",
      "Epoch 70/100\n",
      "99000/99000 - 3s - loss: 0.2458 - categorical_accuracy: 0.9083 - val_loss: 4.3931 - val_categorical_accuracy: 0.4736\n",
      "Epoch 71/100\n",
      "99000/99000 - 2s - loss: 0.2501 - categorical_accuracy: 0.9058 - val_loss: 4.4732 - val_categorical_accuracy: 0.4767\n",
      "Epoch 72/100\n",
      "99000/99000 - 3s - loss: 0.2410 - categorical_accuracy: 0.9107 - val_loss: 4.5526 - val_categorical_accuracy: 0.4736\n",
      "Epoch 73/100\n",
      "99000/99000 - 2s - loss: 0.2281 - categorical_accuracy: 0.9153 - val_loss: 4.6088 - val_categorical_accuracy: 0.4753\n",
      "Epoch 74/100\n",
      "99000/99000 - 3s - loss: 0.2245 - categorical_accuracy: 0.9159 - val_loss: 4.7158 - val_categorical_accuracy: 0.4739\n",
      "Epoch 75/100\n",
      "99000/99000 - 3s - loss: 0.2169 - categorical_accuracy: 0.9185 - val_loss: 4.7963 - val_categorical_accuracy: 0.4739\n",
      "Epoch 76/100\n",
      "99000/99000 - 2s - loss: 0.2232 - categorical_accuracy: 0.9150 - val_loss: 4.9354 - val_categorical_accuracy: 0.4752\n",
      "Epoch 77/100\n",
      "99000/99000 - 3s - loss: 0.2181 - categorical_accuracy: 0.9181 - val_loss: 5.0200 - val_categorical_accuracy: 0.4691\n",
      "Epoch 78/100\n",
      "99000/99000 - 2s - loss: 0.2231 - categorical_accuracy: 0.9150 - val_loss: 5.0601 - val_categorical_accuracy: 0.4667\n",
      "Epoch 79/100\n",
      "99000/99000 - 3s - loss: 0.2103 - categorical_accuracy: 0.9204 - val_loss: 5.1358 - val_categorical_accuracy: 0.4657\n",
      "Epoch 80/100\n",
      "99000/99000 - 3s - loss: 0.2004 - categorical_accuracy: 0.9243 - val_loss: 5.2150 - val_categorical_accuracy: 0.4675\n",
      "Epoch 81/100\n",
      "99000/99000 - 3s - loss: 0.1981 - categorical_accuracy: 0.9237 - val_loss: 5.3568 - val_categorical_accuracy: 0.4663\n",
      "Epoch 82/100\n",
      "99000/99000 - 3s - loss: 0.1963 - categorical_accuracy: 0.9256 - val_loss: 5.4217 - val_categorical_accuracy: 0.4716\n",
      "Epoch 83/100\n",
      "99000/99000 - 3s - loss: 0.1898 - categorical_accuracy: 0.9280 - val_loss: 5.4421 - val_categorical_accuracy: 0.4740\n",
      "Epoch 84/100\n",
      "99000/99000 - 3s - loss: 0.1789 - categorical_accuracy: 0.9316 - val_loss: 5.5685 - val_categorical_accuracy: 0.4692\n",
      "Epoch 85/100\n",
      "99000/99000 - 3s - loss: 0.1763 - categorical_accuracy: 0.9330 - val_loss: 5.6407 - val_categorical_accuracy: 0.4715\n",
      "Epoch 86/100\n",
      "99000/99000 - 2s - loss: 0.1687 - categorical_accuracy: 0.9359 - val_loss: 5.7969 - val_categorical_accuracy: 0.4762\n",
      "Epoch 87/100\n",
      "99000/99000 - 3s - loss: 0.1794 - categorical_accuracy: 0.9307 - val_loss: 5.7973 - val_categorical_accuracy: 0.4711\n",
      "Epoch 88/100\n",
      "99000/99000 - 2s - loss: 0.1856 - categorical_accuracy: 0.9286 - val_loss: 5.8787 - val_categorical_accuracy: 0.4723\n",
      "Epoch 89/100\n",
      "99000/99000 - 2s - loss: 0.1819 - categorical_accuracy: 0.9296 - val_loss: 5.8923 - val_categorical_accuracy: 0.4638\n",
      "Epoch 90/100\n",
      "99000/99000 - 2s - loss: 0.1881 - categorical_accuracy: 0.9274 - val_loss: 5.9944 - val_categorical_accuracy: 0.4592\n",
      "Epoch 91/100\n",
      "99000/99000 - 3s - loss: 0.1748 - categorical_accuracy: 0.9318 - val_loss: 6.0577 - val_categorical_accuracy: 0.4676\n",
      "Epoch 92/100\n",
      "99000/99000 - 3s - loss: 0.1775 - categorical_accuracy: 0.9317 - val_loss: 6.1165 - val_categorical_accuracy: 0.4706\n",
      "Epoch 93/100\n",
      "99000/99000 - 2s - loss: 0.1634 - categorical_accuracy: 0.9373 - val_loss: 6.2181 - val_categorical_accuracy: 0.4701\n",
      "Epoch 94/100\n",
      "99000/99000 - 2s - loss: 0.1588 - categorical_accuracy: 0.9385 - val_loss: 6.2056 - val_categorical_accuracy: 0.4771\n",
      "Epoch 95/100\n",
      "99000/99000 - 3s - loss: 0.1529 - categorical_accuracy: 0.9418 - val_loss: 6.3561 - val_categorical_accuracy: 0.4612\n",
      "Epoch 96/100\n",
      "99000/99000 - 3s - loss: 0.1613 - categorical_accuracy: 0.9368 - val_loss: 6.3607 - val_categorical_accuracy: 0.4697\n",
      "Epoch 97/100\n",
      "99000/99000 - 3s - loss: 0.1658 - categorical_accuracy: 0.9376 - val_loss: 6.3578 - val_categorical_accuracy: 0.4723\n",
      "Epoch 98/100\n",
      "99000/99000 - 3s - loss: 0.1436 - categorical_accuracy: 0.9443 - val_loss: 6.5150 - val_categorical_accuracy: 0.4746\n",
      "Epoch 99/100\n",
      "99000/99000 - 3s - loss: 0.1348 - categorical_accuracy: 0.9478 - val_loss: 6.5782 - val_categorical_accuracy: 0.4757\n",
      "Epoch 100/100\n",
      "99000/99000 - 3s - loss: 0.1312 - categorical_accuracy: 0.9487 - val_loss: 6.7524 - val_categorical_accuracy: 0.4698\n"
     ]
    }
   ],
   "source": [
    "history = model.fit(X_train,y_train,epochs=numEpochs,batch_size=batchSize,validation_data=(X_valid,y_valid),callbacks=callbackList,verbose=2)"
   ]
  },
  {
   "cell_type": "code",
   "execution_count": 15,
   "metadata": {},
   "outputs": [],
   "source": [
    "# Save History\n",
    "np_loss_history = np.array(history.history[\"loss\"])\n",
    "np.save('Data/CNN-5/lossHist.npy',np_loss_history)\n",
    "\n",
    "np_accu_history = np.array(history.history[\"categorical_accuracy\"])\n",
    "np.save('Data/CNN-5/accuHist.npy',np_accu_history)\n",
    "\n",
    "np_val_loss_history = np.array(history.history[\"val_loss\"])\n",
    "np.save('Data/CNN-5/valLossHist.npy',np_val_loss_history)\n",
    "\n",
    "np_val_accu_history = np.array(history.history[\"val_categorical_accuracy\"])\n",
    "np.save('Data/CNN-5/valAccuHist.npy',np_val_accu_history)"
   ]
  },
  {
   "cell_type": "markdown",
   "metadata": {},
   "source": [
    "# Test/Evaluate Network"
   ]
  },
  {
   "cell_type": "code",
   "execution_count": 6,
   "metadata": {},
   "outputs": [
    {
     "name": "stdout",
     "output_type": "stream",
     "text": [
      "110000/110000 [==============================] - 23s 208us/sample - loss: 1.3371 - categorical_accuracy: 0.4928\n"
     ]
    },
    {
     "data": {
      "text/plain": [
       "[1.3371440863869406, 0.4928]"
      ]
     },
     "execution_count": 6,
     "metadata": {},
     "output_type": "execute_result"
    }
   ],
   "source": [
    "# Re-load Best Weights\n",
    "model.load_weights('Data/CNN-5/CNN-5-Weights_best.h5')\n",
    "\n",
    "model.evaluate(X_test,y_test)"
   ]
  },
  {
   "cell_type": "markdown",
   "metadata": {},
   "source": [
    "# Visualize Results"
   ]
  },
  {
   "cell_type": "code",
   "execution_count": 7,
   "metadata": {},
   "outputs": [
    {
     "data": {
      "text/plain": [
       "<matplotlib.legend.Legend at 0x1fd2b4005c8>"
      ]
     },
     "execution_count": 7,
     "metadata": {},
     "output_type": "execute_result"
    },
    {
     "data": {
      "image/png": "[encoded data removed]",
      "text/plain": [
       "<Figure size 432x288 with 1 Axes>"
      ]
     },
     "metadata": {
      "needs_background": "light"
     },
     "output_type": "display_data"
    }
   ],
   "source": [
    "# Load Details of History\n",
    "lHist = np.load('Data/CNN-5/lossHist.npy')\n",
    "aHist = np.load('Data/CNN-5/accuHist.npy')\n",
    "\n",
    "vLHist = np.load('Data/CNN-5/valLossHist.npy')\n",
    "vAHist = np.load('Data/CNN-5/valAccuHist.npy')\n",
    "\n",
    "# Show loss curves \n",
    "plt.figure()\n",
    "plt.title('CNN 5 - Training performance')\n",
    "plt.plot(lHist, label='Training Loss')\n",
    "plt.plot(vLHist, label='Validation Loss')\n",
    "plt.xlabel('Epochs')\n",
    "plt.xticks(np.arange(0,110,10),np.arange(1,111,10))\n",
    "plt.ylabel('Loss')\n",
    "plt.legend()"
   ]
  },
  {
   "cell_type": "code",
   "execution_count": 8,
   "metadata": {},
   "outputs": [],
   "source": [
    "# Function to Extract Test Data of Specific SNR\n",
    "def extractTest(data,labels,labelsEncoded,testIndex,snr):\n",
    "    testData = data[testIndex]\n",
    "    labelArray = np.array([labels])\n",
    "    testLabels = labelArray[:,testIdx,:]\n",
    "    testLabelsEncoded = labelsEncoded[testIdx]\n",
    "    \n",
    "    idxOP = list()\n",
    "    \n",
    "    # Loop Through Label Array To Get Index of Specific SNR\n",
    "    for i in range(0,testLabels.shape[1]):\n",
    "        if testLabels[0,i,1].decode('ascii')==snr:\n",
    "            idxOP.append(i)\n",
    "    \n",
    "    # Return Subset of Test Data and Corresponding Labels\n",
    "    opTestData = np.expand_dims(testData[idxOP,:,:],axis=-1)\n",
    "    opTestLabel = testLabelsEncoded[idxOP]\n",
    "    \n",
    "    return opTestData, opTestLabel\n",
    "\n",
    "def plot_confusion_matrix(cm, titleAdd, title='CNN 5 - Confusion matrix', cmap=plt.cm.Blues, labels=[]):\n",
    "    plt.imshow(cm, interpolation='nearest', cmap=cmap)\n",
    "    plt.title(title+titleAdd)\n",
    "    plt.colorbar()\n",
    "    tick_marks = np.arange(len(labels))\n",
    "    plt.xticks(tick_marks, labels, rotation=45)\n",
    "    plt.yticks(tick_marks, labels)\n",
    "    plt.tight_layout()\n",
    "    plt.ylabel('True label')\n",
    "    plt.xlabel('Predicted label')\n",
    "\n",
    "# Confusion Matrix Function\n",
    "def prepConfMat(testData,testLabel,predTestLabel,mods,title):\n",
    "    modString = list()\n",
    "    for i in range(0,len(mods)):\n",
    "        modString.append(mods[i].decode('ascii'))\n",
    "    \n",
    "    conf = np.zeros([len(mods),len(mods)])\n",
    "    confnorm = np.zeros([len(mods),len(mods)])\n",
    "    for i in range(0,testData.shape[0]):\n",
    "        j = list(testLabel[i,:]).index(1)\n",
    "        k = int(np.argmax(predTestLabel[i,:]))\n",
    "        conf[j,k] = conf[j,k] + 1\n",
    "    for i in range(0,len(mods)):\n",
    "        confnorm[i,:] = conf[i,:] / np.sum(conf[i,:])\n",
    "    plot_confusion_matrix(confnorm, title, labels=modString)"
   ]
  },
  {
   "cell_type": "code",
   "execution_count": 9,
   "metadata": {},
   "outputs": [
    {
     "data": {
      "image/png": "[encoded data removed]",
      "text/plain": [
       "<Figure size 432x288 with 2 Axes>"
      ]
     },
     "metadata": {
      "needs_background": "light"
     },
     "output_type": "display_data"
    }
   ],
   "source": [
    "# Plot confusion matrix\n",
    "test_Y_hat = model.predict(X_test, batch_size=1024)\n",
    "\n",
    "prepConfMat(X_test,y_test,test_Y_hat,mods,' (All SNRs)')"
   ]
  },
  {
   "cell_type": "code",
   "execution_count": 10,
   "metadata": {
    "scrolled": true
   },
   "outputs": [
    {
     "data": {
      "image/png": "[encoded data removed]",
      "text/plain": [
       "<Figure size 432x288 with 2 Axes>"
      ]
     },
     "metadata": {
      "needs_background": "light"
     },
     "output_type": "display_data"
    }
   ],
   "source": [
    "# Plot Confusion Matrix for Specific SNR\n",
    "snr = '0'\n",
    "title = ' (SNR = '+snr+')'\n",
    "x_testSNR, y_TestSNR = extractTest(X,lbl,lbl_encoded,testIdx,snr)\n",
    "y_hat_snr = model.predict(x_testSNR, batch_size=1024)\n",
    "prepConfMat(x_testSNR,y_TestSNR,y_hat_snr,mods,title)"
   ]
  },
  {
   "cell_type": "code",
   "execution_count": 11,
   "metadata": {},
   "outputs": [
    {
     "name": "stdout",
     "output_type": "stream",
     "text": [
      "Overall Accuracy:  0.096593980897459 for SNR b'-20'\n",
      "Overall Accuracy:  0.09912854030501089 for SNR b'-18'\n",
      "Overall Accuracy:  0.1015182001097494 for SNR b'-16'\n",
      "Overall Accuracy:  0.12181818181818181 for SNR b'-14'\n",
      "Overall Accuracy:  0.15303003057004136 for SNR b'-12'\n",
      "Overall Accuracy:  0.21707988980716253 for SNR b'-10'\n",
      "Overall Accuracy:  0.3124658780709736 for SNR b'-8'\n",
      "Overall Accuracy:  0.45143884892086333 for SNR b'-6'\n",
      "Overall Accuracy:  0.5740435658063335 for SNR b'-4'\n",
      "Overall Accuracy:  0.6580597565473995 for SNR b'-2'\n",
      "Overall Accuracy:  0.7026296829971181 for SNR b'0'\n",
      "Overall Accuracy:  0.7081269491836361 for SNR b'2'\n",
      "Overall Accuracy:  0.7051029543419874 for SNR b'4'\n",
      "Overall Accuracy:  0.7103510351035104 for SNR b'6'\n",
      "Overall Accuracy:  0.7130111524163569 for SNR b'8'\n",
      "Overall Accuracy:  0.7058823529411765 for SNR b'10'\n",
      "Overall Accuracy:  0.6964937910883857 for SNR b'12'\n",
      "Overall Accuracy:  0.7232011747430249 for SNR b'14'\n",
      "Overall Accuracy:  0.7046198617679156 for SNR b'16'\n",
      "Overall Accuracy:  0.7064748201438849 for SNR b'18'\n",
      "Random Guess Accuracy: 0.09090909090909091\n"
     ]
    }
   ],
   "source": [
    "# Get the test accuracy for different SNRs\n",
    "acc = {}\n",
    "acc_array=[]\n",
    "\n",
    "snr_array=np.asarray(lbl)[:,1]\n",
    "lb_temp = preprocessing.LabelBinarizer()\n",
    "lb_temp.fit(snr_array)\n",
    "temp_array=lb_temp.classes_\n",
    "snr_label_array = []\n",
    "\n",
    "\n",
    "snr_label_array.append(temp_array[6])\n",
    "snr_label_array.append(temp_array[4])\n",
    "snr_label_array.append(temp_array[3])\n",
    "snr_label_array.append(temp_array[2])\n",
    "snr_label_array.append(temp_array[1])\n",
    "snr_label_array.append(temp_array[0])\n",
    "snr_label_array.append(temp_array[9])\n",
    "snr_label_array.append(temp_array[8])\n",
    "snr_label_array.append(temp_array[7])\n",
    "snr_label_array.append(temp_array[5])\n",
    "snr_label_array.append(temp_array[10])\n",
    "snr_label_array.append(temp_array[16])\n",
    "snr_label_array.append(temp_array[17])\n",
    "snr_label_array.append(temp_array[18])\n",
    "snr_label_array.append(temp_array[19])\n",
    "snr_label_array.append(temp_array[11])\n",
    "snr_label_array.append(temp_array[12])\n",
    "snr_label_array.append(temp_array[13])\n",
    "snr_label_array.append(temp_array[14])\n",
    "snr_label_array.append(temp_array[15])\n",
    "\n",
    "\n",
    "#print(snr_label_array)\n",
    "y_test_snr=snr_array[testIdx]\n",
    "\n",
    "\n",
    "\n",
    "for snr in snr_label_array:\n",
    "    test_X_i = X_test[np.where(y_test_snr==snr)]\n",
    "    test_Y_i = y_test[np.where(y_test_snr==snr)]\n",
    "    \n",
    "    test_Y_i_hat = model.predict(test_X_i)\n",
    "    conf = np.zeros([len(mods),len(mods)])\n",
    "    confnorm = np.zeros([len(mods),len(mods)])\n",
    "    for i in range(0,test_X_i.shape[0]):\n",
    "        j = list(test_Y_i[i,:]).index(1)\n",
    "        k = int(np.argmax(test_Y_i_hat[i,:]))\n",
    "        conf[j,k] = conf[j,k] + 1\n",
    "    for i in range(0,len(mods)):\n",
    "        confnorm[i,:] = conf[i,:] / np.sum(conf[i,:])\n",
    "    \n",
    "    #plt.figure()\n",
    "    #plot_confusion_matrix(confnorm, labels=classes, title=\"ConvNet Confusion Matrix (SNR=%d)\"%(snr))\n",
    "    \n",
    "    cor = np.sum(np.diag(conf))\n",
    "    ncor = np.sum(conf) - cor\n",
    "    print(\"Overall Accuracy: \", cor / (cor+ncor),\"for SNR\",snr)\n",
    "    acc[snr] = 1.0*cor/(cor+ncor)\n",
    "    acc_array.append(1.0*cor/(cor+ncor))\n",
    "\n",
    "print(\"Random Guess Accuracy:\",1/11)"
   ]
  },
  {
   "cell_type": "code",
   "execution_count": 12,
   "metadata": {},
   "outputs": [
    {
     "data": {
      "image/png": "[encoded data removed]",
      "text/plain": [
       "<Figure size 576x432 with 1 Axes>"
      ]
     },
     "metadata": {
      "needs_background": "light"
     },
     "output_type": "display_data"
    }
   ],
   "source": [
    "# Show loss curves \n",
    "plt.figure(figsize=(8, 6))\n",
    "plt.title('CNN 5 - Accuracy For Different SNRs')\n",
    "plt.plot(np.arange(-20,20,2), acc_array)\n",
    "plt.xlabel('SNR')\n",
    "plt.xticks(np.arange(-20,20,2))\n",
    "plt.ylabel('Class Accuracy')\n",
    "plt.grid()\n",
    "plt.show()"
   ]
  },
  {
   "cell_type": "code",
   "execution_count": 13,
   "metadata": {},
   "outputs": [],
   "source": [
    "accRes = np.array([acc_array])\n",
    "np.save('Data/CNN-5/accResSNR.npy',accRes)"
   ]
  }
 ],
 "metadata": {
  "kernelspec": {
   "display_name": "Python 3",
   "language": "python",
   "name": "python3"
  },
  "language_info": {
   "codemirror_mode": {
    "name": "ipython",
    "version": 3
   },
   "file_extension": ".py",
   "mimetype": "text/x-python",
   "name": "python",
   "nbconvert_exporter": "python",
   "pygments_lexer": "ipython3",
   "version": "3.7.6"
  }
 },
 "nbformat": 4,
 "nbformat_minor": 4
}
