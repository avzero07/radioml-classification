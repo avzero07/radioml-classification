{
 "cells": [
  {
   "cell_type": "markdown",
   "metadata": {},
   "source": [
    "# Radio ML Classification - CNN Approach\n",
    "\n",
    "Solution to the RadioML classification challenge using CNNs."
   ]
  },
  {
   "cell_type": "code",
   "execution_count": 1,
   "metadata": {},
   "outputs": [],
   "source": [
    "# Loading Data\n",
    "\n",
    "pathToDataset = \"C:/Users/aksha/Documents/Jupyter Notebooks/radioml-classification/Datasets/Standard/RML2016.10a_dict.pkl\"\n",
    "\n",
    "# Extract the pickle file\n",
    "import pickle\n",
    "import numpy as np\n",
    "Xd = pickle.load(open(pathToDataset,'rb'),encoding=\"bytes\")\n",
    "snrs,mods = map(lambda j: sorted(list(set(map(lambda x: x[j], Xd.keys())))), [1,0])\n",
    "X = []  \n",
    "lbl = []\n",
    "for mod in mods:\n",
    "    for snr in snrs:\n",
    "        X.append(Xd[(mod,snr)])\n",
    "        for i in range(Xd[(mod,snr)].shape[0]):  lbl.append((mod,snr))\n",
    "X = np.vstack(X)"
   ]
  },
  {
   "cell_type": "markdown",
   "metadata": {},
   "source": [
    "# Description of Data\n",
    "\n",
    "The dataset has the size 220,000×2×128, which means that there are 220,000 entries, each consisting of an array of size 2 × 128. Each array represents the samples of about 128 µs of a received waveform sampled with approximately 106 samples/second, and it contains between 8 and 16 modulation symbols. Since the samples of the signal waveforms are complex-valued, they have been stored as real and imaginary parts, and therefore we have arrays of size 2 × 128 in the data set.\n",
    "\n",
    "That is, each row is essentially, **a + ib**.\n",
    "\n",
    "The labels of the downloaded dataset contain two parameters: the modulation technique used (one of [’8PSK’, ’AM-DSB’, ’AM-SSB’, ’BPSK’,’CPFSK’, ’GFSK’, ’PAM4’, ’QAM16’, ’QAM64’, ’QPSK’, ’WBFM’], so 11 possible modulation techniques), and the signal-to noise ratio (SNR) value (one of [−20, −18, −16, −14, −12, −10, −8, −6, −4, −2, 0, 2, 4, 6, 8, 10, 12, 14, 16, 18], so 20 possible SNR values). The SNR is a measure for the quality of the communication channel. The higher the SNR, the less “noisy” is the channel.\n",
    "\n",
    "Each item of the list is essentially like **(b'Modulation Type',SNR Value)** [Use os.fsdecode to extract Modulation Type as string] "
   ]
  },
  {
   "cell_type": "code",
   "execution_count": 2,
   "metadata": {},
   "outputs": [],
   "source": [
    "# Import Necessary Packages\n",
    "%matplotlib inline\n",
    "import os\n",
    "import random\n",
    "import tensorflow.keras.utils\n",
    "import tensorflow.keras.models as models\n",
    "from tensorflow.keras.layers import Reshape,Dense,Dropout,Activation,Flatten\n",
    "from tensorflow.keras.layers import GaussianNoise\n",
    "from tensorflow.keras.layers import Convolution2D, MaxPooling2D, ZeroPadding2D, BatchNormalization, LayerNormalization\n",
    "from tensorflow.keras.regularizers import *\n",
    "from tensorflow.keras.optimizers import *\n",
    "import matplotlib.pyplot as plt\n",
    "import seaborn as sns\n",
    "import tensorflow.keras\n",
    "import numpy as np"
   ]
  },
  {
   "cell_type": "markdown",
   "metadata": {},
   "source": [
    "# Data Processing\n",
    "\n",
    "The goal of this stage is to split data into Training, Validation and Testing data and then process the available data and transform (if needed) it into relevant inputs to be fed into the CNN.\n",
    "\n",
    "1. Split Dataset into Training, Validation and Testing Data : 110,000 samples for training and validation and 110,000 samples for testing."
   ]
  },
  {
   "cell_type": "code",
   "execution_count": 3,
   "metadata": {},
   "outputs": [],
   "source": [
    "#  into training and test sets of the form we can train/test on \n",
    "random.seed(777)\n",
    "np.random.seed(777)\n",
    "\n",
    "index = np.arange(0,220000)\n",
    "random.shuffle(index)\n",
    "\n",
    "trainIdx = index[0:110000]\n",
    "testIdx = index[110000:220000]\n",
    "\n",
    "trainX = X[trainIdx]\n",
    "\n",
    "\n",
    "# Create Validation Data Set\n",
    "indexVal = np.arange(0,110000)\n",
    "random.shuffle(indexVal)\n",
    "\n",
    "realTrainIdx = indexVal[0:99000] \n",
    "valIdx = indexVal[99000:110000]\n",
    "\n",
    "# Actual Training Data\n",
    "realTrainX = trainX[realTrainIdx]\n",
    "X_train = np.expand_dims(realTrainX, axis=-1) # Important\n",
    "\n",
    "# Actual Validation Data\n",
    "validX = trainX[valIdx]\n",
    "X_valid = np.expand_dims(validX, axis=-1) # Important\n",
    "\n",
    "# Actual Testing Data\n",
    "testX = X[testIdx]\n",
    "X_test = np.expand_dims(testX, axis=-1) # Important"
   ]
  },
  {
   "cell_type": "code",
   "execution_count": 4,
   "metadata": {},
   "outputs": [
    {
     "name": "stdout",
     "output_type": "stream",
     "text": [
      "[b'8PSK' b'AM-DSB' b'AM-SSB' b'BPSK' b'CPFSK' b'GFSK' b'PAM4' b'QAM16'\n",
      " b'QAM64' b'QPSK' b'WBFM']\n"
     ]
    }
   ],
   "source": [
    "# One Hot Encode Labels\n",
    "from sklearn import preprocessing\n",
    "lb = preprocessing.LabelBinarizer()\n",
    "lb.fit(np.asarray(lbl)[:,0])\n",
    "print(lb.classes_)\n",
    "lbl_encoded=lb.transform(np.asarray(lbl)[:,0])\n",
    "ytrain=lbl_encoded[trainIdx]\n",
    "\n",
    "y_train = ytrain[realTrainIdx]\n",
    "y_valid = ytrain[valIdx]\n",
    "y_test=lbl_encoded[testIdx]"
   ]
  },
  {
   "cell_type": "markdown",
   "metadata": {},
   "source": [
    "# Design Neural Network"
   ]
  },
  {
   "cell_type": "code",
   "execution_count": 5,
   "metadata": {},
   "outputs": [
    {
     "name": "stdout",
     "output_type": "stream",
     "text": [
      "Model: \"sequential\"\n",
      "_________________________________________________________________\n",
      "Layer (type)                 Output Shape              Param #   \n",
      "=================================================================\n",
      "Normalization_1 (BatchNormal (None, 2, 128, 1)         4         \n",
      "_________________________________________________________________\n",
      "ZPad1 (ZeroPadding2D)        (None, 2, 130, 1)         0         \n",
      "_________________________________________________________________\n",
      "Conv_1 (Conv2D)              (None, 2, 128, 64)        256       \n",
      "_________________________________________________________________\n",
      "dropout (Dropout)            (None, 2, 128, 64)        0         \n",
      "_________________________________________________________________\n",
      "ZPad1.5 (ZeroPadding2D)      (None, 4, 130, 64)        0         \n",
      "_________________________________________________________________\n",
      "Conv_1.5 (Conv2D)            (None, 4, 128, 32)        6176      \n",
      "_________________________________________________________________\n",
      "dropout_1 (Dropout)          (None, 4, 128, 32)        0         \n",
      "_________________________________________________________________\n",
      "ZPad2 (ZeroPadding2D)        (None, 6, 130, 32)        0         \n",
      "_________________________________________________________________\n",
      "Conv_2 (Conv2D)              (None, 5, 128, 16)        3088      \n",
      "_________________________________________________________________\n",
      "dropout_2 (Dropout)          (None, 5, 128, 16)        0         \n",
      "_________________________________________________________________\n",
      "flatten (Flatten)            (None, 10240)             0         \n",
      "_________________________________________________________________\n",
      "dense (Dense)                (None, 128)               1310848   \n",
      "_________________________________________________________________\n",
      "dropout_3 (Dropout)          (None, 128)               0         \n",
      "_________________________________________________________________\n",
      "dense_1 (Dense)              (None, 11)                1419      \n",
      "=================================================================\n",
      "Total params: 1,321,791\n",
      "Trainable params: 1,321,789\n",
      "Non-trainable params: 2\n",
      "_________________________________________________________________\n"
     ]
    }
   ],
   "source": [
    "# Network Parameters\n",
    "dropoutRate = 0.5\n",
    "\n",
    "# Structure\n",
    "inpShape = (2,128,1) # Shape of Input Data\n",
    "CNN1_numFilt = 64 # Number of Filters in CNN Layer 1\n",
    "CNN1_kernSize = (1,3) # Kernel Size of CNN Layer 1\n",
    "\n",
    "CNN15_numFilt = 32 # Number of Filters in CNN Layer 1.5\n",
    "CNN15_kernSize = (1,3) # Kernel Size of CNN Layer 1.5\n",
    "\n",
    "CNN2_numFilt = 16 # Number of Filters in CNN Layer 2\n",
    "CNN2_kernSize = (2,3) # Kernel Size of CNN Layer 2\n",
    "\n",
    "Dense1_numNeurons = 128 # Number of Nodes in the First Dense Layer\n",
    "numOutput = 11 # Number of Output Nodes\n",
    "\n",
    "# Weight Initialization\n",
    "weightInit = 'glorot_uniform' # Xavier Initialization\n",
    "\n",
    "# Activation Functions\n",
    "activationHidden = 'relu'\n",
    "activationOutput = 'softmax'\n",
    "\n",
    "# Loss Function\n",
    "lossFunction = 'categorical_crossentropy'\n",
    "\n",
    "# Learning Algorithm\n",
    "netOptimizer = 'adam'\n",
    "\n",
    "# Callbacks\n",
    "callbackList = [\n",
    "        tensorflow.keras.callbacks.ModelCheckpoint('Data/CNN-6/CNN-6-Weights_best.h5', monitor='val_loss', verbose=0, save_best_only=True, mode='auto'),\n",
    "        tensorflow.keras.callbacks.EarlyStopping(monitor='val_loss', patience=5, verbose=0, mode='auto')]\n",
    "\n",
    "# Construct Network\n",
    "model = models.Sequential()\n",
    "model.add(BatchNormalization(axis=-1,input_shape=inpShape, name='Normalization_1'))\n",
    "model.add(ZeroPadding2D(padding=(0,1),name='ZPad1'))\n",
    "model.add(Convolution2D(filters=CNN1_numFilt, kernel_size=CNN1_kernSize, activation=activationHidden, name='Conv_1'))\n",
    "model.add(Dropout(dropoutRate))\n",
    "model.add(ZeroPadding2D(padding=(1,1),name='ZPad1.5'))\n",
    "model.add(Convolution2D(filters=CNN15_numFilt, kernel_size=CNN15_kernSize, activation=activationHidden, name='Conv_1.5'))\n",
    "model.add(Dropout(dropoutRate))\n",
    "model.add(ZeroPadding2D(padding=(1,1),name='ZPad2'))\n",
    "model.add(Convolution2D(filters=CNN2_numFilt, kernel_size=CNN2_kernSize, activation=activationHidden, name='Conv_2'))\n",
    "model.add(Dropout(dropoutRate))\n",
    "model.add(Flatten())\n",
    "model.add(Dense(Dense1_numNeurons, activation=activationHidden))\n",
    "model.add(Dropout(dropoutRate))\n",
    "model.add(Dense(numOutput, activation=activationOutput))\n",
    "model.compile(loss=lossFunction, optimizer=netOptimizer,metrics=['categorical_accuracy'])\n",
    "model.summary()"
   ]
  },
  {
   "cell_type": "markdown",
   "metadata": {},
   "source": [
    "# Train Network"
   ]
  },
  {
   "cell_type": "code",
   "execution_count": 6,
   "metadata": {},
   "outputs": [],
   "source": [
    "numEpochs = 100\n",
    "batchSize = 1024"
   ]
  },
  {
   "cell_type": "code",
   "execution_count": 7,
   "metadata": {},
   "outputs": [
    {
     "name": "stdout",
     "output_type": "stream",
     "text": [
      "Train on 99000 samples, validate on 11000 samples\n",
      "Epoch 1/100\n",
      "99000/99000 - 17s - loss: 2.2159 - categorical_accuracy: 0.1930 - val_loss: 2.5830 - val_categorical_accuracy: 0.0923\n",
      "Epoch 2/100\n",
      "99000/99000 - 10s - loss: 1.9786 - categorical_accuracy: 0.2690 - val_loss: 2.5260 - val_categorical_accuracy: 0.0923\n",
      "Epoch 3/100\n",
      "99000/99000 - 10s - loss: 1.8408 - categorical_accuracy: 0.3078 - val_loss: 2.5549 - val_categorical_accuracy: 0.0923\n",
      "Epoch 4/100\n",
      "99000/99000 - 10s - loss: 1.7903 - categorical_accuracy: 0.3199 - val_loss: 2.4665 - val_categorical_accuracy: 0.1096\n",
      "Epoch 5/100\n",
      "99000/99000 - 10s - loss: 1.7456 - categorical_accuracy: 0.3324 - val_loss: 2.2111 - val_categorical_accuracy: 0.2442\n",
      "Epoch 6/100\n",
      "99000/99000 - 10s - loss: 1.7082 - categorical_accuracy: 0.3467 - val_loss: 1.9685 - val_categorical_accuracy: 0.2949\n",
      "Epoch 7/100\n",
      "99000/99000 - 10s - loss: 1.6692 - categorical_accuracy: 0.3612 - val_loss: 1.7242 - val_categorical_accuracy: 0.3511\n",
      "Epoch 8/100\n",
      "99000/99000 - 10s - loss: 1.6151 - categorical_accuracy: 0.3849 - val_loss: 1.6160 - val_categorical_accuracy: 0.3761\n",
      "Epoch 9/100\n",
      "99000/99000 - 10s - loss: 1.5529 - categorical_accuracy: 0.4128 - val_loss: 1.4575 - val_categorical_accuracy: 0.4519\n",
      "Epoch 10/100\n",
      "99000/99000 - 10s - loss: 1.5246 - categorical_accuracy: 0.4224 - val_loss: 1.4019 - val_categorical_accuracy: 0.4767\n",
      "Epoch 11/100\n",
      "99000/99000 - 10s - loss: 1.4978 - categorical_accuracy: 0.4310 - val_loss: 1.3586 - val_categorical_accuracy: 0.4935\n",
      "Epoch 12/100\n",
      "99000/99000 - 10s - loss: 1.4900 - categorical_accuracy: 0.4337 - val_loss: 1.3635 - val_categorical_accuracy: 0.4795\n",
      "Epoch 13/100\n",
      "99000/99000 - 10s - loss: 1.4696 - categorical_accuracy: 0.4398 - val_loss: 1.3506 - val_categorical_accuracy: 0.4849\n",
      "Epoch 14/100\n",
      "99000/99000 - 10s - loss: 1.4600 - categorical_accuracy: 0.4441 - val_loss: 1.3557 - val_categorical_accuracy: 0.4839\n",
      "Epoch 15/100\n",
      "99000/99000 - 10s - loss: 1.4531 - categorical_accuracy: 0.4461 - val_loss: 1.3255 - val_categorical_accuracy: 0.4958\n",
      "Epoch 16/100\n",
      "99000/99000 - 10s - loss: 1.4423 - categorical_accuracy: 0.4481 - val_loss: 1.3133 - val_categorical_accuracy: 0.5026\n",
      "Epoch 17/100\n",
      "99000/99000 - 10s - loss: 1.4303 - categorical_accuracy: 0.4543 - val_loss: 1.3132 - val_categorical_accuracy: 0.5030\n",
      "Epoch 18/100\n",
      "99000/99000 - 10s - loss: 1.4291 - categorical_accuracy: 0.4543 - val_loss: 1.3054 - val_categorical_accuracy: 0.5106\n",
      "Epoch 19/100\n",
      "99000/99000 - 10s - loss: 1.4172 - categorical_accuracy: 0.4581 - val_loss: 1.3007 - val_categorical_accuracy: 0.5117\n",
      "Epoch 20/100\n",
      "99000/99000 - 10s - loss: 1.4146 - categorical_accuracy: 0.4605 - val_loss: 1.3100 - val_categorical_accuracy: 0.5031\n",
      "Epoch 21/100\n",
      "99000/99000 - 10s - loss: 1.4085 - categorical_accuracy: 0.4616 - val_loss: 1.3070 - val_categorical_accuracy: 0.5010\n",
      "Epoch 22/100\n",
      "99000/99000 - 10s - loss: 1.4004 - categorical_accuracy: 0.4635 - val_loss: 1.2863 - val_categorical_accuracy: 0.5131\n",
      "Epoch 23/100\n",
      "99000/99000 - 10s - loss: 1.4023 - categorical_accuracy: 0.4634 - val_loss: 1.2966 - val_categorical_accuracy: 0.5125\n",
      "Epoch 24/100\n",
      "99000/99000 - 10s - loss: 1.3961 - categorical_accuracy: 0.4671 - val_loss: 1.2993 - val_categorical_accuracy: 0.5101\n",
      "Epoch 25/100\n",
      "99000/99000 - 10s - loss: 1.3930 - categorical_accuracy: 0.4648 - val_loss: 1.2917 - val_categorical_accuracy: 0.5132\n",
      "Epoch 26/100\n",
      "99000/99000 - 10s - loss: 1.3876 - categorical_accuracy: 0.4688 - val_loss: 1.2846 - val_categorical_accuracy: 0.5170\n",
      "Epoch 27/100\n",
      "99000/99000 - 10s - loss: 1.3855 - categorical_accuracy: 0.4692 - val_loss: 1.2901 - val_categorical_accuracy: 0.5110\n",
      "Epoch 28/100\n",
      "99000/99000 - 10s - loss: 1.3865 - categorical_accuracy: 0.4697 - val_loss: 1.2995 - val_categorical_accuracy: 0.5108\n",
      "Epoch 29/100\n",
      "99000/99000 - 10s - loss: 1.3804 - categorical_accuracy: 0.4713 - val_loss: 1.2819 - val_categorical_accuracy: 0.5219\n",
      "Epoch 30/100\n",
      "99000/99000 - 10s - loss: 1.3760 - categorical_accuracy: 0.4735 - val_loss: 1.2863 - val_categorical_accuracy: 0.5221\n",
      "Epoch 31/100\n",
      "99000/99000 - 10s - loss: 1.3747 - categorical_accuracy: 0.4744 - val_loss: 1.2717 - val_categorical_accuracy: 0.5267\n",
      "Epoch 32/100\n",
      "99000/99000 - 10s - loss: 1.3742 - categorical_accuracy: 0.4735 - val_loss: 1.2692 - val_categorical_accuracy: 0.5214\n",
      "Epoch 33/100\n",
      "99000/99000 - 10s - loss: 1.3732 - categorical_accuracy: 0.4728 - val_loss: 1.2846 - val_categorical_accuracy: 0.5213\n",
      "Epoch 34/100\n",
      "99000/99000 - 10s - loss: 1.3702 - categorical_accuracy: 0.4742 - val_loss: 1.2721 - val_categorical_accuracy: 0.5274\n",
      "Epoch 35/100\n",
      "99000/99000 - 10s - loss: 1.3675 - categorical_accuracy: 0.4748 - val_loss: 1.2722 - val_categorical_accuracy: 0.5233\n",
      "Epoch 36/100\n",
      "99000/99000 - 10s - loss: 1.3603 - categorical_accuracy: 0.4767 - val_loss: 1.2677 - val_categorical_accuracy: 0.5156\n",
      "Epoch 37/100\n",
      "99000/99000 - 10s - loss: 1.3599 - categorical_accuracy: 0.4761 - val_loss: 1.2686 - val_categorical_accuracy: 0.5262\n",
      "Epoch 38/100\n",
      "99000/99000 - 10s - loss: 1.3636 - categorical_accuracy: 0.4763 - val_loss: 1.2775 - val_categorical_accuracy: 0.5051\n",
      "Epoch 39/100\n",
      "99000/99000 - 10s - loss: 1.3603 - categorical_accuracy: 0.4780 - val_loss: 1.2638 - val_categorical_accuracy: 0.5206\n",
      "Epoch 40/100\n",
      "99000/99000 - 10s - loss: 1.3559 - categorical_accuracy: 0.4802 - val_loss: 1.2687 - val_categorical_accuracy: 0.5235\n",
      "Epoch 41/100\n",
      "99000/99000 - 10s - loss: 1.3558 - categorical_accuracy: 0.4790 - val_loss: 1.2739 - val_categorical_accuracy: 0.5241\n",
      "Epoch 42/100\n",
      "99000/99000 - 10s - loss: 1.3583 - categorical_accuracy: 0.4776 - val_loss: 1.2542 - val_categorical_accuracy: 0.5282\n",
      "Epoch 43/100\n",
      "99000/99000 - 10s - loss: 1.3515 - categorical_accuracy: 0.4808 - val_loss: 1.2613 - val_categorical_accuracy: 0.5215\n",
      "Epoch 44/100\n",
      "99000/99000 - 10s - loss: 1.3500 - categorical_accuracy: 0.4820 - val_loss: 1.2661 - val_categorical_accuracy: 0.5185\n",
      "Epoch 45/100\n",
      "99000/99000 - 10s - loss: 1.3463 - categorical_accuracy: 0.4824 - val_loss: 1.2528 - val_categorical_accuracy: 0.5265\n",
      "Epoch 46/100\n",
      "99000/99000 - 10s - loss: 1.3442 - categorical_accuracy: 0.4842 - val_loss: 1.2737 - val_categorical_accuracy: 0.5205\n",
      "Epoch 47/100\n",
      "99000/99000 - 10s - loss: 1.3452 - categorical_accuracy: 0.4846 - val_loss: 1.2627 - val_categorical_accuracy: 0.5207\n",
      "Epoch 48/100\n",
      "99000/99000 - 10s - loss: 1.3458 - categorical_accuracy: 0.4838 - val_loss: 1.2626 - val_categorical_accuracy: 0.5309\n",
      "Epoch 49/100\n",
      "99000/99000 - 10s - loss: 1.3423 - categorical_accuracy: 0.4860 - val_loss: 1.2740 - val_categorical_accuracy: 0.5237\n",
      "Epoch 50/100\n",
      "99000/99000 - 10s - loss: 1.3380 - categorical_accuracy: 0.4858 - val_loss: 1.2690 - val_categorical_accuracy: 0.5175\n"
     ]
    }
   ],
   "source": [
    "history = model.fit(X_train,y_train,epochs=numEpochs,batch_size=batchSize,validation_data=(X_valid,y_valid),callbacks=callbackList,verbose=2)"
   ]
  },
  {
   "cell_type": "code",
   "execution_count": 8,
   "metadata": {},
   "outputs": [],
   "source": [
    "# Save History\n",
    "np_loss_history = np.array(history.history[\"loss\"])\n",
    "np.save('Data/CNN-6/lossHist.npy',np_loss_history)\n",
    "\n",
    "np_accu_history = np.array(history.history[\"categorical_accuracy\"])\n",
    "np.save('Data/CNN-6/accuHist.npy',np_accu_history)\n",
    "\n",
    "np_val_loss_history = np.array(history.history[\"val_loss\"])\n",
    "np.save('Data/CNN-6/valLossHist.npy',np_val_loss_history)\n",
    "\n",
    "np_val_accu_history = np.array(history.history[\"val_categorical_accuracy\"])\n",
    "np.save('Data/CNN-6/valAccuHist.npy',np_val_accu_history)"
   ]
  },
  {
   "cell_type": "markdown",
   "metadata": {},
   "source": [
    "# Test/Evaluate Network"
   ]
  },
  {
   "cell_type": "code",
   "execution_count": 9,
   "metadata": {},
   "outputs": [
    {
     "name": "stdout",
     "output_type": "stream",
     "text": [
      "110000/110000 [==============================] - 21s 190us/sample - loss: 1.2577 - categorical_accuracy: 0.5196\n"
     ]
    },
    {
     "data": {
      "text/plain": [
       "[1.2576948481299661, 0.5196273]"
      ]
     },
     "execution_count": 9,
     "metadata": {},
     "output_type": "execute_result"
    }
   ],
   "source": [
    "# Re-load Best Weights\n",
    "model.load_weights('Data/CNN-6/CNN-6-Weights_best.h5')\n",
    "\n",
    "model.evaluate(X_test,y_test)"
   ]
  },
  {
   "cell_type": "markdown",
   "metadata": {},
   "source": [
    "# Visualize Results"
   ]
  },
  {
   "cell_type": "code",
   "execution_count": 12,
   "metadata": {},
   "outputs": [
    {
     "data": {
      "text/plain": [
       "<matplotlib.legend.Legend at 0x1edc8fd84c8>"
      ]
     },
     "execution_count": 12,
     "metadata": {},
     "output_type": "execute_result"
    },
    {
     "data": {
      "image/png": "[encoded data removed]",
      "text/plain": [
       "<Figure size 432x288 with 1 Axes>"
      ]
     },
     "metadata": {
      "needs_background": "light"
     },
     "output_type": "display_data"
    }
   ],
   "source": [
    "# Load Details of History\n",
    "lHist = np.load('Data/CNN-6/lossHist.npy')\n",
    "aHist = np.load('Data/CNN-6/accuHist.npy')\n",
    "\n",
    "vLHist = np.load('Data/CNN-6/valLossHist.npy')\n",
    "vAHist = np.load('Data/CNN-6/valAccuHist.npy')\n",
    "\n",
    "# Show loss curves \n",
    "plt.figure()\n",
    "plt.title('CNN 6 - Training performance')\n",
    "plt.plot(lHist, label='Training Loss')\n",
    "plt.plot(vLHist, label='Validation Loss')\n",
    "plt.xlabel('Epochs')\n",
    "plt.xticks(np.arange(0,len(lHist)+10,10),np.arange(1,len(lHist)+10,10))\n",
    "plt.ylabel('Loss')\n",
    "plt.legend()"
   ]
  },
  {
   "cell_type": "code",
   "execution_count": 13,
   "metadata": {},
   "outputs": [],
   "source": [
    "# Function to Extract Test Data of Specific SNR\n",
    "def extractTest(data,labels,labelsEncoded,testIndex,snr):\n",
    "    testData = data[testIndex]\n",
    "    labelArray = np.array([labels])\n",
    "    testLabels = labelArray[:,testIdx,:]\n",
    "    testLabelsEncoded = labelsEncoded[testIdx]\n",
    "    \n",
    "    idxOP = list()\n",
    "    \n",
    "    # Loop Through Label Array To Get Index of Specific SNR\n",
    "    for i in range(0,testLabels.shape[1]):\n",
    "        if testLabels[0,i,1].decode('ascii')==snr:\n",
    "            idxOP.append(i)\n",
    "    \n",
    "    # Return Subset of Test Data and Corresponding Labels\n",
    "    opTestData = np.expand_dims(testData[idxOP,:,:],axis=-1)\n",
    "    opTestLabel = testLabelsEncoded[idxOP]\n",
    "    \n",
    "    return opTestData, opTestLabel\n",
    "\n",
    "def plot_confusion_matrix(cm, titleAdd, title='CNN 6 - Confusion matrix', cmap=plt.cm.Blues, labels=[]):\n",
    "    plt.imshow(cm, interpolation='nearest', cmap=cmap)\n",
    "    plt.title(title+titleAdd)\n",
    "    plt.colorbar()\n",
    "    tick_marks = np.arange(len(labels))\n",
    "    plt.xticks(tick_marks, labels, rotation=45)\n",
    "    plt.yticks(tick_marks, labels)\n",
    "    plt.tight_layout()\n",
    "    plt.ylabel('True label')\n",
    "    plt.xlabel('Predicted label')\n",
    "\n",
    "# Confusion Matrix Function\n",
    "def prepConfMat(testData,testLabel,predTestLabel,mods,title):\n",
    "    modString = list()\n",
    "    for i in range(0,len(mods)):\n",
    "        modString.append(mods[i].decode('ascii'))\n",
    "    \n",
    "    conf = np.zeros([len(mods),len(mods)])\n",
    "    confnorm = np.zeros([len(mods),len(mods)])\n",
    "    for i in range(0,testData.shape[0]):\n",
    "        j = list(testLabel[i,:]).index(1)\n",
    "        k = int(np.argmax(predTestLabel[i,:]))\n",
    "        conf[j,k] = conf[j,k] + 1\n",
    "    for i in range(0,len(mods)):\n",
    "        confnorm[i,:] = conf[i,:] / np.sum(conf[i,:])\n",
    "    plot_confusion_matrix(confnorm, title, labels=modString)"
   ]
  },
  {
   "cell_type": "code",
   "execution_count": 14,
   "metadata": {},
   "outputs": [
    {
     "data": {
      "image/png": "[encoded data removed]",
      "text/plain": [
       "<Figure size 432x288 with 2 Axes>"
      ]
     },
     "metadata": {
      "needs_background": "light"
     },
     "output_type": "display_data"
    }
   ],
   "source": [
    "# Plot confusion matrix\n",
    "test_Y_hat = model.predict(X_test, batch_size=1024)\n",
    "\n",
    "prepConfMat(X_test,y_test,test_Y_hat,mods,' (All SNRs)')"
   ]
  },
  {
   "cell_type": "code",
   "execution_count": 16,
   "metadata": {
    "scrolled": true
   },
   "outputs": [
    {
     "data": {
      "image/png": "[encoded data removed]",
      "text/plain": [
       "<Figure size 432x288 with 2 Axes>"
      ]
     },
     "metadata": {
      "needs_background": "light"
     },
     "output_type": "display_data"
    }
   ],
   "source": [
    "# Plot Confusion Matrix for Specific SNR\n",
    "snr = '-12'\n",
    "title = ' (SNR = '+snr+')'\n",
    "x_testSNR, y_TestSNR = extractTest(X,lbl,lbl_encoded,testIdx,snr)\n",
    "y_hat_snr = model.predict(x_testSNR, batch_size=1024)\n",
    "prepConfMat(x_testSNR,y_TestSNR,y_hat_snr,mods,title)"
   ]
  },
  {
   "cell_type": "code",
   "execution_count": 17,
   "metadata": {},
   "outputs": [
    {
     "name": "stdout",
     "output_type": "stream",
     "text": [
      "Overall Accuracy:  0.09371057848260948 for SNR b'-20'\n",
      "Overall Accuracy:  0.09422657952069717 for SNR b'-18'\n",
      "Overall Accuracy:  0.08816535577098958 for SNR b'-16'\n",
      "Overall Accuracy:  0.10054545454545455 for SNR b'-14'\n",
      "Overall Accuracy:  0.11976263262003237 for SNR b'-12'\n",
      "Overall Accuracy:  0.19026629935720846 for SNR b'-10'\n",
      "Overall Accuracy:  0.31410373066424024 for SNR b'-8'\n",
      "Overall Accuracy:  0.500179856115108 for SNR b'-6'\n",
      "Overall Accuracy:  0.6322533406553176 for SNR b'-4'\n",
      "Overall Accuracy:  0.6919955735890815 for SNR b'-2'\n",
      "Overall Accuracy:  0.7312680115273775 for SNR b'0'\n",
      "Overall Accuracy:  0.7554577141808843 for SNR b'2'\n",
      "Overall Accuracy:  0.7489704565801253 for SNR b'4'\n",
      "Overall Accuracy:  0.760936093609361 for SNR b'6'\n",
      "Overall Accuracy:  0.762267657992565 for SNR b'8'\n",
      "Overall Accuracy:  0.7761085972850679 for SNR b'10'\n",
      "Overall Accuracy:  0.7569393718042366 for SNR b'12'\n",
      "Overall Accuracy:  0.7672540381791483 for SNR b'14'\n",
      "Overall Accuracy:  0.7446344125136414 for SNR b'16'\n",
      "Overall Accuracy:  0.768705035971223 for SNR b'18'\n",
      "Random Guess Accuracy: 0.09090909090909091\n"
     ]
    }
   ],
   "source": [
    "# Get the test accuracy for different SNRs\n",
    "acc = {}\n",
    "acc_array=[]\n",
    "\n",
    "snr_array=np.asarray(lbl)[:,1]\n",
    "lb_temp = preprocessing.LabelBinarizer()\n",
    "lb_temp.fit(snr_array)\n",
    "temp_array=lb_temp.classes_\n",
    "snr_label_array = []\n",
    "\n",
    "\n",
    "snr_label_array.append(temp_array[6])\n",
    "snr_label_array.append(temp_array[4])\n",
    "snr_label_array.append(temp_array[3])\n",
    "snr_label_array.append(temp_array[2])\n",
    "snr_label_array.append(temp_array[1])\n",
    "snr_label_array.append(temp_array[0])\n",
    "snr_label_array.append(temp_array[9])\n",
    "snr_label_array.append(temp_array[8])\n",
    "snr_label_array.append(temp_array[7])\n",
    "snr_label_array.append(temp_array[5])\n",
    "snr_label_array.append(temp_array[10])\n",
    "snr_label_array.append(temp_array[16])\n",
    "snr_label_array.append(temp_array[17])\n",
    "snr_label_array.append(temp_array[18])\n",
    "snr_label_array.append(temp_array[19])\n",
    "snr_label_array.append(temp_array[11])\n",
    "snr_label_array.append(temp_array[12])\n",
    "snr_label_array.append(temp_array[13])\n",
    "snr_label_array.append(temp_array[14])\n",
    "snr_label_array.append(temp_array[15])\n",
    "\n",
    "\n",
    "#print(snr_label_array)\n",
    "y_test_snr=snr_array[testIdx]\n",
    "\n",
    "\n",
    "\n",
    "for snr in snr_label_array:\n",
    "    test_X_i = X_test[np.where(y_test_snr==snr)]\n",
    "    test_Y_i = y_test[np.where(y_test_snr==snr)]\n",
    "    \n",
    "    test_Y_i_hat = model.predict(test_X_i)\n",
    "    conf = np.zeros([len(mods),len(mods)])\n",
    "    confnorm = np.zeros([len(mods),len(mods)])\n",
    "    for i in range(0,test_X_i.shape[0]):\n",
    "        j = list(test_Y_i[i,:]).index(1)\n",
    "        k = int(np.argmax(test_Y_i_hat[i,:]))\n",
    "        conf[j,k] = conf[j,k] + 1\n",
    "    for i in range(0,len(mods)):\n",
    "        confnorm[i,:] = conf[i,:] / np.sum(conf[i,:])\n",
    "    \n",
    "    #plt.figure()\n",
    "    #plot_confusion_matrix(confnorm, labels=classes, title=\"ConvNet Confusion Matrix (SNR=%d)\"%(snr))\n",
    "    \n",
    "    cor = np.sum(np.diag(conf))\n",
    "    ncor = np.sum(conf) - cor\n",
    "    print(\"Overall Accuracy: \", cor / (cor+ncor),\"for SNR\",snr)\n",
    "    acc[snr] = 1.0*cor/(cor+ncor)\n",
    "    acc_array.append(1.0*cor/(cor+ncor))\n",
    "\n",
    "print(\"Random Guess Accuracy:\",1/11)"
   ]
  },
  {
   "cell_type": "code",
   "execution_count": 18,
   "metadata": {},
   "outputs": [
    {
     "data": {
      "image/png": "[encoded data removed]",
      "text/plain": [
       "<Figure size 576x432 with 1 Axes>"
      ]
     },
     "metadata": {
      "needs_background": "light"
     },
     "output_type": "display_data"
    }
   ],
   "source": [
    "# Show loss curves \n",
    "plt.figure(figsize=(8, 6))\n",
    "plt.title('CNN 6 - Accuracy For Different SNRs')\n",
    "plt.plot(np.arange(-20,20,2), acc_array)\n",
    "plt.xlabel('SNR')\n",
    "plt.xticks(np.arange(-20,20,2))\n",
    "plt.ylabel('Class Accuracy')\n",
    "plt.grid()\n",
    "plt.show()"
   ]
  },
  {
   "cell_type": "code",
   "execution_count": null,
   "metadata": {},
   "outputs": [],
   "source": [
    "accRes = np.array([acc_array])\n",
    "np.save('Data/CNN-6/accResSNR.npy',accRes)"
   ]
  }
 ],
 "metadata": {
  "kernelspec": {
   "display_name": "Python 3",
   "language": "python",
   "name": "python3"
  },
  "language_info": {
   "codemirror_mode": {
    "name": "ipython",
    "version": 3
   },
   "file_extension": ".py",
   "mimetype": "text/x-python",
   "name": "python",
   "nbconvert_exporter": "python",
   "pygments_lexer": "ipython3",
   "version": "3.7.6"
  }
 },
 "nbformat": 4,
 "nbformat_minor": 4
}
