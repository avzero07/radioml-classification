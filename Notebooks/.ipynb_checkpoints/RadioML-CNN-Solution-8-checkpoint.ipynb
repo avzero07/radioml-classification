{
 "cells": [
  {
   "cell_type": "markdown",
   "metadata": {},
   "source": [
    "# Radio ML Classification - CNN Approach\n",
    "\n",
    "Solution to the RadioML classification challenge using CNNs."
   ]
  },
  {
   "cell_type": "code",
   "execution_count": 1,
   "metadata": {},
   "outputs": [],
   "source": [
    "# Loading Data\n",
    "\n",
    "pathToDataset = \"C:/Users/aksha/Documents/Jupyter Notebooks/radioml-classification/Datasets/Standard/RML2016.10a_dict.pkl\"\n",
    "\n",
    "# Extract the pickle file\n",
    "import pickle\n",
    "import numpy as np\n",
    "Xd = pickle.load(open(pathToDataset,'rb'),encoding=\"bytes\")\n",
    "snrs,mods = map(lambda j: sorted(list(set(map(lambda x: x[j], Xd.keys())))), [1,0])\n",
    "X = []  \n",
    "lbl = []\n",
    "for mod in mods:\n",
    "    for snr in snrs:\n",
    "        X.append(Xd[(mod,snr)])\n",
    "        for i in range(Xd[(mod,snr)].shape[0]):  lbl.append((mod,snr))\n",
    "X = np.vstack(X)"
   ]
  },
  {
   "cell_type": "markdown",
   "metadata": {},
   "source": [
    "# Description of Data\n",
    "\n",
    "The dataset has the size 220,000×2×128, which means that there are 220,000 entries, each consisting of an array of size 2 × 128. Each array represents the samples of about 128 µs of a received waveform sampled with approximately 106 samples/second, and it contains between 8 and 16 modulation symbols. Since the samples of the signal waveforms are complex-valued, they have been stored as real and imaginary parts, and therefore we have arrays of size 2 × 128 in the data set.\n",
    "\n",
    "That is, each row is essentially, **a + ib**.\n",
    "\n",
    "The labels of the downloaded dataset contain two parameters: the modulation technique used (one of [’8PSK’, ’AM-DSB’, ’AM-SSB’, ’BPSK’,’CPFSK’, ’GFSK’, ’PAM4’, ’QAM16’, ’QAM64’, ’QPSK’, ’WBFM’], so 11 possible modulation techniques), and the signal-to noise ratio (SNR) value (one of [−20, −18, −16, −14, −12, −10, −8, −6, −4, −2, 0, 2, 4, 6, 8, 10, 12, 14, 16, 18], so 20 possible SNR values). The SNR is a measure for the quality of the communication channel. The higher the SNR, the less “noisy” is the channel.\n",
    "\n",
    "Each item of the list is essentially like **(b'Modulation Type',SNR Value)** [Use os.fsdecode to extract Modulation Type as string] "
   ]
  },
  {
   "cell_type": "code",
   "execution_count": 2,
   "metadata": {},
   "outputs": [],
   "source": [
    "# Import Necessary Packages\n",
    "%matplotlib inline\n",
    "import os\n",
    "import random\n",
    "import tensorflow.keras.utils\n",
    "import tensorflow.keras.models as models\n",
    "from tensorflow.keras.layers import Reshape,Dense,Dropout,Activation,Flatten\n",
    "from tensorflow.keras.layers import GaussianNoise\n",
    "from tensorflow.keras.layers import Convolution2D, AveragePooling2D, ZeroPadding2D, BatchNormalization, LayerNormalization\n",
    "from tensorflow.keras.regularizers import *\n",
    "from tensorflow.keras.optimizers import *\n",
    "import matplotlib.pyplot as plt\n",
    "import seaborn as sns\n",
    "import tensorflow.keras\n",
    "import numpy as np"
   ]
  },
  {
   "cell_type": "markdown",
   "metadata": {},
   "source": [
    "# Data Processing\n",
    "\n",
    "The goal of this stage is to split data into Training, Validation and Testing data and then process the available data and transform (if needed) it into relevant inputs to be fed into the CNN.\n",
    "\n",
    "1. Split Dataset into Training, Validation and Testing Data : 110,000 samples for training and validation and 110,000 samples for testing."
   ]
  },
  {
   "cell_type": "code",
   "execution_count": 3,
   "metadata": {},
   "outputs": [],
   "source": [
    "#  into training and test sets of the form we can train/test on \n",
    "random.seed(777)\n",
    "np.random.seed(777)\n",
    "\n",
    "index = np.arange(0,220000)\n",
    "random.shuffle(index)\n",
    "\n",
    "trainIdx = index[0:110000]\n",
    "testIdx = index[110000:220000]\n",
    "\n",
    "trainX = X[trainIdx]\n",
    "\n",
    "\n",
    "# Create Validation Data Set\n",
    "indexVal = np.arange(0,110000)\n",
    "random.shuffle(indexVal)\n",
    "\n",
    "realTrainIdx = indexVal[0:99000] \n",
    "valIdx = indexVal[99000:110000]\n",
    "\n",
    "# Actual Training Data\n",
    "realTrainX = trainX[realTrainIdx]\n",
    "X_train = np.expand_dims(realTrainX, axis=-1) # Important\n",
    "\n",
    "# Actual Validation Data\n",
    "validX = trainX[valIdx]\n",
    "X_valid = np.expand_dims(validX, axis=-1) # Important\n",
    "\n",
    "# Actual Testing Data\n",
    "testX = X[testIdx]\n",
    "X_test = np.expand_dims(testX, axis=-1) # Important"
   ]
  },
  {
   "cell_type": "code",
   "execution_count": 4,
   "metadata": {},
   "outputs": [
    {
     "name": "stdout",
     "output_type": "stream",
     "text": [
      "[b'8PSK' b'AM-DSB' b'AM-SSB' b'BPSK' b'CPFSK' b'GFSK' b'PAM4' b'QAM16'\n",
      " b'QAM64' b'QPSK' b'WBFM']\n"
     ]
    }
   ],
   "source": [
    "# One Hot Encode Labels\n",
    "from sklearn import preprocessing\n",
    "lb = preprocessing.LabelBinarizer()\n",
    "lb.fit(np.asarray(lbl)[:,0])\n",
    "print(lb.classes_)\n",
    "lbl_encoded=lb.transform(np.asarray(lbl)[:,0])\n",
    "ytrain=lbl_encoded[trainIdx]\n",
    "\n",
    "y_train = ytrain[realTrainIdx]\n",
    "y_valid = ytrain[valIdx]\n",
    "y_test=lbl_encoded[testIdx]"
   ]
  },
  {
   "cell_type": "markdown",
   "metadata": {},
   "source": [
    "# Design Neural Network"
   ]
  },
  {
   "cell_type": "code",
   "execution_count": 5,
   "metadata": {},
   "outputs": [
    {
     "name": "stdout",
     "output_type": "stream",
     "text": [
      "Model: \"sequential\"\n",
      "_________________________________________________________________\n",
      "Layer (type)                 Output Shape              Param #   \n",
      "=================================================================\n",
      "Normalization_1 (BatchNormal (None, 2, 128, 1)         4         \n",
      "_________________________________________________________________\n",
      "ZPad1 (ZeroPadding2D)        (None, 2, 130, 1)         0         \n",
      "_________________________________________________________________\n",
      "Conv_1 (Conv2D)              (None, 2, 128, 64)        256       \n",
      "_________________________________________________________________\n",
      "average_pooling2d (AveragePo (None, 2, 64, 64)         0         \n",
      "_________________________________________________________________\n",
      "dropout (Dropout)            (None, 2, 64, 64)         0         \n",
      "_________________________________________________________________\n",
      "ZPad2 (ZeroPadding2D)        (None, 4, 66, 64)         0         \n",
      "_________________________________________________________________\n",
      "Conv_2 (Conv2D)              (None, 3, 64, 16)         6160      \n",
      "_________________________________________________________________\n",
      "average_pooling2d_1 (Average (None, 3, 32, 16)         0         \n",
      "_________________________________________________________________\n",
      "dropout_1 (Dropout)          (None, 3, 32, 16)         0         \n",
      "_________________________________________________________________\n",
      "flatten (Flatten)            (None, 1536)              0         \n",
      "_________________________________________________________________\n",
      "dense (Dense)                (None, 128)               196736    \n",
      "_________________________________________________________________\n",
      "dropout_2 (Dropout)          (None, 128)               0         \n",
      "_________________________________________________________________\n",
      "dense_1 (Dense)              (None, 11)                1419      \n",
      "=================================================================\n",
      "Total params: 204,575\n",
      "Trainable params: 204,573\n",
      "Non-trainable params: 2\n",
      "_________________________________________________________________\n"
     ]
    }
   ],
   "source": [
    "# Network Parameters\n",
    "dropoutRate = 0.5\n",
    "\n",
    "# Structure\n",
    "inpShape = (2,128,1) # Shape of Input Data\n",
    "CNN1_numFilt = 64 # Number of Filters in CNN Layer 1\n",
    "CNN1_kernSize = (1,3) # Kernel Size of CNN Layer 1\n",
    "\n",
    "CNN2_numFilt = 16 # Number of Filters in CNN Layer 2\n",
    "CNN2_kernSize = (2,3) # Kernel Size of CNN Layer 2\n",
    "\n",
    "Dense1_numNeurons = 128 # Number of Nodes in the First Dense Layer\n",
    "numOutput = 11 # Number of Output Nodes\n",
    "\n",
    "# Weight Initialization\n",
    "weightInit = 'glorot_uniform' # Xavier Initialization\n",
    "\n",
    "# Activation Functions\n",
    "activationHidden = 'relu'\n",
    "activationOutput = 'softmax'\n",
    "\n",
    "# Loss Function\n",
    "lossFunction = 'categorical_crossentropy'\n",
    "\n",
    "# Learning Algorithm\n",
    "netOptimizer = 'adam'\n",
    "\n",
    "# Callbacks\n",
    "callbackList = [\n",
    "        tensorflow.keras.callbacks.ModelCheckpoint('Data/CNN-8/CNN-8-Weights_best.h5', monitor='val_loss', verbose=0, save_best_only=True, mode='auto'),\n",
    "        tensorflow.keras.callbacks.EarlyStopping(monitor='val_loss', patience=5, verbose=0, mode='auto')]\n",
    "\n",
    "# Construct Network\n",
    "model = models.Sequential()\n",
    "model.add(BatchNormalization(axis=-1,input_shape=inpShape, name='Normalization_1'))\n",
    "model.add(ZeroPadding2D(padding=(0,1),name='ZPad1'))\n",
    "model.add(Convolution2D(filters=CNN1_numFilt, kernel_size=CNN1_kernSize, activation=activationHidden, name='Conv_1'))\n",
    "model.add(AveragePooling2D(pool_size=(1, 2),padding='valid'))\n",
    "model.add(Dropout(dropoutRate))\n",
    "model.add(ZeroPadding2D(padding=(1,1),input_shape=inpShape,name='ZPad2'))\n",
    "model.add(Convolution2D(filters=CNN2_numFilt, kernel_size=CNN2_kernSize, activation=activationHidden, name='Conv_2'))\n",
    "model.add(AveragePooling2D(pool_size=(1, 2),padding='valid'))\n",
    "model.add(Dropout(dropoutRate))\n",
    "model.add(Flatten())\n",
    "model.add(Dense(Dense1_numNeurons, activation=activationHidden))\n",
    "model.add(Dropout(dropoutRate))\n",
    "model.add(Dense(numOutput, activation=activationOutput))\n",
    "model.compile(loss=lossFunction, optimizer=netOptimizer,metrics=['categorical_accuracy'])\n",
    "model.summary()"
   ]
  },
  {
   "cell_type": "markdown",
   "metadata": {},
   "source": [
    "# Train Network"
   ]
  },
  {
   "cell_type": "code",
   "execution_count": 6,
   "metadata": {},
   "outputs": [],
   "source": [
    "numEpochs = 100\n",
    "batchSize = 1024"
   ]
  },
  {
   "cell_type": "code",
   "execution_count": 7,
   "metadata": {},
   "outputs": [
    {
     "name": "stdout",
     "output_type": "stream",
     "text": [
      "Train on 99000 samples, validate on 11000 samples\n",
      "Epoch 1/100\n",
      "99000/99000 - 11s - loss: 2.1614 - categorical_accuracy: 0.2125 - val_loss: 2.3867 - val_categorical_accuracy: 0.1291\n",
      "Epoch 2/100\n",
      "99000/99000 - 4s - loss: 1.9499 - categorical_accuracy: 0.2737 - val_loss: 2.3852 - val_categorical_accuracy: 0.1401\n",
      "Epoch 3/100\n",
      "99000/99000 - 4s - loss: 1.8612 - categorical_accuracy: 0.2960 - val_loss: 2.2903 - val_categorical_accuracy: 0.1475\n",
      "Epoch 4/100\n",
      "99000/99000 - 4s - loss: 1.7887 - categorical_accuracy: 0.3170 - val_loss: 2.1285 - val_categorical_accuracy: 0.2262\n",
      "Epoch 5/100\n",
      "99000/99000 - 4s - loss: 1.7304 - categorical_accuracy: 0.3329 - val_loss: 1.9238 - val_categorical_accuracy: 0.3075\n",
      "Epoch 6/100\n",
      "99000/99000 - 4s - loss: 1.6899 - categorical_accuracy: 0.3439 - val_loss: 1.7495 - val_categorical_accuracy: 0.3456\n",
      "Epoch 7/100\n",
      "99000/99000 - 4s - loss: 1.6605 - categorical_accuracy: 0.3554 - val_loss: 1.6440 - val_categorical_accuracy: 0.3697\n",
      "Epoch 8/100\n",
      "99000/99000 - 4s - loss: 1.6399 - categorical_accuracy: 0.3593 - val_loss: 1.5717 - val_categorical_accuracy: 0.3948\n",
      "Epoch 9/100\n",
      "99000/99000 - 4s - loss: 1.6235 - categorical_accuracy: 0.3669 - val_loss: 1.5426 - val_categorical_accuracy: 0.4105\n",
      "Epoch 10/100\n",
      "99000/99000 - 4s - loss: 1.6032 - categorical_accuracy: 0.3750 - val_loss: 1.5027 - val_categorical_accuracy: 0.4273\n",
      "Epoch 11/100\n",
      "99000/99000 - 4s - loss: 1.5845 - categorical_accuracy: 0.3828 - val_loss: 1.4759 - val_categorical_accuracy: 0.4439\n",
      "Epoch 12/100\n",
      "99000/99000 - 4s - loss: 1.5616 - categorical_accuracy: 0.3916 - val_loss: 1.4545 - val_categorical_accuracy: 0.4515\n",
      "Epoch 13/100\n",
      "99000/99000 - 4s - loss: 1.5385 - categorical_accuracy: 0.4049 - val_loss: 1.4257 - val_categorical_accuracy: 0.4615\n",
      "Epoch 14/100\n",
      "99000/99000 - 4s - loss: 1.5152 - categorical_accuracy: 0.4173 - val_loss: 1.3998 - val_categorical_accuracy: 0.4712\n",
      "Epoch 15/100\n",
      "99000/99000 - 4s - loss: 1.4945 - categorical_accuracy: 0.4257 - val_loss: 1.3818 - val_categorical_accuracy: 0.4769\n",
      "Epoch 16/100\n",
      "99000/99000 - 4s - loss: 1.4788 - categorical_accuracy: 0.4319 - val_loss: 1.3670 - val_categorical_accuracy: 0.4843\n",
      "Epoch 17/100\n",
      "99000/99000 - 4s - loss: 1.4672 - categorical_accuracy: 0.4358 - val_loss: 1.3402 - val_categorical_accuracy: 0.4949\n",
      "Epoch 18/100\n",
      "99000/99000 - 4s - loss: 1.4579 - categorical_accuracy: 0.4408 - val_loss: 1.3440 - val_categorical_accuracy: 0.4864\n",
      "Epoch 19/100\n",
      "99000/99000 - 4s - loss: 1.4496 - categorical_accuracy: 0.4429 - val_loss: 1.3398 - val_categorical_accuracy: 0.4937\n",
      "Epoch 20/100\n",
      "99000/99000 - 4s - loss: 1.4395 - categorical_accuracy: 0.4479 - val_loss: 1.3330 - val_categorical_accuracy: 0.4884\n",
      "Epoch 21/100\n",
      "99000/99000 - 4s - loss: 1.4323 - categorical_accuracy: 0.4499 - val_loss: 1.3214 - val_categorical_accuracy: 0.4984\n",
      "Epoch 22/100\n",
      "99000/99000 - 4s - loss: 1.4273 - categorical_accuracy: 0.4532 - val_loss: 1.3100 - val_categorical_accuracy: 0.4976\n",
      "Epoch 23/100\n",
      "99000/99000 - 4s - loss: 1.4221 - categorical_accuracy: 0.4537 - val_loss: 1.3172 - val_categorical_accuracy: 0.4937\n",
      "Epoch 24/100\n",
      "99000/99000 - 4s - loss: 1.4159 - categorical_accuracy: 0.4560 - val_loss: 1.2973 - val_categorical_accuracy: 0.5048\n",
      "Epoch 25/100\n",
      "99000/99000 - 4s - loss: 1.4134 - categorical_accuracy: 0.4576 - val_loss: 1.3089 - val_categorical_accuracy: 0.4935\n",
      "Epoch 26/100\n",
      "99000/99000 - 4s - loss: 1.4060 - categorical_accuracy: 0.4606 - val_loss: 1.3016 - val_categorical_accuracy: 0.4989\n",
      "Epoch 27/100\n",
      "99000/99000 - 4s - loss: 1.4033 - categorical_accuracy: 0.4606 - val_loss: 1.2990 - val_categorical_accuracy: 0.5052\n",
      "Epoch 28/100\n",
      "99000/99000 - 4s - loss: 1.3991 - categorical_accuracy: 0.4620 - val_loss: 1.2922 - val_categorical_accuracy: 0.5001\n",
      "Epoch 29/100\n",
      "99000/99000 - 4s - loss: 1.3951 - categorical_accuracy: 0.4635 - val_loss: 1.2888 - val_categorical_accuracy: 0.5059\n",
      "Epoch 30/100\n",
      "99000/99000 - 4s - loss: 1.3896 - categorical_accuracy: 0.4654 - val_loss: 1.2919 - val_categorical_accuracy: 0.4953\n",
      "Epoch 31/100\n",
      "99000/99000 - 4s - loss: 1.3910 - categorical_accuracy: 0.4641 - val_loss: 1.3041 - val_categorical_accuracy: 0.4893\n",
      "Epoch 32/100\n",
      "99000/99000 - 4s - loss: 1.3852 - categorical_accuracy: 0.4661 - val_loss: 1.2876 - val_categorical_accuracy: 0.5026\n",
      "Epoch 33/100\n",
      "99000/99000 - 4s - loss: 1.3804 - categorical_accuracy: 0.4699 - val_loss: 1.2793 - val_categorical_accuracy: 0.5084\n",
      "Epoch 34/100\n",
      "99000/99000 - 4s - loss: 1.3790 - categorical_accuracy: 0.4694 - val_loss: 1.2889 - val_categorical_accuracy: 0.5058\n",
      "Epoch 35/100\n",
      "99000/99000 - 4s - loss: 1.3741 - categorical_accuracy: 0.4706 - val_loss: 1.2745 - val_categorical_accuracy: 0.5093\n",
      "Epoch 36/100\n",
      "99000/99000 - 4s - loss: 1.3745 - categorical_accuracy: 0.4712 - val_loss: 1.2837 - val_categorical_accuracy: 0.5094\n",
      "Epoch 37/100\n",
      "99000/99000 - 4s - loss: 1.3705 - categorical_accuracy: 0.4718 - val_loss: 1.2861 - val_categorical_accuracy: 0.5098\n",
      "Epoch 38/100\n",
      "99000/99000 - 4s - loss: 1.3710 - categorical_accuracy: 0.4723 - val_loss: 1.2795 - val_categorical_accuracy: 0.5049\n",
      "Epoch 39/100\n",
      "99000/99000 - 4s - loss: 1.3668 - categorical_accuracy: 0.4732 - val_loss: 1.2685 - val_categorical_accuracy: 0.5082\n",
      "Epoch 40/100\n",
      "99000/99000 - 4s - loss: 1.3632 - categorical_accuracy: 0.4754 - val_loss: 1.2730 - val_categorical_accuracy: 0.5125\n",
      "Epoch 41/100\n",
      "99000/99000 - 4s - loss: 1.3643 - categorical_accuracy: 0.4743 - val_loss: 1.2746 - val_categorical_accuracy: 0.5095\n",
      "Epoch 42/100\n",
      "99000/99000 - 4s - loss: 1.3579 - categorical_accuracy: 0.4774 - val_loss: 1.2623 - val_categorical_accuracy: 0.5185\n",
      "Epoch 43/100\n",
      "99000/99000 - 4s - loss: 1.3548 - categorical_accuracy: 0.4789 - val_loss: 1.2670 - val_categorical_accuracy: 0.5175\n",
      "Epoch 44/100\n",
      "99000/99000 - 4s - loss: 1.3545 - categorical_accuracy: 0.4781 - val_loss: 1.2693 - val_categorical_accuracy: 0.5076\n",
      "Epoch 45/100\n",
      "99000/99000 - 4s - loss: 1.3513 - categorical_accuracy: 0.4796 - val_loss: 1.2670 - val_categorical_accuracy: 0.5188\n",
      "Epoch 46/100\n",
      "99000/99000 - 4s - loss: 1.3533 - categorical_accuracy: 0.4818 - val_loss: 1.2609 - val_categorical_accuracy: 0.5173\n",
      "Epoch 47/100\n",
      "99000/99000 - 4s - loss: 1.3481 - categorical_accuracy: 0.4807 - val_loss: 1.2677 - val_categorical_accuracy: 0.5137\n",
      "Epoch 48/100\n",
      "99000/99000 - 4s - loss: 1.3453 - categorical_accuracy: 0.4828 - val_loss: 1.2637 - val_categorical_accuracy: 0.5126\n",
      "Epoch 49/100\n",
      "99000/99000 - 4s - loss: 1.3445 - categorical_accuracy: 0.4822 - val_loss: 1.2539 - val_categorical_accuracy: 0.5234\n",
      "Epoch 50/100\n",
      "99000/99000 - 4s - loss: 1.3425 - categorical_accuracy: 0.4840 - val_loss: 1.2627 - val_categorical_accuracy: 0.5130\n",
      "Epoch 51/100\n",
      "99000/99000 - 4s - loss: 1.3417 - categorical_accuracy: 0.4839 - val_loss: 1.2515 - val_categorical_accuracy: 0.5184\n",
      "Epoch 52/100\n",
      "99000/99000 - 4s - loss: 1.3411 - categorical_accuracy: 0.4858 - val_loss: 1.2550 - val_categorical_accuracy: 0.5180\n",
      "Epoch 53/100\n",
      "99000/99000 - 4s - loss: 1.3371 - categorical_accuracy: 0.4858 - val_loss: 1.2436 - val_categorical_accuracy: 0.5220\n",
      "Epoch 54/100\n",
      "99000/99000 - 4s - loss: 1.3354 - categorical_accuracy: 0.4859 - val_loss: 1.2549 - val_categorical_accuracy: 0.5222\n",
      "Epoch 55/100\n",
      "99000/99000 - 4s - loss: 1.3335 - categorical_accuracy: 0.4849 - val_loss: 1.2480 - val_categorical_accuracy: 0.5228\n",
      "Epoch 56/100\n",
      "99000/99000 - 4s - loss: 1.3333 - categorical_accuracy: 0.4877 - val_loss: 1.2515 - val_categorical_accuracy: 0.5250\n",
      "Epoch 57/100\n",
      "99000/99000 - 4s - loss: 1.3270 - categorical_accuracy: 0.4903 - val_loss: 1.2421 - val_categorical_accuracy: 0.5302\n",
      "Epoch 58/100\n",
      "99000/99000 - 4s - loss: 1.3299 - categorical_accuracy: 0.4892 - val_loss: 1.2567 - val_categorical_accuracy: 0.5219\n",
      "Epoch 59/100\n",
      "99000/99000 - 4s - loss: 1.3322 - categorical_accuracy: 0.4879 - val_loss: 1.2453 - val_categorical_accuracy: 0.5299\n",
      "Epoch 60/100\n",
      "99000/99000 - 4s - loss: 1.3271 - categorical_accuracy: 0.4892 - val_loss: 1.2391 - val_categorical_accuracy: 0.5302\n",
      "Epoch 61/100\n",
      "99000/99000 - 4s - loss: 1.3278 - categorical_accuracy: 0.4881 - val_loss: 1.2526 - val_categorical_accuracy: 0.5190\n",
      "Epoch 62/100\n",
      "99000/99000 - 4s - loss: 1.3271 - categorical_accuracy: 0.4913 - val_loss: 1.2555 - val_categorical_accuracy: 0.5275\n",
      "Epoch 63/100\n",
      "99000/99000 - 4s - loss: 1.3269 - categorical_accuracy: 0.4893 - val_loss: 1.2416 - val_categorical_accuracy: 0.5312\n"
     ]
    },
    {
     "name": "stdout",
     "output_type": "stream",
     "text": [
      "Epoch 64/100\n",
      "99000/99000 - 4s - loss: 1.3219 - categorical_accuracy: 0.4929 - val_loss: 1.2537 - val_categorical_accuracy: 0.5175\n",
      "Epoch 65/100\n",
      "99000/99000 - 4s - loss: 1.3235 - categorical_accuracy: 0.4899 - val_loss: 1.2384 - val_categorical_accuracy: 0.5325\n",
      "Epoch 66/100\n",
      "99000/99000 - 4s - loss: 1.3222 - categorical_accuracy: 0.4932 - val_loss: 1.2398 - val_categorical_accuracy: 0.5237\n",
      "Epoch 67/100\n",
      "99000/99000 - 4s - loss: 1.3221 - categorical_accuracy: 0.4933 - val_loss: 1.2399 - val_categorical_accuracy: 0.5285\n",
      "Epoch 68/100\n",
      "99000/99000 - 4s - loss: 1.3184 - categorical_accuracy: 0.4940 - val_loss: 1.2415 - val_categorical_accuracy: 0.5308\n",
      "Epoch 69/100\n",
      "99000/99000 - 4s - loss: 1.3184 - categorical_accuracy: 0.4919 - val_loss: 1.2413 - val_categorical_accuracy: 0.5223\n",
      "Epoch 70/100\n",
      "99000/99000 - 4s - loss: 1.3187 - categorical_accuracy: 0.4927 - val_loss: 1.2418 - val_categorical_accuracy: 0.5256\n"
     ]
    }
   ],
   "source": [
    "history = model.fit(X_train,y_train,epochs=numEpochs,batch_size=batchSize,validation_data=(X_valid,y_valid),callbacks=callbackList,verbose=2)"
   ]
  },
  {
   "cell_type": "code",
   "execution_count": 8,
   "metadata": {},
   "outputs": [],
   "source": [
    "# Save History\n",
    "np_loss_history = np.array(history.history[\"loss\"])\n",
    "np.save('Data/CNN-8/lossHist.npy',np_loss_history)\n",
    "\n",
    "np_accu_history = np.array(history.history[\"categorical_accuracy\"])\n",
    "np.save('Data/CNN-8/accuHist.npy',np_accu_history)\n",
    "\n",
    "np_val_loss_history = np.array(history.history[\"val_loss\"])\n",
    "np.save('Data/CNN-8/valLossHist.npy',np_val_loss_history)\n",
    "\n",
    "np_val_accu_history = np.array(history.history[\"val_categorical_accuracy\"])\n",
    "np.save('Data/CNN-8/valAccuHist.npy',np_val_accu_history)"
   ]
  },
  {
   "cell_type": "markdown",
   "metadata": {},
   "source": [
    "# Test/Evaluate Network"
   ]
  },
  {
   "cell_type": "code",
   "execution_count": 6,
   "metadata": {},
   "outputs": [
    {
     "name": "stdout",
     "output_type": "stream",
     "text": [
      "110000/110000 [==============================] - 31s 285us/sample - loss: 1.2412 - categorical_accuracy: 0.5255\n"
     ]
    },
    {
     "data": {
      "text/plain": [
       "[1.2412169140555642, 0.5254545]"
      ]
     },
     "execution_count": 6,
     "metadata": {},
     "output_type": "execute_result"
    }
   ],
   "source": [
    "# Re-load Best Weights\n",
    "model.load_weights('Data/CNN-8/CNN-8-Weights_best.h5')\n",
    "\n",
    "model.evaluate(X_test,y_test)"
   ]
  },
  {
   "cell_type": "markdown",
   "metadata": {},
   "source": [
    "# Visualize Results"
   ]
  },
  {
   "cell_type": "code",
   "execution_count": 7,
   "metadata": {},
   "outputs": [
    {
     "data": {
      "text/plain": [
       "<matplotlib.legend.Legend at 0x1d6fb334988>"
      ]
     },
     "execution_count": 7,
     "metadata": {},
     "output_type": "execute_result"
    },
    {
     "data": {
      "image/png": "[encoded data removed]",
      "text/plain": [
       "<Figure size 432x288 with 1 Axes>"
      ]
     },
     "metadata": {
      "needs_background": "light"
     },
     "output_type": "display_data"
    }
   ],
   "source": [
    "# Load Details of History\n",
    "lHist = np.load('Data/CNN-8/lossHist.npy')\n",
    "aHist = np.load('Data/CNN-8/accuHist.npy')\n",
    "\n",
    "vLHist = np.load('Data/CNN-8/valLossHist.npy')\n",
    "vAHist = np.load('Data/CNN-8/valAccuHist.npy')\n",
    "\n",
    "# Show loss curves \n",
    "plt.figure()\n",
    "plt.title('CNN 8 - Training performance')\n",
    "plt.plot(lHist, label='Training Loss')\n",
    "plt.plot(vLHist, label='Validation Loss')\n",
    "plt.xlabel('Epochs')\n",
    "plt.xticks(np.arange(0,len(lHist)+10,10),np.arange(1,len(lHist)+10,10))\n",
    "plt.ylabel('Loss')\n",
    "plt.legend()"
   ]
  },
  {
   "cell_type": "code",
   "execution_count": 8,
   "metadata": {},
   "outputs": [],
   "source": [
    "# Function to Extract Test Data of Specific SNR\n",
    "def extractTest(data,labels,labelsEncoded,testIndex,snr):\n",
    "    testData = data[testIndex]\n",
    "    labelArray = np.array([labels])\n",
    "    testLabels = labelArray[:,testIdx,:]\n",
    "    testLabelsEncoded = labelsEncoded[testIdx]\n",
    "    \n",
    "    idxOP = list()\n",
    "    \n",
    "    # Loop Through Label Array To Get Index of Specific SNR\n",
    "    for i in range(0,testLabels.shape[1]):\n",
    "        if testLabels[0,i,1].decode('ascii')==snr:\n",
    "            idxOP.append(i)\n",
    "    \n",
    "    # Return Subset of Test Data and Corresponding Labels\n",
    "    opTestData = np.expand_dims(testData[idxOP,:,:],axis=-1)\n",
    "    opTestLabel = testLabelsEncoded[idxOP]\n",
    "    \n",
    "    return opTestData, opTestLabel\n",
    "\n",
    "def plot_confusion_matrix(cm, titleAdd, title='CNN 8 - Confusion matrix', cmap=plt.cm.Blues, labels=[]):\n",
    "    plt.imshow(cm, interpolation='nearest', cmap=cmap)\n",
    "    plt.title(title+titleAdd)\n",
    "    plt.colorbar()\n",
    "    tick_marks = np.arange(len(labels))\n",
    "    plt.xticks(tick_marks, labels, rotation=45)\n",
    "    plt.yticks(tick_marks, labels)\n",
    "    plt.tight_layout()\n",
    "    plt.ylabel('True label')\n",
    "    plt.xlabel('Predicted label')\n",
    "\n",
    "# Confusion Matrix Function\n",
    "def prepConfMat(testData,testLabel,predTestLabel,mods,title):\n",
    "    modString = list()\n",
    "    for i in range(0,len(mods)):\n",
    "        modString.append(mods[i].decode('ascii'))\n",
    "    \n",
    "    conf = np.zeros([len(mods),len(mods)])\n",
    "    confnorm = np.zeros([len(mods),len(mods)])\n",
    "    for i in range(0,testData.shape[0]):\n",
    "        j = list(testLabel[i,:]).index(1)\n",
    "        k = int(np.argmax(predTestLabel[i,:]))\n",
    "        conf[j,k] = conf[j,k] + 1\n",
    "    for i in range(0,len(mods)):\n",
    "        confnorm[i,:] = conf[i,:] / np.sum(conf[i,:])\n",
    "    plot_confusion_matrix(confnorm, title, labels=modString)"
   ]
  },
  {
   "cell_type": "code",
   "execution_count": 9,
   "metadata": {},
   "outputs": [
    {
     "data": {
      "image/png": "[encoded data removed]",
      "text/plain": [
       "<Figure size 432x288 with 2 Axes>"
      ]
     },
     "metadata": {
      "needs_background": "light"
     },
     "output_type": "display_data"
    }
   ],
   "source": [
    "# Plot confusion matrix\n",
    "test_Y_hat = model.predict(X_test, batch_size=1024)\n",
    "\n",
    "prepConfMat(X_test,y_test,test_Y_hat,mods,' (All SNRs)')"
   ]
  },
  {
   "cell_type": "code",
   "execution_count": 10,
   "metadata": {
    "scrolled": true
   },
   "outputs": [
    {
     "data": {
      "image/png": "[encoded data removed]",
      "text/plain": [
       "<Figure size 432x288 with 2 Axes>"
      ]
     },
     "metadata": {
      "needs_background": "light"
     },
     "output_type": "display_data"
    }
   ],
   "source": [
    "# Plot Confusion Matrix for Specific SNR\n",
    "snr = '-6'\n",
    "title = ' (SNR = '+snr+')'\n",
    "x_testSNR, y_TestSNR = extractTest(X,lbl,lbl_encoded,testIdx,snr)\n",
    "y_hat_snr = model.predict(x_testSNR, batch_size=1024)\n",
    "prepConfMat(x_testSNR,y_TestSNR,y_hat_snr,mods,title)"
   ]
  },
  {
   "cell_type": "code",
   "execution_count": 11,
   "metadata": {},
   "outputs": [
    {
     "name": "stdout",
     "output_type": "stream",
     "text": [
      "Overall Accuracy:  0.09533249234096233 for SNR b'-20'\n",
      "Overall Accuracy:  0.09368191721132897 for SNR b'-18'\n",
      "Overall Accuracy:  0.08907993415035668 for SNR b'-16'\n",
      "Overall Accuracy:  0.10218181818181818 for SNR b'-14'\n",
      "Overall Accuracy:  0.12030210393814063 for SNR b'-12'\n",
      "Overall Accuracy:  0.18769513314967862 for SNR b'-10'\n",
      "Overall Accuracy:  0.3275705186533212 for SNR b'-8'\n",
      "Overall Accuracy:  0.5140287769784173 for SNR b'-6'\n",
      "Overall Accuracy:  0.6403075233388248 for SNR b'-4'\n",
      "Overall Accuracy:  0.6960531169310218 for SNR b'-2'\n",
      "Overall Accuracy:  0.7354106628242075 for SNR b'0'\n",
      "Overall Accuracy:  0.7633461750137589 for SNR b'2'\n",
      "Overall Accuracy:  0.7597135183527305 for SNR b'4'\n",
      "Overall Accuracy:  0.7668766876687669 for SNR b'6'\n",
      "Overall Accuracy:  0.7663568773234201 for SNR b'8'\n",
      "Overall Accuracy:  0.7788235294117647 for SNR b'10'\n",
      "Overall Accuracy:  0.7708181154127101 for SNR b'12'\n",
      "Overall Accuracy:  0.7756975036710719 for SNR b'14'\n",
      "Overall Accuracy:  0.7562750090942161 for SNR b'16'\n",
      "Overall Accuracy:  0.7746402877697842 for SNR b'18'\n",
      "Random Guess Accuracy: 0.09090909090909091\n"
     ]
    }
   ],
   "source": [
    "# Get the test accuracy for different SNRs\n",
    "acc = {}\n",
    "acc_array=[]\n",
    "\n",
    "snr_array=np.asarray(lbl)[:,1]\n",
    "lb_temp = preprocessing.LabelBinarizer()\n",
    "lb_temp.fit(snr_array)\n",
    "temp_array=lb_temp.classes_\n",
    "snr_label_array = []\n",
    "\n",
    "\n",
    "snr_label_array.append(temp_array[6])\n",
    "snr_label_array.append(temp_array[4])\n",
    "snr_label_array.append(temp_array[3])\n",
    "snr_label_array.append(temp_array[2])\n",
    "snr_label_array.append(temp_array[1])\n",
    "snr_label_array.append(temp_array[0])\n",
    "snr_label_array.append(temp_array[9])\n",
    "snr_label_array.append(temp_array[8])\n",
    "snr_label_array.append(temp_array[7])\n",
    "snr_label_array.append(temp_array[5])\n",
    "snr_label_array.append(temp_array[10])\n",
    "snr_label_array.append(temp_array[16])\n",
    "snr_label_array.append(temp_array[17])\n",
    "snr_label_array.append(temp_array[18])\n",
    "snr_label_array.append(temp_array[19])\n",
    "snr_label_array.append(temp_array[11])\n",
    "snr_label_array.append(temp_array[12])\n",
    "snr_label_array.append(temp_array[13])\n",
    "snr_label_array.append(temp_array[14])\n",
    "snr_label_array.append(temp_array[15])\n",
    "\n",
    "\n",
    "#print(snr_label_array)\n",
    "y_test_snr=snr_array[testIdx]\n",
    "\n",
    "\n",
    "\n",
    "for snr in snr_label_array:\n",
    "    test_X_i = X_test[np.where(y_test_snr==snr)]\n",
    "    test_Y_i = y_test[np.where(y_test_snr==snr)]\n",
    "    \n",
    "    test_Y_i_hat = model.predict(test_X_i)\n",
    "    conf = np.zeros([len(mods),len(mods)])\n",
    "    confnorm = np.zeros([len(mods),len(mods)])\n",
    "    for i in range(0,test_X_i.shape[0]):\n",
    "        j = list(test_Y_i[i,:]).index(1)\n",
    "        k = int(np.argmax(test_Y_i_hat[i,:]))\n",
    "        conf[j,k] = conf[j,k] + 1\n",
    "    for i in range(0,len(mods)):\n",
    "        confnorm[i,:] = conf[i,:] / np.sum(conf[i,:])\n",
    "    \n",
    "    #plt.figure()\n",
    "    #plot_confusion_matrix(confnorm, labels=classes, title=\"ConvNet Confusion Matrix (SNR=%d)\"%(snr))\n",
    "    \n",
    "    cor = np.sum(np.diag(conf))\n",
    "    ncor = np.sum(conf) - cor\n",
    "    print(\"Overall Accuracy: \", cor / (cor+ncor),\"for SNR\",snr)\n",
    "    acc[snr] = 1.0*cor/(cor+ncor)\n",
    "    acc_array.append(1.0*cor/(cor+ncor))\n",
    "\n",
    "print(\"Random Guess Accuracy:\",1/11)"
   ]
  },
  {
   "cell_type": "code",
   "execution_count": 12,
   "metadata": {},
   "outputs": [
    {
     "data": {
      "image/png": "[encoded data removed]",
      "text/plain": [
       "<Figure size 576x432 with 1 Axes>"
      ]
     },
     "metadata": {
      "needs_background": "light"
     },
     "output_type": "display_data"
    }
   ],
   "source": [
    "# Show loss curves \n",
    "plt.figure(figsize=(8, 6))\n",
    "plt.title('CNN 8 - Accuracy vs SNRs')\n",
    "plt.plot(np.arange(-20,20,2), acc_array)\n",
    "plt.xlabel('SNR')\n",
    "plt.xticks(np.arange(-20,20,2))\n",
    "plt.ylabel('Class Accuracy')\n",
    "plt.grid()\n",
    "plt.show()"
   ]
  },
  {
   "cell_type": "code",
   "execution_count": 13,
   "metadata": {},
   "outputs": [],
   "source": [
    "accRes = np.array([acc_array])\n",
    "np.save('Data/CNN-8/accResSNR.npy',accRes)"
   ]
  }
 ],
 "metadata": {
  "kernelspec": {
   "display_name": "Python 3",
   "language": "python",
   "name": "python3"
  },
  "language_info": {
   "codemirror_mode": {
    "name": "ipython",
    "version": 3
   },
   "file_extension": ".py",
   "mimetype": "text/x-python",
   "name": "python",
   "nbconvert_exporter": "python",
   "pygments_lexer": "ipython3",
   "version": "3.7.6"
  }
 },
 "nbformat": 4,
 "nbformat_minor": 4
}
