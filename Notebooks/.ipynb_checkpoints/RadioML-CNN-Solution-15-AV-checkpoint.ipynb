{
 "cells": [
  {
   "cell_type": "markdown",
   "metadata": {},
   "source": [
    "# Radio ML Classification - CNN Approach\n",
    "\n",
    "Solution to the RadioML classification challenge using CNNs."
   ]
  },
  {
   "cell_type": "code",
   "execution_count": 2,
   "metadata": {},
   "outputs": [],
   "source": [
    "# Loading Data\n",
    "\n",
    "pathToDataset = \"C:/Users/aksha/Documents/Jupyter Notebooks/radioml-classification/Datasets/Standard/RML2016.10a_dict.pkl\"\n",
    "\n",
    "# Extract the pickle file\n",
    "import pickle\n",
    "import numpy as np\n",
    "Xd = pickle.load(open(pathToDataset,'rb'),encoding=\"bytes\")\n",
    "snrs,mods = map(lambda j: sorted(list(set(map(lambda x: x[j], Xd.keys())))), [1,0])\n",
    "X = []  \n",
    "lbl = []\n",
    "for mod in mods:\n",
    "    for snr in snrs:\n",
    "        X.append(Xd[(mod,snr)])\n",
    "        for i in range(Xd[(mod,snr)].shape[0]):  lbl.append((mod,snr))\n",
    "X = np.vstack(X)"
   ]
  },
  {
   "cell_type": "markdown",
   "metadata": {},
   "source": [
    "# Description of Data\n",
    "\n",
    "The dataset has the size 220,000×2×128, which means that there are 220,000 entries, each consisting of an array of size 2 × 128. Each array represents the samples of about 128 µs of a received waveform sampled with approximately 106 samples/second, and it contains between 8 and 16 modulation symbols. Since the samples of the signal waveforms are complex-valued, they have been stored as real and imaginary parts, and therefore we have arrays of size 2 × 128 in the data set.\n",
    "\n",
    "That is, each row is essentially, **a + ib**.\n",
    "\n",
    "The labels of the downloaded dataset contain two parameters: the modulation technique used (one of [’8PSK’, ’AM-DSB’, ’AM-SSB’, ’BPSK’,’CPFSK’, ’GFSK’, ’PAM4’, ’QAM16’, ’QAM64’, ’QPSK’, ’WBFM’], so 11 possible modulation techniques), and the signal-to noise ratio (SNR) value (one of [−20, −18, −16, −14, −12, −10, −8, −6, −4, −2, 0, 2, 4, 6, 8, 10, 12, 14, 16, 18], so 20 possible SNR values). The SNR is a measure for the quality of the communication channel. The higher the SNR, the less “noisy” is the channel.\n",
    "\n",
    "Each item of the list is essentially like **(b'Modulation Type',SNR Value)** [Use os.fsdecode to extract Modulation Type as string] "
   ]
  },
  {
   "cell_type": "code",
   "execution_count": 3,
   "metadata": {},
   "outputs": [],
   "source": [
    "# Import Necessary Packages\n",
    "%matplotlib inline\n",
    "import os\n",
    "import random\n",
    "import tensorflow.keras.utils\n",
    "import tensorflow.keras.models as models\n",
    "from tensorflow.keras.layers import Reshape,Dense,Dropout,Activation,Flatten\n",
    "from tensorflow.keras.layers import GaussianNoise\n",
    "from tensorflow.keras.layers import Convolution2D, MaxPooling2D, ZeroPadding2D, BatchNormalization, LayerNormalization\n",
    "from tensorflow.keras.regularizers import *\n",
    "from tensorflow.keras.optimizers import *\n",
    "import matplotlib.pyplot as plt\n",
    "import seaborn as sns\n",
    "import tensorflow.keras\n",
    "import numpy as np"
   ]
  },
  {
   "cell_type": "markdown",
   "metadata": {},
   "source": [
    "# Data Processing\n",
    "\n",
    "The goal of this stage is to split data into Training, Validation and Testing data and then process the available data and transform (if needed) it into relevant inputs to be fed into the CNN.\n",
    "\n",
    "1. Split Dataset into Training, Validation and Testing Data : 110,000 samples for training and validation and 110,000 samples for testing."
   ]
  },
  {
   "cell_type": "code",
   "execution_count": 4,
   "metadata": {},
   "outputs": [],
   "source": [
    "#  into training and test sets of the form we can train/test on \n",
    "random.seed(777)\n",
    "np.random.seed(777)\n",
    "\n",
    "index = np.arange(0,220000)\n",
    "random.shuffle(index)\n",
    "\n",
    "trainIdx = index[0:110000]\n",
    "testIdx = index[110000:220000]\n",
    "\n",
    "trainX = X[trainIdx]\n",
    "\n",
    "\n",
    "# Create Validation Data Set\n",
    "indexVal = np.arange(0,110000)\n",
    "random.shuffle(indexVal)\n",
    "\n",
    "realTrainIdx = indexVal[0:99000] \n",
    "valIdx = indexVal[99000:110000]\n",
    "\n",
    "# Actual Training Data\n",
    "realTrainX = trainX[realTrainIdx]\n",
    "X_train = np.expand_dims(realTrainX, axis=-1) # Important\n",
    "\n",
    "# Actual Validation Data\n",
    "validX = trainX[valIdx]\n",
    "X_valid = np.expand_dims(validX, axis=-1) # Important\n",
    "\n",
    "# Actual Testing Data\n",
    "testX = X[testIdx]\n",
    "X_test = np.expand_dims(testX, axis=-1) # Important"
   ]
  },
  {
   "cell_type": "code",
   "execution_count": 5,
   "metadata": {},
   "outputs": [
    {
     "name": "stdout",
     "output_type": "stream",
     "text": [
      "[b'8PSK' b'AM-DSB' b'AM-SSB' b'BPSK' b'CPFSK' b'GFSK' b'PAM4' b'QAM16'\n",
      " b'QAM64' b'QPSK' b'WBFM']\n"
     ]
    }
   ],
   "source": [
    "# One Hot Encode Labels\n",
    "from sklearn import preprocessing\n",
    "lb = preprocessing.LabelBinarizer()\n",
    "lb.fit(np.asarray(lbl)[:,0])\n",
    "print(lb.classes_)\n",
    "lbl_encoded=lb.transform(np.asarray(lbl)[:,0])\n",
    "ytrain=lbl_encoded[trainIdx]\n",
    "\n",
    "y_train = ytrain[realTrainIdx]\n",
    "y_valid = ytrain[valIdx]\n",
    "y_test=lbl_encoded[testIdx]"
   ]
  },
  {
   "cell_type": "markdown",
   "metadata": {},
   "source": [
    "# Design Neural Network"
   ]
  },
  {
   "cell_type": "code",
   "execution_count": 6,
   "metadata": {},
   "outputs": [
    {
     "name": "stdout",
     "output_type": "stream",
     "text": [
      "Model: \"sequential\"\n",
      "_________________________________________________________________\n",
      "Layer (type)                 Output Shape              Param #   \n",
      "=================================================================\n",
      "Conv_1 (Conv2D)              (None, 2, 128, 512)       2048      \n",
      "_________________________________________________________________\n",
      "max_pooling2d (MaxPooling2D) (None, 2, 64, 512)        0         \n",
      "_________________________________________________________________\n",
      "dropout (Dropout)            (None, 2, 64, 512)        0         \n",
      "_________________________________________________________________\n",
      "Conv_2 (Conv2D)              (None, 2, 64, 256)        393472    \n",
      "_________________________________________________________________\n",
      "max_pooling2d_1 (MaxPooling2 (None, 2, 32, 256)        0         \n",
      "_________________________________________________________________\n",
      "dropout_1 (Dropout)          (None, 2, 32, 256)        0         \n",
      "_________________________________________________________________\n",
      "Conv_3 (Conv2D)              (None, 2, 32, 128)        98432     \n",
      "_________________________________________________________________\n",
      "max_pooling2d_2 (MaxPooling2 (None, 2, 16, 128)        0         \n",
      "_________________________________________________________________\n",
      "dropout_2 (Dropout)          (None, 2, 16, 128)        0         \n",
      "_________________________________________________________________\n",
      "Conv_4 (Conv2D)              (None, 2, 16, 64)         24640     \n",
      "_________________________________________________________________\n",
      "max_pooling2d_3 (MaxPooling2 (None, 2, 8, 64)          0         \n",
      "_________________________________________________________________\n",
      "dropout_3 (Dropout)          (None, 2, 8, 64)          0         \n",
      "_________________________________________________________________\n",
      "flatten (Flatten)            (None, 1024)              0         \n",
      "_________________________________________________________________\n",
      "dense (Dense)                (None, 128)               131200    \n",
      "_________________________________________________________________\n",
      "dense_1 (Dense)              (None, 11)                1419      \n",
      "=================================================================\n",
      "Total params: 651,211\n",
      "Trainable params: 651,211\n",
      "Non-trainable params: 0\n",
      "_________________________________________________________________\n"
     ]
    }
   ],
   "source": [
    "# Network Parameters\n",
    "dropoutRate = 0.5\n",
    "\n",
    "# Structure\n",
    "inpShape = (2,128,1) # Shape of Input Data\n",
    "CNN1_numFilt = 256 # Number of Filters in CNN Layer 1\n",
    "CNN1_kernSize = (1,3) # Kernel Size of CNN Layer 1\n",
    "\n",
    "CNN2_numFilt = 80 # Number of Filters in CNN Layer 2\n",
    "CNN2_kernSize = (2,3) # Kernel Size of CNN Layer 2\n",
    "\n",
    "Dense1_numNeurons = 128 # Number of Nodes in the First Dense Layer\n",
    "numOutput = 11 # Number of Output Nodes\n",
    "\n",
    "# Weight Initialization\n",
    "weightInit = 'glorot_uniform' # Xavier Initialization\n",
    "\n",
    "# Activation Functions\n",
    "activationHidden = 'relu'\n",
    "activationOutput = 'softmax'\n",
    "\n",
    "# Loss Function\n",
    "lossFunction = 'categorical_crossentropy'\n",
    "\n",
    "# Learning Algorithm\n",
    "netOptimizer = 'adam'\n",
    "\n",
    "# Callbacks\n",
    "callbackList = [\n",
    "        tensorflow.keras.callbacks.ModelCheckpoint('Data/CNN-15/CNN-15-Weights_best.h5', monitor='val_loss', verbose=0, save_best_only=True, mode='auto'),\n",
    "        tensorflow.keras.callbacks.EarlyStopping(monitor='val_loss', patience=7, verbose=0, mode='auto')]\n",
    "\n",
    "# Construct Network\n",
    "model = models.Sequential()\n",
    "#model.add(BatchNormalization(axis=-1,input_shape=inpShape, name='Normalization_1'))\n",
    "#model.add(ZeroPadding2D(padding=(0,1),name='ZPad1'))\n",
    "model.add(Convolution2D(filters=512, kernel_size=CNN1_kernSize,input_shape=inpShape, padding='same', activation=activationHidden, name='Conv_1'))\n",
    "model.add(MaxPooling2D(pool_size=(1,2),padding='same'))\n",
    "model.add(Dropout(dropoutRate))\n",
    "\n",
    "model.add(Convolution2D(filters=256, kernel_size=CNN1_kernSize,padding='same', activation=activationHidden, name='Conv_2'))\n",
    "model.add(MaxPooling2D(pool_size=(1,2),padding='same'))\n",
    "model.add(Dropout(dropoutRate))\n",
    "\n",
    "model.add(Convolution2D(filters=128, kernel_size=CNN1_kernSize,padding='same', activation=activationHidden, name='Conv_3'))\n",
    "model.add(MaxPooling2D(pool_size=(1,2),padding='same'))\n",
    "model.add(Dropout(dropoutRate))\n",
    "\n",
    "model.add(Convolution2D(filters=64, kernel_size=CNN1_kernSize,padding='same', activation=activationHidden, name='Conv_4'))\n",
    "model.add(MaxPooling2D(pool_size=(1,2),padding='same'))\n",
    "model.add(Dropout(dropoutRate))\n",
    "\n",
    "model.add(Flatten())\n",
    "model.add(Dense(Dense1_numNeurons, activation=activationHidden))\n",
    "model.add(Dense(numOutput, activation=activationOutput))\n",
    "model.compile(loss=lossFunction, optimizer=netOptimizer,metrics=['categorical_accuracy'])\n",
    "model.summary()"
   ]
  },
  {
   "cell_type": "markdown",
   "metadata": {},
   "source": [
    "# Train Network"
   ]
  },
  {
   "cell_type": "code",
   "execution_count": 6,
   "metadata": {},
   "outputs": [],
   "source": [
    "numEpochs = 100\n",
    "batchSize = 1024"
   ]
  },
  {
   "cell_type": "code",
   "execution_count": 7,
   "metadata": {},
   "outputs": [
    {
     "name": "stdout",
     "output_type": "stream",
     "text": [
      "Train on 99000 samples, validate on 11000 samples\n",
      "Epoch 1/100\n",
      "99000/99000 - 45s - loss: 2.3609 - categorical_accuracy: 0.1126 - val_loss: 2.1676 - val_categorical_accuracy: 0.2102\n",
      "Epoch 2/100\n",
      "99000/99000 - 35s - loss: 1.9053 - categorical_accuracy: 0.2869 - val_loss: 1.6723 - val_categorical_accuracy: 0.3615\n",
      "Epoch 3/100\n",
      "99000/99000 - 35s - loss: 1.6405 - categorical_accuracy: 0.3797 - val_loss: 1.5429 - val_categorical_accuracy: 0.4294\n",
      "Epoch 4/100\n",
      "99000/99000 - 35s - loss: 1.5465 - categorical_accuracy: 0.4199 - val_loss: 1.4678 - val_categorical_accuracy: 0.4556\n",
      "Epoch 5/100\n",
      "99000/99000 - 35s - loss: 1.5007 - categorical_accuracy: 0.4348 - val_loss: 1.4603 - val_categorical_accuracy: 0.4565\n",
      "Epoch 6/100\n",
      "99000/99000 - 35s - loss: 1.4747 - categorical_accuracy: 0.4446 - val_loss: 1.4420 - val_categorical_accuracy: 0.4515\n",
      "Epoch 7/100\n",
      "99000/99000 - 35s - loss: 1.4505 - categorical_accuracy: 0.4520 - val_loss: 1.3970 - val_categorical_accuracy: 0.4845\n",
      "Epoch 8/100\n",
      "99000/99000 - 35s - loss: 1.4328 - categorical_accuracy: 0.4587 - val_loss: 1.3702 - val_categorical_accuracy: 0.4817\n",
      "Epoch 9/100\n",
      "99000/99000 - 35s - loss: 1.4148 - categorical_accuracy: 0.4652 - val_loss: 1.3756 - val_categorical_accuracy: 0.4838\n",
      "Epoch 10/100\n",
      "99000/99000 - 35s - loss: 1.4012 - categorical_accuracy: 0.4690 - val_loss: 1.3285 - val_categorical_accuracy: 0.4990\n",
      "Epoch 11/100\n",
      "99000/99000 - 35s - loss: 1.3891 - categorical_accuracy: 0.4756 - val_loss: 1.3487 - val_categorical_accuracy: 0.4891\n",
      "Epoch 12/100\n",
      "99000/99000 - 35s - loss: 1.3758 - categorical_accuracy: 0.4779 - val_loss: 1.3253 - val_categorical_accuracy: 0.4981\n",
      "Epoch 13/100\n",
      "99000/99000 - 35s - loss: 1.3701 - categorical_accuracy: 0.4811 - val_loss: 1.3147 - val_categorical_accuracy: 0.5076\n",
      "Epoch 14/100\n",
      "99000/99000 - 35s - loss: 1.3648 - categorical_accuracy: 0.4818 - val_loss: 1.3117 - val_categorical_accuracy: 0.5043\n",
      "Epoch 15/100\n",
      "99000/99000 - 35s - loss: 1.3530 - categorical_accuracy: 0.4872 - val_loss: 1.2948 - val_categorical_accuracy: 0.5156\n",
      "Epoch 16/100\n",
      "99000/99000 - 35s - loss: 1.3427 - categorical_accuracy: 0.4909 - val_loss: 1.2873 - val_categorical_accuracy: 0.5148\n",
      "Epoch 17/100\n",
      "99000/99000 - 34s - loss: 1.3436 - categorical_accuracy: 0.4919 - val_loss: 1.3066 - val_categorical_accuracy: 0.5075\n",
      "Epoch 18/100\n",
      "99000/99000 - 35s - loss: 1.3346 - categorical_accuracy: 0.4935 - val_loss: 1.2775 - val_categorical_accuracy: 0.5145\n",
      "Epoch 19/100\n",
      "99000/99000 - 34s - loss: 1.3264 - categorical_accuracy: 0.4986 - val_loss: 1.2848 - val_categorical_accuracy: 0.5150\n",
      "Epoch 20/100\n",
      "99000/99000 - 35s - loss: 1.3219 - categorical_accuracy: 0.4978 - val_loss: 1.2707 - val_categorical_accuracy: 0.5143\n",
      "Epoch 21/100\n",
      "99000/99000 - 35s - loss: 1.3159 - categorical_accuracy: 0.5012 - val_loss: 1.2767 - val_categorical_accuracy: 0.5148\n",
      "Epoch 22/100\n",
      "99000/99000 - 35s - loss: 1.3123 - categorical_accuracy: 0.5014 - val_loss: 1.2794 - val_categorical_accuracy: 0.5146\n",
      "Epoch 23/100\n",
      "99000/99000 - 35s - loss: 1.3060 - categorical_accuracy: 0.5051 - val_loss: 1.2668 - val_categorical_accuracy: 0.5148\n",
      "Epoch 24/100\n",
      "99000/99000 - 35s - loss: 1.3060 - categorical_accuracy: 0.5071 - val_loss: 1.2902 - val_categorical_accuracy: 0.5064\n",
      "Epoch 25/100\n",
      "99000/99000 - 34s - loss: 1.3028 - categorical_accuracy: 0.5072 - val_loss: 1.2825 - val_categorical_accuracy: 0.5095\n",
      "Epoch 26/100\n",
      "99000/99000 - 34s - loss: 1.2953 - categorical_accuracy: 0.5109 - val_loss: 1.2850 - val_categorical_accuracy: 0.5115\n",
      "Epoch 27/100\n",
      "99000/99000 - 35s - loss: 1.2890 - categorical_accuracy: 0.5124 - val_loss: 1.2641 - val_categorical_accuracy: 0.5181\n",
      "Epoch 28/100\n",
      "99000/99000 - 35s - loss: 1.2967 - categorical_accuracy: 0.5095 - val_loss: 1.2841 - val_categorical_accuracy: 0.5143\n",
      "Epoch 29/100\n",
      "99000/99000 - 35s - loss: 1.2888 - categorical_accuracy: 0.5134 - val_loss: 1.2600 - val_categorical_accuracy: 0.5185\n",
      "Epoch 30/100\n",
      "99000/99000 - 35s - loss: 1.2810 - categorical_accuracy: 0.5160 - val_loss: 1.2620 - val_categorical_accuracy: 0.5229\n",
      "Epoch 31/100\n",
      "99000/99000 - 35s - loss: 1.2818 - categorical_accuracy: 0.5146 - val_loss: 1.2523 - val_categorical_accuracy: 0.5265\n",
      "Epoch 32/100\n",
      "99000/99000 - 35s - loss: 1.2740 - categorical_accuracy: 0.5174 - val_loss: 1.2373 - val_categorical_accuracy: 0.5358\n",
      "Epoch 33/100\n",
      "99000/99000 - 35s - loss: 1.2753 - categorical_accuracy: 0.5199 - val_loss: 1.2517 - val_categorical_accuracy: 0.5240\n",
      "Epoch 34/100\n",
      "99000/99000 - 35s - loss: 1.2723 - categorical_accuracy: 0.5206 - val_loss: 1.2620 - val_categorical_accuracy: 0.5180\n",
      "Epoch 35/100\n",
      "99000/99000 - 35s - loss: 1.2697 - categorical_accuracy: 0.5204 - val_loss: 1.2581 - val_categorical_accuracy: 0.5233\n",
      "Epoch 36/100\n",
      "99000/99000 - 35s - loss: 1.2649 - categorical_accuracy: 0.5223 - val_loss: 1.2352 - val_categorical_accuracy: 0.5274\n",
      "Epoch 37/100\n",
      "99000/99000 - 35s - loss: 1.2663 - categorical_accuracy: 0.5217 - val_loss: 1.2778 - val_categorical_accuracy: 0.5142\n",
      "Epoch 38/100\n",
      "99000/99000 - 35s - loss: 1.2614 - categorical_accuracy: 0.5231 - val_loss: 1.2326 - val_categorical_accuracy: 0.5335\n",
      "Epoch 39/100\n",
      "99000/99000 - 35s - loss: 1.2560 - categorical_accuracy: 0.5253 - val_loss: 1.2344 - val_categorical_accuracy: 0.5324\n",
      "Epoch 40/100\n",
      "99000/99000 - 35s - loss: 1.2578 - categorical_accuracy: 0.5253 - val_loss: 1.2559 - val_categorical_accuracy: 0.5211\n",
      "Epoch 41/100\n",
      "99000/99000 - 35s - loss: 1.2561 - categorical_accuracy: 0.5259 - val_loss: 1.2261 - val_categorical_accuracy: 0.5362\n",
      "Epoch 42/100\n",
      "99000/99000 - 35s - loss: 1.2506 - categorical_accuracy: 0.5280 - val_loss: 1.2588 - val_categorical_accuracy: 0.5215\n",
      "Epoch 43/100\n",
      "99000/99000 - 35s - loss: 1.2475 - categorical_accuracy: 0.5284 - val_loss: 1.2435 - val_categorical_accuracy: 0.5337\n",
      "Epoch 44/100\n",
      "99000/99000 - 35s - loss: 1.2488 - categorical_accuracy: 0.5303 - val_loss: 1.2261 - val_categorical_accuracy: 0.5295\n",
      "Epoch 45/100\n",
      "99000/99000 - 35s - loss: 1.2477 - categorical_accuracy: 0.5293 - val_loss: 1.2095 - val_categorical_accuracy: 0.5381\n",
      "Epoch 46/100\n",
      "99000/99000 - 35s - loss: 1.2440 - categorical_accuracy: 0.5307 - val_loss: 1.2232 - val_categorical_accuracy: 0.5407\n",
      "Epoch 47/100\n",
      "99000/99000 - 35s - loss: 1.2429 - categorical_accuracy: 0.5324 - val_loss: 1.2286 - val_categorical_accuracy: 0.5349\n",
      "Epoch 48/100\n",
      "99000/99000 - 35s - loss: 1.2371 - categorical_accuracy: 0.5332 - val_loss: 1.2263 - val_categorical_accuracy: 0.5353\n",
      "Epoch 49/100\n",
      "99000/99000 - 35s - loss: 1.2372 - categorical_accuracy: 0.5331 - val_loss: 1.2238 - val_categorical_accuracy: 0.5354\n",
      "Epoch 50/100\n",
      "99000/99000 - 35s - loss: 1.2375 - categorical_accuracy: 0.5333 - val_loss: 1.2555 - val_categorical_accuracy: 0.5242\n",
      "Epoch 51/100\n",
      "99000/99000 - 35s - loss: 1.2399 - categorical_accuracy: 0.5321 - val_loss: 1.2403 - val_categorical_accuracy: 0.5355\n",
      "Epoch 52/100\n",
      "99000/99000 - 35s - loss: 1.2339 - categorical_accuracy: 0.5335 - val_loss: 1.2342 - val_categorical_accuracy: 0.5351\n"
     ]
    }
   ],
   "source": [
    "history = model.fit(X_train,y_train,epochs=numEpochs,batch_size=batchSize,validation_data=(X_valid,y_valid),callbacks=callbackList,verbose=2)"
   ]
  },
  {
   "cell_type": "code",
   "execution_count": 8,
   "metadata": {},
   "outputs": [],
   "source": [
    "# Save History\n",
    "np_loss_history = np.array(history.history[\"loss\"])\n",
    "np.save('Data/CNN-15/lossHist.npy',np_loss_history)\n",
    "\n",
    "np_accu_history = np.array(history.history[\"categorical_accuracy\"])\n",
    "np.save('Data/CNN-15/accuHist.npy',np_accu_history)\n",
    "\n",
    "np_val_loss_history = np.array(history.history[\"val_loss\"])\n",
    "np.save('Data/CNN-15/valLossHist.npy',np_val_loss_history)\n",
    "\n",
    "np_val_accu_history = np.array(history.history[\"val_categorical_accuracy\"])\n",
    "np.save('Data/CNN-15/valAccuHist.npy',np_val_accu_history)"
   ]
  },
  {
   "cell_type": "markdown",
   "metadata": {},
   "source": [
    "# Test/Evaluate Network"
   ]
  },
  {
   "cell_type": "code",
   "execution_count": 7,
   "metadata": {},
   "outputs": [
    {
     "name": "stdout",
     "output_type": "stream",
     "text": [
      "110000/110000 [==============================] - 40s 366us/sample - loss: 1.2143 - categorical_accuracy: 0.5304\n"
     ]
    },
    {
     "data": {
      "text/plain": [
       "[1.2142722093928944, 0.5304273]"
      ]
     },
     "execution_count": 7,
     "metadata": {},
     "output_type": "execute_result"
    }
   ],
   "source": [
    "# Re-load Best Weights\n",
    "model.load_weights('Data/CNN-15/CNN-15-Weights_best.h5')\n",
    "\n",
    "model.evaluate(X_test,y_test)"
   ]
  },
  {
   "cell_type": "markdown",
   "metadata": {},
   "source": [
    "# Visualize Results"
   ]
  },
  {
   "cell_type": "code",
   "execution_count": 17,
   "metadata": {},
   "outputs": [
    {
     "data": {
      "text/plain": [
       "<matplotlib.legend.Legend at 0x114837f66c8>"
      ]
     },
     "execution_count": 17,
     "metadata": {},
     "output_type": "execute_result"
    },
    {
     "data": {
      "image/png": "[encoded data removed]",
      "text/plain": [
       "<Figure size 432x288 with 1 Axes>"
      ]
     },
     "metadata": {
      "needs_background": "light"
     },
     "output_type": "display_data"
    }
   ],
   "source": [
    "# Load Details of History\n",
    "lHist = np.load('Data/CNN-15/lossHist.npy')\n",
    "aHist = np.load('Data/CNN-15/accuHist.npy')\n",
    "\n",
    "vLHist = np.load('Data/CNN-15/valLossHist.npy')\n",
    "vAHist = np.load('Data/CNN-15/valAccuHist.npy')\n",
    "\n",
    "# Show loss curves \n",
    "plt.figure()\n",
    "plt.title('CNN-AV - Loss vs Epoch')\n",
    "plt.plot(lHist, label='Training Loss')\n",
    "plt.plot(vLHist, label='Validation Loss')\n",
    "plt.xlabel('Epochs')\n",
    "plt.xticks(np.arange(0,55,5),np.arange(1,55,5))\n",
    "plt.ylabel('Loss')\n",
    "plt.grid()\n",
    "plt.legend()"
   ]
  },
  {
   "cell_type": "code",
   "execution_count": 16,
   "metadata": {},
   "outputs": [
    {
     "data": {
      "text/plain": [
       "<matplotlib.legend.Legend at 0x114615fbc08>"
      ]
     },
     "execution_count": 16,
     "metadata": {},
     "output_type": "execute_result"
    },
    {
     "data": {
      "image/png": "[encoded data removed]",
      "text/plain": [
       "<Figure size 432x288 with 1 Axes>"
      ]
     },
     "metadata": {
      "needs_background": "light"
     },
     "output_type": "display_data"
    }
   ],
   "source": [
    "# Show Accuracy curves \n",
    "plt.figure()\n",
    "plt.title('CNN-AV - Performance Metric')\n",
    "plt.plot(aHist, label='Training Accuracy')\n",
    "plt.plot(vAHist, label='Validation Accuracy')\n",
    "plt.xlabel('Epochs')\n",
    "plt.xticks(np.arange(0,55,5),np.arange(1,55,5))\n",
    "plt.ylabel('Loss')\n",
    "plt.grid()\n",
    "plt.legend()"
   ]
  },
  {
   "cell_type": "code",
   "execution_count": 23,
   "metadata": {},
   "outputs": [],
   "source": [
    "# Function to Extract Test Data of Specific SNR\n",
    "def extractTest(data,labels,labelsEncoded,testIndex,snr):\n",
    "    testData = data[testIndex]\n",
    "    labelArray = np.array([labels])\n",
    "    testLabels = labelArray[:,testIdx,:]\n",
    "    testLabelsEncoded = labelsEncoded[testIdx]\n",
    "    \n",
    "    idxOP = list()\n",
    "    \n",
    "    # Loop Through Label Array To Get Index of Specific SNR\n",
    "    for i in range(0,testLabels.shape[1]):\n",
    "        if testLabels[0,i,1].decode('ascii')==snr:\n",
    "            idxOP.append(i)\n",
    "    \n",
    "    # Return Subset of Test Data and Corresponding Labels\n",
    "    opTestData = np.expand_dims(testData[idxOP,:,:],axis=-1)\n",
    "    opTestLabel = testLabelsEncoded[idxOP]\n",
    "    \n",
    "    return opTestData, opTestLabel\n",
    "\n",
    "def plot_confusion_matrix(cm, titleAdd, title='CNN-AV Confusion matrix', cmap=plt.cm.Blues, labels=[]):\n",
    "    plt.imshow(cm, interpolation='nearest', cmap=cmap)\n",
    "    plt.title(title+titleAdd)\n",
    "    plt.colorbar()\n",
    "    tick_marks = np.arange(len(labels))\n",
    "    plt.xticks(tick_marks, labels, rotation=45)\n",
    "    plt.yticks(tick_marks, labels)\n",
    "    plt.tight_layout()\n",
    "    plt.ylabel('True label')\n",
    "    plt.xlabel('Predicted label')\n",
    "\n",
    "# Confusion Matrix Function\n",
    "def prepConfMat(testData,testLabel,predTestLabel,mods,title):\n",
    "    modString = list()\n",
    "    for i in range(0,len(mods)):\n",
    "        modString.append(mods[i].decode('ascii'))\n",
    "    \n",
    "    conf = np.zeros([len(mods),len(mods)])\n",
    "    confnorm = np.zeros([len(mods),len(mods)])\n",
    "    for i in range(0,testData.shape[0]):\n",
    "        j = list(testLabel[i,:]).index(1)\n",
    "        k = int(np.argmax(predTestLabel[i,:]))\n",
    "        conf[j,k] = conf[j,k] + 1\n",
    "    for i in range(0,len(mods)):\n",
    "        confnorm[i,:] = conf[i,:] / np.sum(conf[i,:])\n",
    "    plot_confusion_matrix(confnorm, title, labels=modString)"
   ]
  },
  {
   "cell_type": "code",
   "execution_count": 24,
   "metadata": {},
   "outputs": [
    {
     "data": {
      "image/png": "[encoded data removed]",
      "text/plain": [
       "<Figure size 432x288 with 2 Axes>"
      ]
     },
     "metadata": {
      "needs_background": "light"
     },
     "output_type": "display_data"
    }
   ],
   "source": [
    "# Plot confusion matrix\n",
    "test_Y_hat = model.predict(X_test, batch_size=1024)\n",
    "\n",
    "prepConfMat(X_test,y_test,test_Y_hat,mods,' (All SNRs)')"
   ]
  },
  {
   "cell_type": "code",
   "execution_count": 37,
   "metadata": {
    "scrolled": true
   },
   "outputs": [
    {
     "data": {
      "image/png": "[encoded data removed]",
      "text/plain": [
       "<Figure size 432x288 with 2 Axes>"
      ]
     },
     "metadata": {
      "needs_background": "light"
     },
     "output_type": "display_data"
    }
   ],
   "source": [
    "# Plot Confusion Matrix for Specific SNR\n",
    "snr = '-8'\n",
    "title = ' (SNR = '+snr+')'\n",
    "x_testSNR, y_TestSNR = extractTest(X,lbl,lbl_encoded,testIdx,snr)\n",
    "y_hat_snr = model.predict(x_testSNR, batch_size=1024)\n",
    "prepConfMat(x_testSNR,y_TestSNR,y_hat_snr,mods,title)"
   ]
  },
  {
   "cell_type": "code",
   "execution_count": 14,
   "metadata": {},
   "outputs": [
    {
     "name": "stdout",
     "output_type": "stream",
     "text": [
      "Overall Accuracy:  0.0967741935483871 for SNR b'-20'\n",
      "Overall Accuracy:  0.09676833696441539 for SNR b'-18'\n",
      "Overall Accuracy:  0.0973111395646607 for SNR b'-16'\n",
      "Overall Accuracy:  0.12163636363636364 for SNR b'-14'\n",
      "Overall Accuracy:  0.1654378708865312 for SNR b'-12'\n",
      "Overall Accuracy:  0.2339761248852158 for SNR b'-10'\n",
      "Overall Accuracy:  0.34085532302092814 for SNR b'-8'\n",
      "Overall Accuracy:  0.48776978417266187 for SNR b'-6'\n",
      "Overall Accuracy:  0.5912502288120081 for SNR b'-4'\n",
      "Overall Accuracy:  0.6940243452600516 for SNR b'-2'\n",
      "Overall Accuracy:  0.724963976945245 for SNR b'0'\n",
      "Overall Accuracy:  0.7727022564667033 for SNR b'2'\n",
      "Overall Accuracy:  0.7555953446732319 for SNR b'4'\n",
      "Overall Accuracy:  0.7807380738073807 for SNR b'6'\n",
      "Overall Accuracy:  0.7691449814126394 for SNR b'8'\n",
      "Overall Accuracy:  0.7809954751131222 for SNR b'10'\n",
      "Overall Accuracy:  0.7781227173119065 for SNR b'12'\n",
      "Overall Accuracy:  0.7813876651982379 for SNR b'14'\n",
      "Overall Accuracy:  0.7582757366315024 for SNR b'16'\n",
      "Overall Accuracy:  0.7859712230215827 for SNR b'18'\n",
      "Random Guess Accuracy: 0.09090909090909091\n"
     ]
    }
   ],
   "source": [
    "# Get the test accuracy for different SNRs\n",
    "acc = {}\n",
    "acc_array=[]\n",
    "\n",
    "snr_array=np.asarray(lbl)[:,1]\n",
    "lb_temp = preprocessing.LabelBinarizer()\n",
    "lb_temp.fit(snr_array)\n",
    "temp_array=lb_temp.classes_\n",
    "snr_label_array = []\n",
    "\n",
    "\n",
    "snr_label_array.append(temp_array[6])\n",
    "snr_label_array.append(temp_array[4])\n",
    "snr_label_array.append(temp_array[3])\n",
    "snr_label_array.append(temp_array[2])\n",
    "snr_label_array.append(temp_array[1])\n",
    "snr_label_array.append(temp_array[0])\n",
    "snr_label_array.append(temp_array[9])\n",
    "snr_label_array.append(temp_array[8])\n",
    "snr_label_array.append(temp_array[7])\n",
    "snr_label_array.append(temp_array[5])\n",
    "snr_label_array.append(temp_array[10])\n",
    "snr_label_array.append(temp_array[16])\n",
    "snr_label_array.append(temp_array[17])\n",
    "snr_label_array.append(temp_array[18])\n",
    "snr_label_array.append(temp_array[19])\n",
    "snr_label_array.append(temp_array[11])\n",
    "snr_label_array.append(temp_array[12])\n",
    "snr_label_array.append(temp_array[13])\n",
    "snr_label_array.append(temp_array[14])\n",
    "snr_label_array.append(temp_array[15])\n",
    "\n",
    "\n",
    "#print(snr_label_array)\n",
    "y_test_snr=snr_array[testIdx]\n",
    "\n",
    "\n",
    "\n",
    "for snr in snr_label_array:\n",
    "    test_X_i = X_test[np.where(y_test_snr==snr)]\n",
    "    test_Y_i = y_test[np.where(y_test_snr==snr)]\n",
    "    \n",
    "    test_Y_i_hat = model.predict(test_X_i)\n",
    "    conf = np.zeros([len(mods),len(mods)])\n",
    "    confnorm = np.zeros([len(mods),len(mods)])\n",
    "    for i in range(0,test_X_i.shape[0]):\n",
    "        j = list(test_Y_i[i,:]).index(1)\n",
    "        k = int(np.argmax(test_Y_i_hat[i,:]))\n",
    "        conf[j,k] = conf[j,k] + 1\n",
    "    for i in range(0,len(mods)):\n",
    "        confnorm[i,:] = conf[i,:] / np.sum(conf[i,:])\n",
    "    \n",
    "    #plt.figure()\n",
    "    #plot_confusion_matrix(confnorm, labels=classes, title=\"ConvNet Confusion Matrix (SNR=%d)\"%(snr))\n",
    "    \n",
    "    cor = np.sum(np.diag(conf))\n",
    "    ncor = np.sum(conf) - cor\n",
    "    print(\"Overall Accuracy: \", cor / (cor+ncor),\"for SNR\",snr)\n",
    "    acc[snr] = 1.0*cor/(cor+ncor)\n",
    "    acc_array.append(1.0*cor/(cor+ncor))\n",
    "\n",
    "print(\"Random Guess Accuracy:\",1/11)"
   ]
  },
  {
   "cell_type": "code",
   "execution_count": 26,
   "metadata": {},
   "outputs": [
    {
     "data": {
      "image/png": "[encoded data removed]",
      "text/plain": [
       "<Figure size 576x432 with 1 Axes>"
      ]
     },
     "metadata": {
      "needs_background": "light"
     },
     "output_type": "display_data"
    }
   ],
   "source": [
    "# Show loss curves \n",
    "plt.figure(figsize=(8, 6))\n",
    "plt.title('CNN-AV - Accuracy Across all SNRs')\n",
    "plt.plot(np.arange(-20,20,2), acc_array, marker='.',markersize=12)\n",
    "plt.xlabel('SNR')\n",
    "plt.xticks(np.arange(-20,20,2))\n",
    "plt.ylabel('Classification Accuracy')\n",
    "plt.grid()\n",
    "plt.show()"
   ]
  },
  {
   "cell_type": "code",
   "execution_count": 17,
   "metadata": {},
   "outputs": [],
   "source": [
    "accRes = np.array([acc_array])\n",
    "np.save('Data/CNN-15/accResSNR.npy',accRes)"
   ]
  }
 ],
 "metadata": {
  "kernelspec": {
   "display_name": "Python 3",
   "language": "python",
   "name": "python3"
  },
  "language_info": {
   "codemirror_mode": {
    "name": "ipython",
    "version": 3
   },
   "file_extension": ".py",
   "mimetype": "text/x-python",
   "name": "python",
   "nbconvert_exporter": "python",
   "pygments_lexer": "ipython3",
   "version": "3.7.6"
  }
 },
 "nbformat": 4,
 "nbformat_minor": 4
}
