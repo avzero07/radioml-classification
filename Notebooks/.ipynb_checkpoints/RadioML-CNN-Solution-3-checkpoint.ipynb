{
 "cells": [
  {
   "cell_type": "markdown",
   "metadata": {},
   "source": [
    "# Radio ML Classification - CNN Approach\n",
    "\n",
    "Solution to the RadioML classification challenge using CNNs."
   ]
  },
  {
   "cell_type": "code",
   "execution_count": 1,
   "metadata": {},
   "outputs": [],
   "source": [
    "# Loading Data\n",
    "\n",
    "pathToDataset = \"C:/Users/aksha/Documents/Jupyter Notebooks/radioml-classification/Datasets/Standard/RML2016.10a_dict.pkl\"\n",
    "\n",
    "# Extract the pickle file\n",
    "import pickle\n",
    "import numpy as np\n",
    "Xd = pickle.load(open(pathToDataset,'rb'),encoding=\"bytes\")\n",
    "snrs,mods = map(lambda j: sorted(list(set(map(lambda x: x[j], Xd.keys())))), [1,0])\n",
    "X = []  \n",
    "lbl = []\n",
    "for mod in mods:\n",
    "    for snr in snrs:\n",
    "        X.append(Xd[(mod,snr)])\n",
    "        for i in range(Xd[(mod,snr)].shape[0]):  lbl.append((mod,snr))\n",
    "X = np.vstack(X)"
   ]
  },
  {
   "cell_type": "markdown",
   "metadata": {},
   "source": [
    "# Description of Data\n",
    "\n",
    "The dataset has the size 220,000×2×128, which means that there are 220,000 entries, each consisting of an array of size 2 × 128. Each array represents the samples of about 128 µs of a received waveform sampled with approximately 106 samples/second, and it contains between 8 and 16 modulation symbols. Since the samples of the signal waveforms are complex-valued, they have been stored as real and imaginary parts, and therefore we have arrays of size 2 × 128 in the data set.\n",
    "\n",
    "That is, each row is essentially, **a + ib**.\n",
    "\n",
    "The labels of the downloaded dataset contain two parameters: the modulation technique used (one of [’8PSK’, ’AM-DSB’, ’AM-SSB’, ’BPSK’,’CPFSK’, ’GFSK’, ’PAM4’, ’QAM16’, ’QAM64’, ’QPSK’, ’WBFM’], so 11 possible modulation techniques), and the signal-to noise ratio (SNR) value (one of [−20, −18, −16, −14, −12, −10, −8, −6, −4, −2, 0, 2, 4, 6, 8, 10, 12, 14, 16, 18], so 20 possible SNR values). The SNR is a measure for the quality of the communication channel. The higher the SNR, the less “noisy” is the channel.\n",
    "\n",
    "Each item of the list is essentially like **(b'Modulation Type',SNR Value)** [Use os.fsdecode to extract Modulation Type as string] "
   ]
  },
  {
   "cell_type": "code",
   "execution_count": 2,
   "metadata": {},
   "outputs": [],
   "source": [
    "# Import Necessary Packages\n",
    "%matplotlib inline\n",
    "import os\n",
    "import random\n",
    "import tensorflow.keras.utils\n",
    "import tensorflow.keras.models as models\n",
    "from tensorflow.keras.layers import Reshape,Dense,Dropout,Activation,Flatten\n",
    "from tensorflow.keras.layers import GaussianNoise\n",
    "from tensorflow.keras.layers import Convolution2D, MaxPooling2D, ZeroPadding2D, BatchNormalization, LayerNormalization\n",
    "from tensorflow.keras.regularizers import *\n",
    "from tensorflow.keras.optimizers import *\n",
    "import matplotlib.pyplot as plt\n",
    "import seaborn as sns\n",
    "import tensorflow.keras\n",
    "import numpy as np"
   ]
  },
  {
   "cell_type": "markdown",
   "metadata": {},
   "source": [
    "# Data Processing\n",
    "\n",
    "The goal of this stage is to split data into Training, Validation and Testing data and then process the available data and transform (if needed) it into relevant inputs to be fed into the CNN.\n",
    "\n",
    "1. Split Dataset into Training, Validation and Testing Data : 110,000 samples for training and validation and 110,000 samples for testing."
   ]
  },
  {
   "cell_type": "code",
   "execution_count": 3,
   "metadata": {},
   "outputs": [],
   "source": [
    "#  into training and test sets of the form we can train/test on \n",
    "random.seed(777)\n",
    "np.random.seed(777)\n",
    "\n",
    "index = np.arange(0,220000)\n",
    "random.shuffle(index)\n",
    "\n",
    "trainIdx = index[0:110000]\n",
    "testIdx = index[110000:220000]\n",
    "\n",
    "trainX = X[trainIdx]\n",
    "\n",
    "\n",
    "# Create Validation Data Set\n",
    "indexVal = np.arange(0,110000)\n",
    "random.shuffle(indexVal)\n",
    "\n",
    "realTrainIdx = indexVal[0:99000] \n",
    "valIdx = indexVal[99000:110000]\n",
    "\n",
    "# Actual Training Data\n",
    "realTrainX = trainX[realTrainIdx]\n",
    "X_train = np.expand_dims(realTrainX, axis=-1) # Important\n",
    "\n",
    "# Actual Validation Data\n",
    "validX = trainX[valIdx]\n",
    "X_valid = np.expand_dims(validX, axis=-1) # Important\n",
    "\n",
    "# Actual Testing Data\n",
    "testX = X[testIdx]\n",
    "X_test = np.expand_dims(testX, axis=-1) # Important"
   ]
  },
  {
   "cell_type": "code",
   "execution_count": 4,
   "metadata": {},
   "outputs": [
    {
     "name": "stdout",
     "output_type": "stream",
     "text": [
      "[b'8PSK' b'AM-DSB' b'AM-SSB' b'BPSK' b'CPFSK' b'GFSK' b'PAM4' b'QAM16'\n",
      " b'QAM64' b'QPSK' b'WBFM']\n"
     ]
    }
   ],
   "source": [
    "# One Hot Encode Labels\n",
    "from sklearn import preprocessing\n",
    "lb = preprocessing.LabelBinarizer()\n",
    "lb.fit(np.asarray(lbl)[:,0])\n",
    "print(lb.classes_)\n",
    "lbl_encoded=lb.transform(np.asarray(lbl)[:,0])\n",
    "ytrain=lbl_encoded[trainIdx]\n",
    "\n",
    "y_train = ytrain[realTrainIdx]\n",
    "y_valid = ytrain[valIdx]\n",
    "y_test=lbl_encoded[testIdx]"
   ]
  },
  {
   "cell_type": "markdown",
   "metadata": {},
   "source": [
    "# Design Neural Network"
   ]
  },
  {
   "cell_type": "code",
   "execution_count": 5,
   "metadata": {},
   "outputs": [
    {
     "name": "stdout",
     "output_type": "stream",
     "text": [
      "Model: \"sequential\"\n",
      "_________________________________________________________________\n",
      "Layer (type)                 Output Shape              Param #   \n",
      "=================================================================\n",
      "Normalization_1 (BatchNormal (None, 2, 128, 1)         4         \n",
      "_________________________________________________________________\n",
      "ZPad1 (ZeroPadding2D)        (None, 2, 130, 1)         0         \n",
      "_________________________________________________________________\n",
      "Conv_1 (Conv2D)              (None, 2, 128, 64)        256       \n",
      "_________________________________________________________________\n",
      "dropout (Dropout)            (None, 2, 128, 64)        0         \n",
      "_________________________________________________________________\n",
      "ZPad2 (ZeroPadding2D)        (None, 4, 130, 64)        0         \n",
      "_________________________________________________________________\n",
      "Conv_2 (Conv2D)              (None, 3, 128, 16)        6160      \n",
      "_________________________________________________________________\n",
      "dropout_1 (Dropout)          (None, 3, 128, 16)        0         \n",
      "_________________________________________________________________\n",
      "flatten (Flatten)            (None, 6144)              0         \n",
      "_________________________________________________________________\n",
      "dense (Dense)                (None, 128)               786560    \n",
      "_________________________________________________________________\n",
      "dropout_2 (Dropout)          (None, 128)               0         \n",
      "_________________________________________________________________\n",
      "dense_1 (Dense)              (None, 11)                1419      \n",
      "=================================================================\n",
      "Total params: 794,399\n",
      "Trainable params: 794,397\n",
      "Non-trainable params: 2\n",
      "_________________________________________________________________\n"
     ]
    }
   ],
   "source": [
    "# Network Parameters\n",
    "dropoutRate = 0.5\n",
    "\n",
    "# Structure\n",
    "inpShape = (2,128,1) # Shape of Input Data\n",
    "CNN1_numFilt = 64 # Number of Filters in CNN Layer 1\n",
    "CNN1_kernSize = (1,3) # Kernel Size of CNN Layer 1\n",
    "\n",
    "CNN2_numFilt = 16 # Number of Filters in CNN Layer 2\n",
    "CNN2_kernSize = (2,3) # Kernel Size of CNN Layer 2\n",
    "\n",
    "Dense1_numNeurons = 128 # Number of Nodes in the First Dense Layer\n",
    "numOutput = 11 # Number of Output Nodes\n",
    "\n",
    "# Weight Initialization\n",
    "weightInit = 'glorot_uniform' # Xavier Initialization\n",
    "\n",
    "# Activation Functions\n",
    "activationHidden = 'relu'\n",
    "activationOutput = 'softmax'\n",
    "\n",
    "# Loss Function\n",
    "lossFunction = 'categorical_crossentropy'\n",
    "\n",
    "# Learning Algorithm\n",
    "netOptimizer = 'adam'\n",
    "\n",
    "# Callbacks\n",
    "callbackList = [\n",
    "        tensorflow.keras.callbacks.ModelCheckpoint('Data/CNN-3/CNN-3-Weights_best.h5', monitor='val_loss', verbose=0, save_best_only=True, mode='auto'),\n",
    "        tensorflow.keras.callbacks.EarlyStopping(monitor='val_loss', patience=5, verbose=0, mode='auto')]\n",
    "\n",
    "# Construct Network\n",
    "model = models.Sequential()\n",
    "model.add(BatchNormalization(axis=-1,input_shape=inpShape, name='Normalization_1'))\n",
    "model.add(ZeroPadding2D(padding=(0,1),name='ZPad1'))\n",
    "model.add(Convolution2D(filters=CNN1_numFilt, kernel_size=CNN1_kernSize, activation=activationHidden, name='Conv_1'))\n",
    "model.add(Dropout(dropoutRate))\n",
    "model.add(ZeroPadding2D(padding=(1,1),input_shape=inpShape,name='ZPad2'))\n",
    "model.add(Convolution2D(filters=CNN2_numFilt, kernel_size=CNN2_kernSize, activation=activationHidden, name='Conv_2'))\n",
    "model.add(Dropout(dropoutRate))\n",
    "model.add(Flatten())\n",
    "model.add(Dense(Dense1_numNeurons, activation=activationHidden))\n",
    "model.add(Dropout(dropoutRate))\n",
    "model.add(Dense(numOutput, activation=activationOutput))\n",
    "model.compile(loss=lossFunction, optimizer=netOptimizer,metrics=['categorical_accuracy'])\n",
    "model.summary()"
   ]
  },
  {
   "cell_type": "markdown",
   "metadata": {},
   "source": [
    "# Train Network"
   ]
  },
  {
   "cell_type": "code",
   "execution_count": 7,
   "metadata": {},
   "outputs": [],
   "source": [
    "numEpochs = 100\n",
    "batchSize = 1024"
   ]
  },
  {
   "cell_type": "code",
   "execution_count": 8,
   "metadata": {},
   "outputs": [
    {
     "name": "stdout",
     "output_type": "stream",
     "text": [
      "Train on 99000 samples, validate on 11000 samples\n",
      "Epoch 1/100\n",
      "99000/99000 - 8s - loss: 2.1083 - categorical_accuracy: 0.2282 - val_loss: 2.5080 - val_categorical_accuracy: 0.0905\n",
      "Epoch 2/100\n",
      "99000/99000 - 5s - loss: 1.8902 - categorical_accuracy: 0.2908 - val_loss: 2.4561 - val_categorical_accuracy: 0.1214\n",
      "Epoch 3/100\n",
      "99000/99000 - 5s - loss: 1.7783 - categorical_accuracy: 0.3231 - val_loss: 2.3542 - val_categorical_accuracy: 0.1537\n",
      "Epoch 4/100\n",
      "99000/99000 - 5s - loss: 1.6951 - categorical_accuracy: 0.3489 - val_loss: 2.2625 - val_categorical_accuracy: 0.1617\n",
      "Epoch 5/100\n",
      "99000/99000 - 5s - loss: 1.6213 - categorical_accuracy: 0.3782 - val_loss: 2.1514 - val_categorical_accuracy: 0.2224\n",
      "Epoch 6/100\n",
      "99000/99000 - 5s - loss: 1.5382 - categorical_accuracy: 0.4141 - val_loss: 1.9126 - val_categorical_accuracy: 0.3082\n",
      "Epoch 7/100\n",
      "99000/99000 - 5s - loss: 1.4913 - categorical_accuracy: 0.4309 - val_loss: 1.8151 - val_categorical_accuracy: 0.3275\n",
      "Epoch 8/100\n",
      "99000/99000 - 5s - loss: 1.4637 - categorical_accuracy: 0.4399 - val_loss: 1.6764 - val_categorical_accuracy: 0.3560\n",
      "Epoch 9/100\n",
      "99000/99000 - 5s - loss: 1.4466 - categorical_accuracy: 0.4475 - val_loss: 1.4553 - val_categorical_accuracy: 0.4397\n",
      "Epoch 10/100\n",
      "99000/99000 - 5s - loss: 1.4279 - categorical_accuracy: 0.4540 - val_loss: 1.3763 - val_categorical_accuracy: 0.4704\n",
      "Epoch 11/100\n",
      "99000/99000 - 5s - loss: 1.4206 - categorical_accuracy: 0.4546 - val_loss: 1.3220 - val_categorical_accuracy: 0.4958\n",
      "Epoch 12/100\n",
      "99000/99000 - 5s - loss: 1.4119 - categorical_accuracy: 0.4566 - val_loss: 1.3127 - val_categorical_accuracy: 0.4993\n",
      "Epoch 13/100\n",
      "99000/99000 - 5s - loss: 1.4056 - categorical_accuracy: 0.4596 - val_loss: 1.3015 - val_categorical_accuracy: 0.5057\n",
      "Epoch 14/100\n",
      "99000/99000 - 5s - loss: 1.3981 - categorical_accuracy: 0.4630 - val_loss: 1.3059 - val_categorical_accuracy: 0.4954\n",
      "Epoch 15/100\n",
      "99000/99000 - 5s - loss: 1.3944 - categorical_accuracy: 0.4645 - val_loss: 1.3130 - val_categorical_accuracy: 0.5014\n",
      "Epoch 16/100\n",
      "99000/99000 - 5s - loss: 1.3888 - categorical_accuracy: 0.4635 - val_loss: 1.2898 - val_categorical_accuracy: 0.5085\n",
      "Epoch 17/100\n",
      "99000/99000 - 5s - loss: 1.3782 - categorical_accuracy: 0.4688 - val_loss: 1.2884 - val_categorical_accuracy: 0.5122\n",
      "Epoch 18/100\n",
      "99000/99000 - 5s - loss: 1.3749 - categorical_accuracy: 0.4696 - val_loss: 1.2994 - val_categorical_accuracy: 0.5051\n",
      "Epoch 19/100\n",
      "99000/99000 - 5s - loss: 1.3728 - categorical_accuracy: 0.4705 - val_loss: 1.2934 - val_categorical_accuracy: 0.5065\n",
      "Epoch 20/100\n",
      "99000/99000 - 5s - loss: 1.3679 - categorical_accuracy: 0.4735 - val_loss: 1.2853 - val_categorical_accuracy: 0.5142\n",
      "Epoch 21/100\n",
      "99000/99000 - 5s - loss: 1.3630 - categorical_accuracy: 0.4769 - val_loss: 1.2700 - val_categorical_accuracy: 0.5256\n",
      "Epoch 22/100\n",
      "99000/99000 - 5s - loss: 1.3552 - categorical_accuracy: 0.4792 - val_loss: 1.2669 - val_categorical_accuracy: 0.5172\n",
      "Epoch 23/100\n",
      "99000/99000 - 5s - loss: 1.3525 - categorical_accuracy: 0.4800 - val_loss: 1.2701 - val_categorical_accuracy: 0.5200\n",
      "Epoch 24/100\n",
      "99000/99000 - 5s - loss: 1.3496 - categorical_accuracy: 0.4809 - val_loss: 1.2789 - val_categorical_accuracy: 0.5182\n",
      "Epoch 25/100\n",
      "99000/99000 - 5s - loss: 1.3440 - categorical_accuracy: 0.4850 - val_loss: 1.2706 - val_categorical_accuracy: 0.5165\n",
      "Epoch 26/100\n",
      "99000/99000 - 5s - loss: 1.3425 - categorical_accuracy: 0.4842 - val_loss: 1.2657 - val_categorical_accuracy: 0.5205\n",
      "Epoch 27/100\n",
      "99000/99000 - 5s - loss: 1.3415 - categorical_accuracy: 0.4840 - val_loss: 1.2713 - val_categorical_accuracy: 0.5211\n",
      "Epoch 28/100\n",
      "99000/99000 - 5s - loss: 1.3374 - categorical_accuracy: 0.4866 - val_loss: 1.2626 - val_categorical_accuracy: 0.5273\n",
      "Epoch 29/100\n",
      "99000/99000 - 5s - loss: 1.3329 - categorical_accuracy: 0.4854 - val_loss: 1.2625 - val_categorical_accuracy: 0.5244\n",
      "Epoch 30/100\n",
      "99000/99000 - 5s - loss: 1.3323 - categorical_accuracy: 0.4852 - val_loss: 1.2633 - val_categorical_accuracy: 0.5255\n",
      "Epoch 31/100\n",
      "99000/99000 - 5s - loss: 1.3289 - categorical_accuracy: 0.4880 - val_loss: 1.2642 - val_categorical_accuracy: 0.5205\n",
      "Epoch 32/100\n",
      "99000/99000 - 5s - loss: 1.3262 - categorical_accuracy: 0.4873 - val_loss: 1.2624 - val_categorical_accuracy: 0.5135\n",
      "Epoch 33/100\n",
      "99000/99000 - 5s - loss: 1.3220 - categorical_accuracy: 0.4910 - val_loss: 1.2555 - val_categorical_accuracy: 0.5292\n",
      "Epoch 34/100\n",
      "99000/99000 - 6s - loss: 1.3230 - categorical_accuracy: 0.4910 - val_loss: 1.2572 - val_categorical_accuracy: 0.5280\n",
      "Epoch 35/100\n",
      "99000/99000 - 6s - loss: 1.3191 - categorical_accuracy: 0.4911 - val_loss: 1.2603 - val_categorical_accuracy: 0.5279\n",
      "Epoch 36/100\n",
      "99000/99000 - 6s - loss: 1.3176 - categorical_accuracy: 0.4910 - val_loss: 1.2578 - val_categorical_accuracy: 0.5311\n",
      "Epoch 37/100\n",
      "99000/99000 - 6s - loss: 1.3156 - categorical_accuracy: 0.4928 - val_loss: 1.2550 - val_categorical_accuracy: 0.5307\n",
      "Epoch 38/100\n",
      "99000/99000 - 6s - loss: 1.3156 - categorical_accuracy: 0.4919 - val_loss: 1.2542 - val_categorical_accuracy: 0.5315\n",
      "Epoch 39/100\n",
      "99000/99000 - 6s - loss: 1.3093 - categorical_accuracy: 0.4931 - val_loss: 1.2570 - val_categorical_accuracy: 0.5243\n",
      "Epoch 40/100\n",
      "99000/99000 - 6s - loss: 1.3105 - categorical_accuracy: 0.4936 - val_loss: 1.2534 - val_categorical_accuracy: 0.5255\n",
      "Epoch 41/100\n",
      "99000/99000 - 6s - loss: 1.3066 - categorical_accuracy: 0.4961 - val_loss: 1.2552 - val_categorical_accuracy: 0.5311\n",
      "Epoch 42/100\n",
      "99000/99000 - 6s - loss: 1.3063 - categorical_accuracy: 0.4960 - val_loss: 1.2632 - val_categorical_accuracy: 0.5273\n",
      "Epoch 43/100\n",
      "99000/99000 - 6s - loss: 1.3025 - categorical_accuracy: 0.4976 - val_loss: 1.2526 - val_categorical_accuracy: 0.5295\n",
      "Epoch 44/100\n",
      "99000/99000 - 6s - loss: 1.3045 - categorical_accuracy: 0.4972 - val_loss: 1.2554 - val_categorical_accuracy: 0.5235\n",
      "Epoch 45/100\n",
      "99000/99000 - 6s - loss: 1.2976 - categorical_accuracy: 0.4972 - val_loss: 1.2494 - val_categorical_accuracy: 0.5258\n",
      "Epoch 46/100\n",
      "99000/99000 - 6s - loss: 1.3006 - categorical_accuracy: 0.4988 - val_loss: 1.2520 - val_categorical_accuracy: 0.5278\n",
      "Epoch 47/100\n",
      "99000/99000 - 6s - loss: 1.2956 - categorical_accuracy: 0.4992 - val_loss: 1.2586 - val_categorical_accuracy: 0.5283\n",
      "Epoch 48/100\n",
      "99000/99000 - 5s - loss: 1.2926 - categorical_accuracy: 0.5012 - val_loss: 1.2524 - val_categorical_accuracy: 0.5312\n",
      "Epoch 49/100\n",
      "99000/99000 - 6s - loss: 1.2884 - categorical_accuracy: 0.5001 - val_loss: 1.2527 - val_categorical_accuracy: 0.5291\n",
      "Epoch 50/100\n",
      "99000/99000 - 6s - loss: 1.2874 - categorical_accuracy: 0.5023 - val_loss: 1.2478 - val_categorical_accuracy: 0.5295\n",
      "Epoch 51/100\n",
      "99000/99000 - 6s - loss: 1.2884 - categorical_accuracy: 0.5009 - val_loss: 1.2509 - val_categorical_accuracy: 0.5305\n",
      "Epoch 52/100\n",
      "99000/99000 - 5s - loss: 1.2820 - categorical_accuracy: 0.5048 - val_loss: 1.2500 - val_categorical_accuracy: 0.5299\n",
      "Epoch 53/100\n",
      "99000/99000 - 6s - loss: 1.2841 - categorical_accuracy: 0.5046 - val_loss: 1.2477 - val_categorical_accuracy: 0.5320\n",
      "Epoch 54/100\n",
      "99000/99000 - 6s - loss: 1.2777 - categorical_accuracy: 0.5064 - val_loss: 1.2503 - val_categorical_accuracy: 0.5306\n",
      "Epoch 55/100\n",
      "99000/99000 - 5s - loss: 1.2810 - categorical_accuracy: 0.5047 - val_loss: 1.2521 - val_categorical_accuracy: 0.5298\n",
      "Epoch 56/100\n",
      "99000/99000 - 5s - loss: 1.2774 - categorical_accuracy: 0.5076 - val_loss: 1.2612 - val_categorical_accuracy: 0.5248\n",
      "Epoch 57/100\n",
      "99000/99000 - 5s - loss: 1.2768 - categorical_accuracy: 0.5054 - val_loss: 1.2543 - val_categorical_accuracy: 0.5291\n",
      "Epoch 58/100\n",
      "99000/99000 - 5s - loss: 1.2748 - categorical_accuracy: 0.5078 - val_loss: 1.2512 - val_categorical_accuracy: 0.5304\n"
     ]
    }
   ],
   "source": [
    "history = model.fit(X_train,y_train,epochs=numEpochs,batch_size=batchSize,validation_data=(X_valid,y_valid),callbacks=callbackList,verbose=2)"
   ]
  },
  {
   "cell_type": "code",
   "execution_count": 9,
   "metadata": {},
   "outputs": [],
   "source": [
    "# Save History\n",
    "np_loss_history = np.array(history.history[\"loss\"])\n",
    "np.save('Data/CNN-3/lossHist.npy',np_loss_history)\n",
    "\n",
    "np_accu_history = np.array(history.history[\"categorical_accuracy\"])\n",
    "np.save('Data/CNN-3/accuHist.npy',np_accu_history)\n",
    "\n",
    "np_val_loss_history = np.array(history.history[\"val_loss\"])\n",
    "np.save('Data/CNN-3/valLossHist.npy',np_val_loss_history)\n",
    "\n",
    "np_val_accu_history = np.array(history.history[\"val_categorical_accuracy\"])\n",
    "np.save('Data/CNN-3/valAccuHist.npy',np_val_accu_history)"
   ]
  },
  {
   "cell_type": "markdown",
   "metadata": {},
   "source": [
    "# Test/Evaluate Network"
   ]
  },
  {
   "cell_type": "code",
   "execution_count": 6,
   "metadata": {},
   "outputs": [
    {
     "name": "stdout",
     "output_type": "stream",
     "text": [
      "110000/110000 [==============================] - 24s 218us/sample - loss: 1.2550 - categorical_accuracy: 0.5238\n"
     ]
    },
    {
     "data": {
      "text/plain": [
       "[1.2550186336343938, 0.5238364]"
      ]
     },
     "execution_count": 6,
     "metadata": {},
     "output_type": "execute_result"
    }
   ],
   "source": [
    "# Re-load Best Weights\n",
    "model.load_weights('Data/CNN-3/CNN-3-Weights_best.h5')\n",
    "\n",
    "model.evaluate(X_test,y_test)"
   ]
  },
  {
   "cell_type": "markdown",
   "metadata": {},
   "source": [
    "# Visualize Results"
   ]
  },
  {
   "cell_type": "code",
   "execution_count": 7,
   "metadata": {},
   "outputs": [
    {
     "data": {
      "text/plain": [
       "<matplotlib.legend.Legend at 0x22e6964e588>"
      ]
     },
     "execution_count": 7,
     "metadata": {},
     "output_type": "execute_result"
    },
    {
     "data": {
      "image/png": "[encoded data removed]",
      "text/plain": [
       "<Figure size 432x288 with 1 Axes>"
      ]
     },
     "metadata": {
      "needs_background": "light"
     },
     "output_type": "display_data"
    }
   ],
   "source": [
    "# Load Details of History\n",
    "lHist = np.load('Data/CNN-3/lossHist.npy')\n",
    "aHist = np.load('Data/CNN-3/accuHist.npy')\n",
    "\n",
    "vLHist = np.load('Data/CNN-3/valLossHist.npy')\n",
    "vAHist = np.load('Data/CNN-3/valAccuHist.npy')\n",
    "\n",
    "# Show loss curves \n",
    "plt.figure()\n",
    "plt.title('CNN 3 - Training performance')\n",
    "plt.plot(lHist, label='Training Loss')\n",
    "plt.plot(vLHist, label='Validation Loss')\n",
    "plt.xlabel('Epochs')\n",
    "plt.xticks(np.arange(0,len(lHist)+1,2),np.arange(1,len(lHist)+1,2))\n",
    "plt.ylabel('Loss')\n",
    "plt.legend()"
   ]
  },
  {
   "cell_type": "code",
   "execution_count": 8,
   "metadata": {},
   "outputs": [],
   "source": [
    "# Function to Extract Test Data of Specific SNR\n",
    "def extractTest(data,labels,labelsEncoded,testIndex,snr):\n",
    "    testData = data[testIndex]\n",
    "    labelArray = np.array([labels])\n",
    "    testLabels = labelArray[:,testIdx,:]\n",
    "    testLabelsEncoded = labelsEncoded[testIdx]\n",
    "    \n",
    "    idxOP = list()\n",
    "    \n",
    "    # Loop Through Label Array To Get Index of Specific SNR\n",
    "    for i in range(0,testLabels.shape[1]):\n",
    "        if testLabels[0,i,1].decode('ascii')==snr:\n",
    "            idxOP.append(i)\n",
    "    \n",
    "    # Return Subset of Test Data and Corresponding Labels\n",
    "    opTestData = np.expand_dims(testData[idxOP,:,:],axis=-1)\n",
    "    opTestLabel = testLabelsEncoded[idxOP]\n",
    "    \n",
    "    return opTestData, opTestLabel\n",
    "\n",
    "def plot_confusion_matrix(cm, titleAdd, title='CNN 3 - Confusion matrix', cmap=plt.cm.Blues, labels=[]):\n",
    "    plt.imshow(cm, interpolation='nearest', cmap=cmap)\n",
    "    plt.title(title+titleAdd)\n",
    "    plt.colorbar()\n",
    "    tick_marks = np.arange(len(labels))\n",
    "    plt.xticks(tick_marks, labels, rotation=45)\n",
    "    plt.yticks(tick_marks, labels)\n",
    "    plt.tight_layout()\n",
    "    plt.ylabel('True label')\n",
    "    plt.xlabel('Predicted label')\n",
    "\n",
    "# Confusion Matrix Function\n",
    "def prepConfMat(testData,testLabel,predTestLabel,mods,title):\n",
    "    modString = list()\n",
    "    for i in range(0,len(mods)):\n",
    "        modString.append(mods[i].decode('ascii'))\n",
    "    \n",
    "    conf = np.zeros([len(mods),len(mods)])\n",
    "    confnorm = np.zeros([len(mods),len(mods)])\n",
    "    for i in range(0,testData.shape[0]):\n",
    "        j = list(testLabel[i,:]).index(1)\n",
    "        k = int(np.argmax(predTestLabel[i,:]))\n",
    "        conf[j,k] = conf[j,k] + 1\n",
    "    for i in range(0,len(mods)):\n",
    "        confnorm[i,:] = conf[i,:] / np.sum(conf[i,:])\n",
    "    plot_confusion_matrix(confnorm, title, labels=modString)"
   ]
  },
  {
   "cell_type": "code",
   "execution_count": 9,
   "metadata": {},
   "outputs": [
    {
     "data": {
      "image/png": "[encoded data removed]",
      "text/plain": [
       "<Figure size 432x288 with 2 Axes>"
      ]
     },
     "metadata": {
      "needs_background": "light"
     },
     "output_type": "display_data"
    }
   ],
   "source": [
    "# Plot confusion matrix\n",
    "test_Y_hat = model.predict(X_test, batch_size=1024)\n",
    "\n",
    "prepConfMat(X_test,y_test,test_Y_hat,mods,' (All SNRs)')"
   ]
  },
  {
   "cell_type": "code",
   "execution_count": 10,
   "metadata": {
    "scrolled": true
   },
   "outputs": [
    {
     "data": {
      "image/png": "[encoded data removed]",
      "text/plain": [
       "<Figure size 432x288 with 2 Axes>"
      ]
     },
     "metadata": {
      "needs_background": "light"
     },
     "output_type": "display_data"
    }
   ],
   "source": [
    "# Plot Confusion Matrix for Specific SNR\n",
    "snr = '18'\n",
    "title = ' (SNR = '+snr+')'\n",
    "x_testSNR, y_TestSNR = extractTest(X,lbl,lbl_encoded,testIdx,snr)\n",
    "y_hat_snr = model.predict(x_testSNR, batch_size=1024)\n",
    "prepConfMat(x_testSNR,y_TestSNR,y_hat_snr,mods,title)"
   ]
  },
  {
   "cell_type": "code",
   "execution_count": 11,
   "metadata": {},
   "outputs": [
    {
     "name": "stdout",
     "output_type": "stream",
     "text": [
      "Overall Accuracy:  0.09515227969003424 for SNR b'-20'\n",
      "Overall Accuracy:  0.09676833696441539 for SNR b'-18'\n",
      "Overall Accuracy:  0.0892628498262301 for SNR b'-16'\n",
      "Overall Accuracy:  0.10636363636363637 for SNR b'-14'\n",
      "Overall Accuracy:  0.12623628843733142 for SNR b'-12'\n",
      "Overall Accuracy:  0.19669421487603306 for SNR b'-10'\n",
      "Overall Accuracy:  0.32829845313921746 for SNR b'-8'\n",
      "Overall Accuracy:  0.49550359712230213 for SNR b'-6'\n",
      "Overall Accuracy:  0.613948380010983 for SNR b'-4'\n",
      "Overall Accuracy:  0.6969752858723718 for SNR b'-2'\n",
      "Overall Accuracy:  0.7345100864553314 for SNR b'0'\n",
      "Overall Accuracy:  0.7613281966611631 for SNR b'2'\n",
      "Overall Accuracy:  0.7602506714413608 for SNR b'4'\n",
      "Overall Accuracy:  0.769036903690369 for SNR b'6'\n",
      "Overall Accuracy:  0.7665427509293681 for SNR b'8'\n",
      "Overall Accuracy:  0.7746606334841629 for SNR b'10'\n",
      "Overall Accuracy:  0.7684441197954711 for SNR b'12'\n",
      "Overall Accuracy:  0.7733113069016153 for SNR b'14'\n",
      "Overall Accuracy:  0.7593670425609312 for SNR b'16'\n",
      "Overall Accuracy:  0.7692446043165467 for SNR b'18'\n",
      "Random Guess Accuracy: 0.09090909090909091\n"
     ]
    }
   ],
   "source": [
    "# Get the test accuracy for different SNRs\n",
    "acc = {}\n",
    "acc_array=[]\n",
    "\n",
    "snr_array=np.asarray(lbl)[:,1]\n",
    "lb_temp = preprocessing.LabelBinarizer()\n",
    "lb_temp.fit(snr_array)\n",
    "temp_array=lb_temp.classes_\n",
    "snr_label_array = []\n",
    "\n",
    "\n",
    "snr_label_array.append(temp_array[6])\n",
    "snr_label_array.append(temp_array[4])\n",
    "snr_label_array.append(temp_array[3])\n",
    "snr_label_array.append(temp_array[2])\n",
    "snr_label_array.append(temp_array[1])\n",
    "snr_label_array.append(temp_array[0])\n",
    "snr_label_array.append(temp_array[9])\n",
    "snr_label_array.append(temp_array[8])\n",
    "snr_label_array.append(temp_array[7])\n",
    "snr_label_array.append(temp_array[5])\n",
    "snr_label_array.append(temp_array[10])\n",
    "snr_label_array.append(temp_array[16])\n",
    "snr_label_array.append(temp_array[17])\n",
    "snr_label_array.append(temp_array[18])\n",
    "snr_label_array.append(temp_array[19])\n",
    "snr_label_array.append(temp_array[11])\n",
    "snr_label_array.append(temp_array[12])\n",
    "snr_label_array.append(temp_array[13])\n",
    "snr_label_array.append(temp_array[14])\n",
    "snr_label_array.append(temp_array[15])\n",
    "\n",
    "\n",
    "#print(snr_label_array)\n",
    "y_test_snr=snr_array[testIdx]\n",
    "\n",
    "\n",
    "\n",
    "for snr in snr_label_array:\n",
    "    test_X_i = X_test[np.where(y_test_snr==snr)]\n",
    "    test_Y_i = y_test[np.where(y_test_snr==snr)]\n",
    "    \n",
    "    test_Y_i_hat = model.predict(test_X_i)\n",
    "    conf = np.zeros([len(mods),len(mods)])\n",
    "    confnorm = np.zeros([len(mods),len(mods)])\n",
    "    for i in range(0,test_X_i.shape[0]):\n",
    "        j = list(test_Y_i[i,:]).index(1)\n",
    "        k = int(np.argmax(test_Y_i_hat[i,:]))\n",
    "        conf[j,k] = conf[j,k] + 1\n",
    "    for i in range(0,len(mods)):\n",
    "        confnorm[i,:] = conf[i,:] / np.sum(conf[i,:])\n",
    "    \n",
    "    #plt.figure()\n",
    "    #plot_confusion_matrix(confnorm, labels=classes, title=\"ConvNet Confusion Matrix (SNR=%d)\"%(snr))\n",
    "    \n",
    "    cor = np.sum(np.diag(conf))\n",
    "    ncor = np.sum(conf) - cor\n",
    "    print(\"Overall Accuracy: \", cor / (cor+ncor),\"for SNR\",snr)\n",
    "    acc[snr] = 1.0*cor/(cor+ncor)\n",
    "    acc_array.append(1.0*cor/(cor+ncor))\n",
    "\n",
    "print(\"Random Guess Accuracy:\",1/11)"
   ]
  },
  {
   "cell_type": "code",
   "execution_count": 12,
   "metadata": {},
   "outputs": [
    {
     "data": {
      "image/png": "[encoded data removed]",
      "text/plain": [
       "<Figure size 576x432 with 1 Axes>"
      ]
     },
     "metadata": {
      "needs_background": "light"
     },
     "output_type": "display_data"
    }
   ],
   "source": [
    "# Show loss curves \n",
    "plt.figure(figsize=(8, 6))\n",
    "plt.title('CNN 3 - Accuracy vs SNRs')\n",
    "plt.plot(np.arange(-20,20,2), acc_array)\n",
    "plt.xlabel('SNR')\n",
    "plt.xticks(np.arange(-20,20,2))\n",
    "plt.ylabel('Class Accuracy')\n",
    "plt.grid()\n",
    "plt.show()"
   ]
  },
  {
   "cell_type": "code",
   "execution_count": 13,
   "metadata": {},
   "outputs": [],
   "source": [
    "accRes = np.array([acc_array])\n",
    "np.save('Data/CNN-3/accResSNR.npy',accRes)"
   ]
  }
 ],
 "metadata": {
  "kernelspec": {
   "display_name": "Python 3",
   "language": "python",
   "name": "python3"
  },
  "language_info": {
   "codemirror_mode": {
    "name": "ipython",
    "version": 3
   },
   "file_extension": ".py",
   "mimetype": "text/x-python",
   "name": "python",
   "nbconvert_exporter": "python",
   "pygments_lexer": "ipython3",
   "version": "3.7.6"
  }
 },
 "nbformat": 4,
 "nbformat_minor": 4
}
