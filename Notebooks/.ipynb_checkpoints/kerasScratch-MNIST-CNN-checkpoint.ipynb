{
 "cells": [
  {
   "cell_type": "markdown",
   "metadata": {},
   "source": [
    "# Keras Practice - MNIST CNN\n",
    "\n",
    "Implementing a CNN based solution for the MNIST classification from EECE 571M.\n",
    "\n",
    "CNN with a single convolutional layer, a single max pooling layer followed by a 10 node dense layer."
   ]
  },
  {
   "cell_type": "code",
   "execution_count": 1,
   "metadata": {},
   "outputs": [],
   "source": [
    "# Imports\n",
    "%matplotlib inline\n",
    "import random\n",
    "import tensorflow.keras.utils\n",
    "import tensorflow.keras.models as models\n",
    "from tensorflow.keras.layers import Reshape,Dense,Dropout,Activation,Flatten\n",
    "from tensorflow.keras.layers import GaussianNoise\n",
    "from tensorflow.keras.layers import Conv2D, MaxPooling2D, ZeroPadding2D\n",
    "from tensorflow.keras.regularizers import *\n",
    "from tensorflow.keras.optimizers import *\n",
    "import matplotlib.pyplot as plt\n",
    "import seaborn as sns\n",
    "import tensorflow.keras\n",
    "import numpy as np"
   ]
  },
  {
   "cell_type": "code",
   "execution_count": 2,
   "metadata": {},
   "outputs": [],
   "source": [
    "def loadData():\n",
    "    with np.load('C:/Users/aksha/Documents/Jupyter Notebooks/radioml-classification/Datasets/Sample/notMNIST.npz') as data:\n",
    "        Data, Target = data['images'], data['labels']\n",
    "        np.random.seed(521)\n",
    "        randIndx = np.arange(len(Data))\n",
    "        np.random.shuffle(randIndx)\n",
    "        Data = Data[randIndx]/255.0\n",
    "        Target = Target[randIndx]\n",
    "        trainData, trainTarget = Data[:15000], Target[:15000]\n",
    "        validData, validTarget = Data[15000:16000], Target[15000:16000]\n",
    "        testData, testTarget = Data[16000:], Target[16000:]\n",
    "       \n",
    "    return trainData, validData, testData, trainTarget, validTarget, testTarget"
   ]
  },
  {
   "cell_type": "code",
   "execution_count": 3,
   "metadata": {},
   "outputs": [],
   "source": [
    "def convertOneHot(trainTarget, validTarget, testTarget):\n",
    "    trainTargetOneHot = np.zeros([trainTarget.shape[0],10])\n",
    "    trainTargetOneHot[np.arange(trainTarget.size),trainTarget]=1\n",
    "    \n",
    "    validTargetOneHot = np.zeros([validTarget.shape[0],10])\n",
    "    validTargetOneHot[np.arange(validTarget.size),validTarget] = 1\n",
    "    \n",
    "    testTargetOneHot = np.zeros([testTarget.shape[0],10])\n",
    "    testTargetOneHot[np.arange(testTarget.size),testTarget]=1\n",
    "    \n",
    "    return trainTargetOneHot, validTargetOneHot, testTargetOneHot"
   ]
  },
  {
   "cell_type": "code",
   "execution_count": 4,
   "metadata": {},
   "outputs": [],
   "source": [
    "# Load Data\n",
    "trainData, validData, testData, trainTarget, validTarget, testTarget = loadData()\n",
    "\n",
    "trainData = np.expand_dims(trainData, axis=-1)\n",
    "validData = np.expand_dims(validData, axis=-1)\n",
    "testData = np.expand_dims(testData, axis=-1)\n",
    "\n",
    "trainTargetOneHot, validTargetOneHot, testTargetOneHot = convertOneHot(trainTarget, validTarget, testTarget)"
   ]
  },
  {
   "cell_type": "code",
   "execution_count": 5,
   "metadata": {
    "scrolled": true
   },
   "outputs": [
    {
     "name": "stdout",
     "output_type": "stream",
     "text": [
      "Model: \"sequential\"\n",
      "_________________________________________________________________\n",
      "Layer (type)                 Output Shape              Param #   \n",
      "=================================================================\n",
      "conv2d (Conv2D)              (None, 26, 26, 8)         80        \n",
      "_________________________________________________________________\n",
      "max_pooling2d (MaxPooling2D) (None, 13, 13, 8)         0         \n",
      "_________________________________________________________________\n",
      "flatten (Flatten)            (None, 1352)              0         \n",
      "_________________________________________________________________\n",
      "dense (Dense)                (None, 10)                13530     \n",
      "=================================================================\n",
      "Total params: 13,610\n",
      "Trainable params: 13,610\n",
      "Non-trainable params: 0\n",
      "_________________________________________________________________\n"
     ]
    }
   ],
   "source": [
    "# Reseed PRNG\n",
    "random.seed(777)\n",
    "\n",
    "# Construct Network\n",
    "model = models.Sequential()\n",
    "model.add(Conv2D(filters=8, kernel_size=3, input_shape=(28,28,1)))\n",
    "model.add(MaxPooling2D(pool_size=2))\n",
    "model.add(Flatten())\n",
    "model.add(Dense(10, activation='softmax'))\n",
    "model.compile(loss='categorical_crossentropy', optimizer='adam',metrics=['accuracy'])\n",
    "model.summary()"
   ]
  },
  {
   "cell_type": "code",
   "execution_count": 6,
   "metadata": {},
   "outputs": [
    {
     "name": "stdout",
     "output_type": "stream",
     "text": [
      "Train on 15000 samples, validate on 1000 samples\n",
      "Epoch 1/20\n",
      "15000/15000 - 8s - loss: 0.6184 - accuracy: 0.8393 - val_loss: 0.4633 - val_accuracy: 0.8720\n",
      "Epoch 2/20\n",
      "15000/15000 - 3s - loss: 0.4342 - accuracy: 0.8875 - val_loss: 0.3828 - val_accuracy: 0.8980\n",
      "Epoch 3/20\n",
      "15000/15000 - 3s - loss: 0.3970 - accuracy: 0.8959 - val_loss: 0.3611 - val_accuracy: 0.8990\n",
      "Epoch 4/20\n",
      "15000/15000 - 3s - loss: 0.3690 - accuracy: 0.9012 - val_loss: 0.3494 - val_accuracy: 0.9020\n",
      "Epoch 5/20\n",
      "15000/15000 - 3s - loss: 0.3476 - accuracy: 0.9073 - val_loss: 0.3362 - val_accuracy: 0.9020\n",
      "Epoch 6/20\n",
      "15000/15000 - 3s - loss: 0.3288 - accuracy: 0.9116 - val_loss: 0.3444 - val_accuracy: 0.9030\n",
      "Epoch 7/20\n",
      "15000/15000 - 3s - loss: 0.3119 - accuracy: 0.9171 - val_loss: 0.3154 - val_accuracy: 0.9120\n",
      "Epoch 8/20\n",
      "15000/15000 - 3s - loss: 0.2984 - accuracy: 0.9190 - val_loss: 0.3185 - val_accuracy: 0.9060\n",
      "Epoch 9/20\n",
      "15000/15000 - 3s - loss: 0.2826 - accuracy: 0.9227 - val_loss: 0.3154 - val_accuracy: 0.9130\n",
      "Epoch 10/20\n",
      "15000/15000 - 3s - loss: 0.2708 - accuracy: 0.9252 - val_loss: 0.2999 - val_accuracy: 0.9180\n",
      "Epoch 11/20\n",
      "15000/15000 - 3s - loss: 0.2583 - accuracy: 0.9291 - val_loss: 0.2980 - val_accuracy: 0.9190\n",
      "Epoch 12/20\n",
      "15000/15000 - 3s - loss: 0.2459 - accuracy: 0.9335 - val_loss: 0.2862 - val_accuracy: 0.9190\n",
      "Epoch 13/20\n",
      "15000/15000 - 3s - loss: 0.2317 - accuracy: 0.9360 - val_loss: 0.2809 - val_accuracy: 0.9240\n",
      "Epoch 14/20\n",
      "15000/15000 - 3s - loss: 0.2197 - accuracy: 0.9408 - val_loss: 0.2781 - val_accuracy: 0.9230\n",
      "Epoch 15/20\n",
      "15000/15000 - 3s - loss: 0.2087 - accuracy: 0.9430 - val_loss: 0.2774 - val_accuracy: 0.9280\n",
      "Epoch 16/20\n",
      "15000/15000 - 3s - loss: 0.1989 - accuracy: 0.9453 - val_loss: 0.2815 - val_accuracy: 0.9230\n",
      "Epoch 17/20\n",
      "15000/15000 - 3s - loss: 0.1886 - accuracy: 0.9484 - val_loss: 0.2638 - val_accuracy: 0.9220\n",
      "Epoch 18/20\n",
      "15000/15000 - 3s - loss: 0.1795 - accuracy: 0.9509 - val_loss: 0.2612 - val_accuracy: 0.9270\n",
      "Epoch 19/20\n",
      "15000/15000 - 3s - loss: 0.1710 - accuracy: 0.9538 - val_loss: 0.2623 - val_accuracy: 0.9280\n",
      "Epoch 20/20\n",
      "15000/15000 - 3s - loss: 0.1635 - accuracy: 0.9551 - val_loss: 0.2582 - val_accuracy: 0.9270\n"
     ]
    }
   ],
   "source": [
    "# Train Model\n",
    "history = model.fit(trainData, trainTargetOneHot, epochs=20, verbose=2, validation_data=(validData,validTargetOneHot))"
   ]
  },
  {
   "cell_type": "code",
   "execution_count": 21,
   "metadata": {},
   "outputs": [
    {
     "data": {
      "image/png": "[encoded data removed]",
      "text/plain": [
       "<Figure size 432x288 with 1 Axes>"
      ]
     },
     "metadata": {
      "needs_background": "light"
     },
     "output_type": "display_data"
    },
    {
     "data": {
      "image/png": "[encoded data removed]",
      "text/plain": [
       "<Figure size 432x288 with 1 Axes>"
      ]
     },
     "metadata": {
      "needs_background": "light"
     },
     "output_type": "display_data"
    }
   ],
   "source": [
    "# Plot training & validation accuracy values\n",
    "plt.plot(history.history['accuracy'])\n",
    "plt.plot(history.history['val_accuracy'])\n",
    "plt.title('Model accuracy')\n",
    "plt.ylabel('Accuracy')\n",
    "plt.xlabel('Epoch')\n",
    "plt.xticks(np.arange(0,len(history.history['accuracy']),step=1),np.arange(1,len(history.history['accuracy'])+1,step=1))\n",
    "plt.legend(['Training', 'Validation'], loc='lower right')\n",
    "plt.show()\n",
    "\n",
    "# Plot training & validation loss values\n",
    "plt.plot(history.history['loss'])\n",
    "plt.plot(history.history['val_loss'])\n",
    "plt.title('Model loss')\n",
    "plt.ylabel('Loss')\n",
    "plt.xlabel('Epoch')\n",
    "plt.xticks(np.arange(0,len(history.history['loss']),step=1),np.arange(1,len(history.history['loss'])+1,step=1))\n",
    "plt.legend(['Training', 'Validation'], loc='upper right')\n",
    "plt.show()"
   ]
  },
  {
   "cell_type": "code",
   "execution_count": 8,
   "metadata": {},
   "outputs": [
    {
     "name": "stdout",
     "output_type": "stream",
     "text": [
      "2724/2724 [==============================] - 1s 187us/sample - loss: 0.3376 - accuracy: 0.9130\n"
     ]
    }
   ],
   "source": [
    "# Test Data Evaluation\n",
    "results = model.evaluate(testData,testTargetOneHot)"
   ]
  },
  {
   "cell_type": "code",
   "execution_count": 9,
   "metadata": {},
   "outputs": [
    {
     "name": "stdout",
     "output_type": "stream",
     "text": [
      "(15000, 28, 28, 1)\n"
     ]
    }
   ],
   "source": [
    "print(trainData.shape)"
   ]
  }
 ],
 "metadata": {
  "kernelspec": {
   "display_name": "Python 3",
   "language": "python",
   "name": "python3"
  },
  "language_info": {
   "codemirror_mode": {
    "name": "ipython",
    "version": 3
   },
   "file_extension": ".py",
   "mimetype": "text/x-python",
   "name": "python",
   "nbconvert_exporter": "python",
   "pygments_lexer": "ipython3",
   "version": "3.7.6"
  }
 },
 "nbformat": 4,
 "nbformat_minor": 4
}
