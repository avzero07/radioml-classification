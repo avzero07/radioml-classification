{
 "cells": [
  {
   "cell_type": "markdown",
   "metadata": {},
   "source": [
    "# Radio ML Classification - CNN Approach\n",
    "\n",
    "Solution to the RadioML classification challenge using CNNs."
   ]
  },
  {
   "cell_type": "code",
   "execution_count": 1,
   "metadata": {},
   "outputs": [],
   "source": [
    "# Loading Data\n",
    "\n",
    "pathToDataset = \"C:/Users/aksha/Documents/Jupyter Notebooks/radioml-classification/Datasets/Standard/RML2016.10a_dict.pkl\"\n",
    "\n",
    "# Extract the pickle file\n",
    "import pickle\n",
    "import numpy as np\n",
    "Xd = pickle.load(open(pathToDataset,'rb'),encoding=\"bytes\")\n",
    "snrs,mods = map(lambda j: sorted(list(set(map(lambda x: x[j], Xd.keys())))), [1,0])\n",
    "X = []  \n",
    "lbl = []\n",
    "for mod in mods:\n",
    "    for snr in snrs:\n",
    "        X.append(Xd[(mod,snr)])\n",
    "        for i in range(Xd[(mod,snr)].shape[0]):  lbl.append((mod,snr))\n",
    "X = np.vstack(X)"
   ]
  },
  {
   "cell_type": "markdown",
   "metadata": {},
   "source": [
    "# Description of Data\n",
    "\n",
    "The dataset has the size 220,000×2×128, which means that there are 220,000 entries, each consisting of an array of size 2 × 128. Each array represents the samples of about 128 µs of a received waveform sampled with approximately 106 samples/second, and it contains between 8 and 16 modulation symbols. Since the samples of the signal waveforms are complex-valued, they have been stored as real and imaginary parts, and therefore we have arrays of size 2 × 128 in the data set.\n",
    "\n",
    "That is, each row is essentially, **a + ib**.\n",
    "\n",
    "The labels of the downloaded dataset contain two parameters: the modulation technique used (one of [’8PSK’, ’AM-DSB’, ’AM-SSB’, ’BPSK’,’CPFSK’, ’GFSK’, ’PAM4’, ’QAM16’, ’QAM64’, ’QPSK’, ’WBFM’], so 11 possible modulation techniques), and the signal-to noise ratio (SNR) value (one of [−20, −18, −16, −14, −12, −10, −8, −6, −4, −2, 0, 2, 4, 6, 8, 10, 12, 14, 16, 18], so 20 possible SNR values). The SNR is a measure for the quality of the communication channel. The higher the SNR, the less “noisy” is the channel.\n",
    "\n",
    "Each item of the list is essentially like **(b'Modulation Type',SNR Value)** [Use os.fsdecode to extract Modulation Type as string] "
   ]
  },
  {
   "cell_type": "code",
   "execution_count": 2,
   "metadata": {},
   "outputs": [],
   "source": [
    "# Import Necessary Packages\n",
    "%matplotlib inline\n",
    "import os\n",
    "import random\n",
    "import tensorflow.keras.utils\n",
    "import tensorflow.keras.models as models\n",
    "from tensorflow.keras.layers import Reshape,Dense,Dropout,Activation,Flatten\n",
    "from tensorflow.keras.layers import GaussianNoise\n",
    "from tensorflow.keras.layers import Convolution2D, MaxPooling2D, ZeroPadding2D, BatchNormalization, LayerNormalization\n",
    "from tensorflow.keras.regularizers import *\n",
    "from tensorflow.keras.optimizers import *\n",
    "import matplotlib.pyplot as plt\n",
    "import seaborn as sns\n",
    "import tensorflow.keras\n",
    "import numpy as np"
   ]
  },
  {
   "cell_type": "markdown",
   "metadata": {},
   "source": [
    "# Data Processing\n",
    "\n",
    "The goal of this stage is to split data into Training, Validation and Testing data and then process the available data and transform (if needed) it into relevant inputs to be fed into the CNN.\n",
    "\n",
    "1. Split Dataset into Training, Validation and Testing Data : 110,000 samples for training and validation and 110,000 samples for testing."
   ]
  },
  {
   "cell_type": "code",
   "execution_count": 3,
   "metadata": {},
   "outputs": [],
   "source": [
    "#  into training and test sets of the form we can train/test on \n",
    "random.seed(777)\n",
    "np.random.seed(777)\n",
    "\n",
    "index = np.arange(0,220000)\n",
    "random.shuffle(index)\n",
    "\n",
    "trainIdx = index[0:110000]\n",
    "testIdx = index[110000:220000]\n",
    "\n",
    "trainX = X[trainIdx]\n",
    "\n",
    "\n",
    "# Create Validation Data Set\n",
    "indexVal = np.arange(0,110000)\n",
    "random.shuffle(indexVal)\n",
    "\n",
    "realTrainIdx = indexVal[0:99000] \n",
    "valIdx = indexVal[99000:110000]\n",
    "\n",
    "# Actual Training Data\n",
    "realTrainX = trainX[realTrainIdx]\n",
    "X_train = np.expand_dims(realTrainX, axis=-1) # Important\n",
    "\n",
    "# Actual Validation Data\n",
    "validX = trainX[valIdx]\n",
    "X_valid = np.expand_dims(validX, axis=-1) # Important\n",
    "\n",
    "# Actual Testing Data\n",
    "testX = X[testIdx]\n",
    "X_test = np.expand_dims(testX, axis=-1) # Important"
   ]
  },
  {
   "cell_type": "code",
   "execution_count": 4,
   "metadata": {},
   "outputs": [
    {
     "name": "stdout",
     "output_type": "stream",
     "text": [
      "[b'8PSK' b'AM-DSB' b'AM-SSB' b'BPSK' b'CPFSK' b'GFSK' b'PAM4' b'QAM16'\n",
      " b'QAM64' b'QPSK' b'WBFM']\n"
     ]
    }
   ],
   "source": [
    "# One Hot Encode Labels\n",
    "from sklearn import preprocessing\n",
    "lb = preprocessing.LabelBinarizer()\n",
    "lb.fit(np.asarray(lbl)[:,0])\n",
    "print(lb.classes_)\n",
    "lbl_encoded=lb.transform(np.asarray(lbl)[:,0])\n",
    "ytrain=lbl_encoded[trainIdx]\n",
    "\n",
    "y_train = ytrain[realTrainIdx]\n",
    "y_valid = ytrain[valIdx]\n",
    "y_test=lbl_encoded[testIdx]"
   ]
  },
  {
   "cell_type": "markdown",
   "metadata": {},
   "source": [
    "# Design Neural Network"
   ]
  },
  {
   "cell_type": "code",
   "execution_count": 5,
   "metadata": {},
   "outputs": [
    {
     "name": "stdout",
     "output_type": "stream",
     "text": [
      "Model: \"sequential\"\n",
      "_________________________________________________________________\n",
      "Layer (type)                 Output Shape              Param #   \n",
      "=================================================================\n",
      "Normalization_1 (BatchNormal (None, 2, 128, 1)         4         \n",
      "_________________________________________________________________\n",
      "ZPad1 (ZeroPadding2D)        (None, 2, 130, 1)         0         \n",
      "_________________________________________________________________\n",
      "Conv_1 (Conv2D)              (None, 2, 128, 64)        256       \n",
      "_________________________________________________________________\n",
      "ZPad2 (ZeroPadding2D)        (None, 4, 130, 64)        0         \n",
      "_________________________________________________________________\n",
      "Conv_2 (Conv2D)              (None, 3, 128, 16)        6160      \n",
      "_________________________________________________________________\n",
      "flatten (Flatten)            (None, 6144)              0         \n",
      "_________________________________________________________________\n",
      "dense (Dense)                (None, 128)               786560    \n",
      "_________________________________________________________________\n",
      "dense_1 (Dense)              (None, 11)                1419      \n",
      "=================================================================\n",
      "Total params: 794,399\n",
      "Trainable params: 794,397\n",
      "Non-trainable params: 2\n",
      "_________________________________________________________________\n"
     ]
    }
   ],
   "source": [
    "# Network Parameters\n",
    "dropoutRate = 0.5\n",
    "\n",
    "# Structure\n",
    "inpShape = (2,128,1) # Shape of Input Data\n",
    "CNN1_numFilt = 64 # Number of Filters in CNN Layer 1\n",
    "CNN1_kernSize = (1,3) # Kernel Size of CNN Layer 1\n",
    "\n",
    "CNN2_numFilt = 16 # Number of Filters in CNN Layer 2\n",
    "CNN2_kernSize = (2,3) # Kernel Size of CNN Layer 2\n",
    "\n",
    "Dense1_numNeurons = 128 # Number of Nodes in the First Dense Layer\n",
    "numOutput = 11 # Number of Output Nodes\n",
    "\n",
    "# Weight Initialization\n",
    "weightInit = 'glorot_uniform' # Xavier Initialization\n",
    "\n",
    "# Activation Functions\n",
    "activationHidden = 'relu'\n",
    "activationOutput = 'softmax'\n",
    "\n",
    "# Loss Function\n",
    "lossFunction = 'categorical_crossentropy'\n",
    "\n",
    "# Learning Algorithm\n",
    "netOptimizer = 'adam'\n",
    "\n",
    "# Callbacks\n",
    "callbackList = [\n",
    "        tensorflow.keras.callbacks.ModelCheckpoint('Data/CNN-4/CNN-4-Weights_best.h5', monitor='val_loss', verbose=0, save_best_only=True, mode='auto')]\n",
    "\n",
    "# Construct Network\n",
    "model = models.Sequential()\n",
    "model.add(BatchNormalization(axis=-1,input_shape=inpShape, name='Normalization_1'))\n",
    "model.add(ZeroPadding2D(padding=(0,1),name='ZPad1'))\n",
    "model.add(Convolution2D(filters=CNN1_numFilt, kernel_size=CNN1_kernSize, activation=activationHidden, name='Conv_1'))\n",
    "model.add(ZeroPadding2D(padding=(1,1),input_shape=inpShape,name='ZPad2'))\n",
    "model.add(Convolution2D(filters=CNN2_numFilt, kernel_size=CNN2_kernSize, activation=activationHidden, name='Conv_2'))\n",
    "model.add(Flatten())\n",
    "model.add(Dense(Dense1_numNeurons, activation=activationHidden))\n",
    "model.add(Dense(numOutput, activation=activationOutput))\n",
    "model.compile(loss=lossFunction, optimizer=netOptimizer,metrics=['categorical_accuracy'])\n",
    "model.summary()"
   ]
  },
  {
   "cell_type": "markdown",
   "metadata": {},
   "source": [
    "# Train Network"
   ]
  },
  {
   "cell_type": "code",
   "execution_count": 6,
   "metadata": {},
   "outputs": [],
   "source": [
    "numEpochs = 100\n",
    "batchSize = 1024"
   ]
  },
  {
   "cell_type": "code",
   "execution_count": 7,
   "metadata": {},
   "outputs": [
    {
     "name": "stdout",
     "output_type": "stream",
     "text": [
      "Train on 99000 samples, validate on 11000 samples\n",
      "Epoch 1/100\n",
      "99000/99000 - 11s - loss: 1.9968 - categorical_accuracy: 0.2718 - val_loss: 2.3283 - val_categorical_accuracy: 0.1421\n",
      "Epoch 2/100\n",
      "99000/99000 - 4s - loss: 1.7316 - categorical_accuracy: 0.3401 - val_loss: 2.9546 - val_categorical_accuracy: 0.0925\n",
      "Epoch 3/100\n",
      "99000/99000 - 4s - loss: 1.5973 - categorical_accuracy: 0.3960 - val_loss: 5.0526 - val_categorical_accuracy: 0.0916\n",
      "Epoch 4/100\n",
      "99000/99000 - 5s - loss: 1.4919 - categorical_accuracy: 0.4423 - val_loss: 8.5410 - val_categorical_accuracy: 0.0905\n",
      "Epoch 5/100\n",
      "99000/99000 - 4s - loss: 1.4062 - categorical_accuracy: 0.4771 - val_loss: 11.3686 - val_categorical_accuracy: 0.0948\n",
      "Epoch 6/100\n",
      "99000/99000 - 4s - loss: 1.3415 - categorical_accuracy: 0.4984 - val_loss: 10.4032 - val_categorical_accuracy: 0.1393\n",
      "Epoch 7/100\n",
      "99000/99000 - 5s - loss: 1.2898 - categorical_accuracy: 0.5174 - val_loss: 6.9287 - val_categorical_accuracy: 0.1796\n",
      "Epoch 8/100\n",
      "99000/99000 - 5s - loss: 1.2441 - categorical_accuracy: 0.5316 - val_loss: 3.2698 - val_categorical_accuracy: 0.2401\n",
      "Epoch 9/100\n",
      "99000/99000 - 5s - loss: 1.2022 - categorical_accuracy: 0.5477 - val_loss: 1.6098 - val_categorical_accuracy: 0.4117\n",
      "Epoch 10/100\n",
      "99000/99000 - 5s - loss: 1.1695 - categorical_accuracy: 0.5583 - val_loss: 1.3595 - val_categorical_accuracy: 0.4840\n",
      "Epoch 11/100\n",
      "99000/99000 - 5s - loss: 1.1331 - categorical_accuracy: 0.5740 - val_loss: 1.3377 - val_categorical_accuracy: 0.4989\n",
      "Epoch 12/100\n",
      "99000/99000 - 5s - loss: 1.0969 - categorical_accuracy: 0.5871 - val_loss: 1.3343 - val_categorical_accuracy: 0.5008\n",
      "Epoch 13/100\n",
      "99000/99000 - 4s - loss: 1.0688 - categorical_accuracy: 0.5973 - val_loss: 1.3653 - val_categorical_accuracy: 0.4875\n",
      "Epoch 14/100\n",
      "99000/99000 - 4s - loss: 1.0314 - categorical_accuracy: 0.6124 - val_loss: 1.3720 - val_categorical_accuracy: 0.4987\n",
      "Epoch 15/100\n",
      "99000/99000 - 4s - loss: 1.0017 - categorical_accuracy: 0.6232 - val_loss: 1.3814 - val_categorical_accuracy: 0.4923\n",
      "Epoch 16/100\n",
      "99000/99000 - 4s - loss: 0.9648 - categorical_accuracy: 0.6378 - val_loss: 1.4551 - val_categorical_accuracy: 0.4773\n",
      "Epoch 17/100\n",
      "99000/99000 - 4s - loss: 0.9373 - categorical_accuracy: 0.6463 - val_loss: 1.4542 - val_categorical_accuracy: 0.4875\n",
      "Epoch 18/100\n",
      "99000/99000 - 5s - loss: 0.8917 - categorical_accuracy: 0.6651 - val_loss: 1.4672 - val_categorical_accuracy: 0.4898\n",
      "Epoch 19/100\n",
      "99000/99000 - 5s - loss: 0.8513 - categorical_accuracy: 0.6797 - val_loss: 1.5110 - val_categorical_accuracy: 0.4920\n",
      "Epoch 20/100\n",
      "99000/99000 - 5s - loss: 0.8141 - categorical_accuracy: 0.6949 - val_loss: 1.5758 - val_categorical_accuracy: 0.4720\n",
      "Epoch 21/100\n",
      "99000/99000 - 4s - loss: 0.7830 - categorical_accuracy: 0.7071 - val_loss: 1.6203 - val_categorical_accuracy: 0.4864\n",
      "Epoch 22/100\n",
      "99000/99000 - 5s - loss: 0.7334 - categorical_accuracy: 0.7263 - val_loss: 1.6733 - val_categorical_accuracy: 0.4759\n",
      "Epoch 23/100\n",
      "99000/99000 - 4s - loss: 0.7017 - categorical_accuracy: 0.7371 - val_loss: 1.7122 - val_categorical_accuracy: 0.4805\n",
      "Epoch 24/100\n",
      "99000/99000 - 4s - loss: 0.6634 - categorical_accuracy: 0.7523 - val_loss: 1.7747 - val_categorical_accuracy: 0.4841\n",
      "Epoch 25/100\n",
      "99000/99000 - 5s - loss: 0.6276 - categorical_accuracy: 0.7651 - val_loss: 1.8490 - val_categorical_accuracy: 0.4850\n",
      "Epoch 26/100\n",
      "99000/99000 - 4s - loss: 0.5870 - categorical_accuracy: 0.7806 - val_loss: 1.9165 - val_categorical_accuracy: 0.4794\n",
      "Epoch 27/100\n",
      "99000/99000 - 4s - loss: 0.5388 - categorical_accuracy: 0.7992 - val_loss: 2.0275 - val_categorical_accuracy: 0.4751\n",
      "Epoch 28/100\n",
      "99000/99000 - 5s - loss: 0.5086 - categorical_accuracy: 0.8106 - val_loss: 2.1415 - val_categorical_accuracy: 0.4670\n",
      "Epoch 29/100\n",
      "99000/99000 - 4s - loss: 0.4714 - categorical_accuracy: 0.8244 - val_loss: 2.2123 - val_categorical_accuracy: 0.4742\n",
      "Epoch 30/100\n",
      "99000/99000 - 4s - loss: 0.4346 - categorical_accuracy: 0.8398 - val_loss: 2.3354 - val_categorical_accuracy: 0.4731\n",
      "Epoch 31/100\n",
      "99000/99000 - 4s - loss: 0.4057 - categorical_accuracy: 0.8499 - val_loss: 2.4354 - val_categorical_accuracy: 0.4724\n",
      "Epoch 32/100\n",
      "99000/99000 - 5s - loss: 0.3798 - categorical_accuracy: 0.8604 - val_loss: 2.5257 - val_categorical_accuracy: 0.4699\n",
      "Epoch 33/100\n",
      "99000/99000 - 4s - loss: 0.3465 - categorical_accuracy: 0.8724 - val_loss: 2.6651 - val_categorical_accuracy: 0.4778\n",
      "Epoch 34/100\n",
      "99000/99000 - 4s - loss: 0.3266 - categorical_accuracy: 0.8782 - val_loss: 2.7768 - val_categorical_accuracy: 0.4762\n",
      "Epoch 35/100\n",
      "99000/99000 - 5s - loss: 0.3086 - categorical_accuracy: 0.8861 - val_loss: 2.8949 - val_categorical_accuracy: 0.4680\n",
      "Epoch 36/100\n",
      "99000/99000 - 4s - loss: 0.2828 - categorical_accuracy: 0.8977 - val_loss: 3.0148 - val_categorical_accuracy: 0.4777\n",
      "Epoch 37/100\n",
      "99000/99000 - 4s - loss: 0.2563 - categorical_accuracy: 0.9073 - val_loss: 3.1752 - val_categorical_accuracy: 0.4744\n",
      "Epoch 38/100\n",
      "99000/99000 - 4s - loss: 0.2459 - categorical_accuracy: 0.9111 - val_loss: 3.2850 - val_categorical_accuracy: 0.4714\n",
      "Epoch 39/100\n",
      "99000/99000 - 5s - loss: 0.2272 - categorical_accuracy: 0.9179 - val_loss: 3.3953 - val_categorical_accuracy: 0.4653\n",
      "Epoch 40/100\n",
      "99000/99000 - 5s - loss: 0.2174 - categorical_accuracy: 0.9211 - val_loss: 3.5045 - val_categorical_accuracy: 0.4642\n",
      "Epoch 41/100\n",
      "99000/99000 - 5s - loss: 0.1958 - categorical_accuracy: 0.9280 - val_loss: 3.6001 - val_categorical_accuracy: 0.4755\n",
      "Epoch 42/100\n",
      "99000/99000 - 4s - loss: 0.1886 - categorical_accuracy: 0.9309 - val_loss: 3.7209 - val_categorical_accuracy: 0.4687\n",
      "Epoch 43/100\n",
      "99000/99000 - 4s - loss: 0.1770 - categorical_accuracy: 0.9337 - val_loss: 3.8641 - val_categorical_accuracy: 0.4665\n",
      "Epoch 44/100\n",
      "99000/99000 - 5s - loss: 0.1688 - categorical_accuracy: 0.9371 - val_loss: 3.9659 - val_categorical_accuracy: 0.4723\n",
      "Epoch 45/100\n",
      "99000/99000 - 4s - loss: 0.1654 - categorical_accuracy: 0.9366 - val_loss: 4.0577 - val_categorical_accuracy: 0.4620\n",
      "Epoch 46/100\n",
      "99000/99000 - 4s - loss: 0.1597 - categorical_accuracy: 0.9396 - val_loss: 4.1951 - val_categorical_accuracy: 0.4661\n",
      "Epoch 47/100\n",
      "99000/99000 - 5s - loss: 0.1449 - categorical_accuracy: 0.9446 - val_loss: 4.2791 - val_categorical_accuracy: 0.4646\n",
      "Epoch 48/100\n",
      "99000/99000 - 5s - loss: 0.1375 - categorical_accuracy: 0.9468 - val_loss: 4.3388 - val_categorical_accuracy: 0.4625\n",
      "Epoch 49/100\n",
      "99000/99000 - 5s - loss: 0.1309 - categorical_accuracy: 0.9490 - val_loss: 4.4622 - val_categorical_accuracy: 0.4697\n",
      "Epoch 50/100\n",
      "99000/99000 - 5s - loss: 0.1284 - categorical_accuracy: 0.9510 - val_loss: 4.5271 - val_categorical_accuracy: 0.4724\n",
      "Epoch 51/100\n",
      "99000/99000 - 5s - loss: 0.1297 - categorical_accuracy: 0.9493 - val_loss: 4.6233 - val_categorical_accuracy: 0.4683\n",
      "Epoch 52/100\n",
      "99000/99000 - 5s - loss: 0.1200 - categorical_accuracy: 0.9524 - val_loss: 4.7760 - val_categorical_accuracy: 0.4700\n",
      "Epoch 53/100\n",
      "99000/99000 - 4s - loss: 0.1128 - categorical_accuracy: 0.9552 - val_loss: 4.8459 - val_categorical_accuracy: 0.4663\n",
      "Epoch 54/100\n",
      "99000/99000 - 4s - loss: 0.1046 - categorical_accuracy: 0.9580 - val_loss: 4.9582 - val_categorical_accuracy: 0.4701\n",
      "Epoch 55/100\n",
      "99000/99000 - 5s - loss: 0.1114 - categorical_accuracy: 0.9548 - val_loss: 5.0308 - val_categorical_accuracy: 0.4667\n",
      "Epoch 56/100\n",
      "99000/99000 - 4s - loss: 0.1131 - categorical_accuracy: 0.9546 - val_loss: 5.1351 - val_categorical_accuracy: 0.4669\n",
      "Epoch 57/100\n",
      "99000/99000 - 4s - loss: 0.1538 - categorical_accuracy: 0.9380 - val_loss: 5.1302 - val_categorical_accuracy: 0.4680\n",
      "Epoch 58/100\n",
      "99000/99000 - 4s - loss: 0.1435 - categorical_accuracy: 0.9432 - val_loss: 5.2040 - val_categorical_accuracy: 0.4663\n",
      "Epoch 59/100\n",
      "99000/99000 - 5s - loss: 0.1362 - categorical_accuracy: 0.9460 - val_loss: 5.1891 - val_categorical_accuracy: 0.4604\n",
      "Epoch 60/100\n",
      "99000/99000 - 5s - loss: 0.1251 - categorical_accuracy: 0.9501 - val_loss: 5.3640 - val_categorical_accuracy: 0.4605\n",
      "Epoch 61/100\n",
      "99000/99000 - 4s - loss: 0.1098 - categorical_accuracy: 0.9562 - val_loss: 5.3272 - val_categorical_accuracy: 0.4721\n",
      "Epoch 62/100\n",
      "99000/99000 - 4s - loss: 0.0999 - categorical_accuracy: 0.9598 - val_loss: 5.4009 - val_categorical_accuracy: 0.4641\n",
      "Epoch 63/100\n",
      "99000/99000 - 4s - loss: 0.0852 - categorical_accuracy: 0.9646 - val_loss: 5.4958 - val_categorical_accuracy: 0.4717\n"
     ]
    },
    {
     "name": "stdout",
     "output_type": "stream",
     "text": [
      "Epoch 64/100\n",
      "99000/99000 - 5s - loss: 0.0824 - categorical_accuracy: 0.9666 - val_loss: 5.5683 - val_categorical_accuracy: 0.4666\n",
      "Epoch 65/100\n",
      "99000/99000 - 4s - loss: 0.0715 - categorical_accuracy: 0.9695 - val_loss: 5.6525 - val_categorical_accuracy: 0.4738\n",
      "Epoch 66/100\n",
      "99000/99000 - 5s - loss: 0.0730 - categorical_accuracy: 0.9679 - val_loss: 5.7592 - val_categorical_accuracy: 0.4684\n",
      "Epoch 67/100\n",
      "99000/99000 - 4s - loss: 0.0689 - categorical_accuracy: 0.9705 - val_loss: 5.8557 - val_categorical_accuracy: 0.4742\n",
      "Epoch 68/100\n",
      "99000/99000 - 5s - loss: 0.0719 - categorical_accuracy: 0.9702 - val_loss: 5.8830 - val_categorical_accuracy: 0.4635\n",
      "Epoch 69/100\n",
      "99000/99000 - 5s - loss: 0.0662 - categorical_accuracy: 0.9720 - val_loss: 5.9589 - val_categorical_accuracy: 0.4729\n",
      "Epoch 70/100\n",
      "99000/99000 - 5s - loss: 0.0663 - categorical_accuracy: 0.9721 - val_loss: 5.9946 - val_categorical_accuracy: 0.4608\n",
      "Epoch 71/100\n",
      "99000/99000 - 5s - loss: 0.0648 - categorical_accuracy: 0.9724 - val_loss: 6.0847 - val_categorical_accuracy: 0.4640\n",
      "Epoch 72/100\n",
      "99000/99000 - 5s - loss: 0.0668 - categorical_accuracy: 0.9711 - val_loss: 6.1774 - val_categorical_accuracy: 0.4719\n",
      "Epoch 73/100\n",
      "99000/99000 - 5s - loss: 0.0842 - categorical_accuracy: 0.9661 - val_loss: 6.3937 - val_categorical_accuracy: 0.4537\n",
      "Epoch 74/100\n",
      "99000/99000 - 4s - loss: 0.2198 - categorical_accuracy: 0.9171 - val_loss: 5.9864 - val_categorical_accuracy: 0.4599\n",
      "Epoch 75/100\n",
      "99000/99000 - 5s - loss: 0.1691 - categorical_accuracy: 0.9327 - val_loss: 5.8495 - val_categorical_accuracy: 0.4633\n",
      "Epoch 76/100\n",
      "99000/99000 - 5s - loss: 0.1055 - categorical_accuracy: 0.9570 - val_loss: 5.8819 - val_categorical_accuracy: 0.4645\n",
      "Epoch 77/100\n",
      "99000/99000 - 4s - loss: 0.0710 - categorical_accuracy: 0.9703 - val_loss: 6.0454 - val_categorical_accuracy: 0.4697\n",
      "Epoch 78/100\n",
      "99000/99000 - 4s - loss: 0.0578 - categorical_accuracy: 0.9761 - val_loss: 6.1506 - val_categorical_accuracy: 0.4709\n",
      "Epoch 79/100\n",
      "99000/99000 - 5s - loss: 0.0575 - categorical_accuracy: 0.9755 - val_loss: 6.1946 - val_categorical_accuracy: 0.4646\n",
      "Epoch 80/100\n",
      "99000/99000 - 4s - loss: 0.0548 - categorical_accuracy: 0.9756 - val_loss: 6.2457 - val_categorical_accuracy: 0.4668\n",
      "Epoch 81/100\n",
      "99000/99000 - 5s - loss: 0.0547 - categorical_accuracy: 0.9765 - val_loss: 6.3246 - val_categorical_accuracy: 0.4696\n",
      "Epoch 82/100\n",
      "99000/99000 - 4s - loss: 0.0519 - categorical_accuracy: 0.9769 - val_loss: 6.3944 - val_categorical_accuracy: 0.4636\n",
      "Epoch 83/100\n",
      "99000/99000 - 5s - loss: 0.0514 - categorical_accuracy: 0.9768 - val_loss: 6.4636 - val_categorical_accuracy: 0.4695\n",
      "Epoch 84/100\n",
      "99000/99000 - 4s - loss: 0.0502 - categorical_accuracy: 0.9772 - val_loss: 6.4920 - val_categorical_accuracy: 0.4686\n",
      "Epoch 85/100\n",
      "99000/99000 - 5s - loss: 0.0499 - categorical_accuracy: 0.9775 - val_loss: 6.5531 - val_categorical_accuracy: 0.4676\n",
      "Epoch 86/100\n",
      "99000/99000 - 4s - loss: 0.0503 - categorical_accuracy: 0.9772 - val_loss: 6.6368 - val_categorical_accuracy: 0.4664\n",
      "Epoch 87/100\n",
      "99000/99000 - 5s - loss: 0.0519 - categorical_accuracy: 0.9773 - val_loss: 6.6770 - val_categorical_accuracy: 0.4652\n",
      "Epoch 88/100\n",
      "99000/99000 - 5s - loss: 0.0563 - categorical_accuracy: 0.9747 - val_loss: 6.6420 - val_categorical_accuracy: 0.4682\n",
      "Epoch 89/100\n",
      "99000/99000 - 4s - loss: 0.0750 - categorical_accuracy: 0.9676 - val_loss: 6.7073 - val_categorical_accuracy: 0.4641\n",
      "Epoch 90/100\n",
      "99000/99000 - 4s - loss: 0.1486 - categorical_accuracy: 0.9403 - val_loss: 6.4202 - val_categorical_accuracy: 0.4585\n",
      "Epoch 91/100\n",
      "99000/99000 - 4s - loss: 0.1760 - categorical_accuracy: 0.9315 - val_loss: 6.3319 - val_categorical_accuracy: 0.4616\n",
      "Epoch 92/100\n",
      "99000/99000 - 4s - loss: 0.1216 - categorical_accuracy: 0.9508 - val_loss: 6.2701 - val_categorical_accuracy: 0.4708\n",
      "Epoch 93/100\n",
      "99000/99000 - 5s - loss: 0.0736 - categorical_accuracy: 0.9687 - val_loss: 6.4281 - val_categorical_accuracy: 0.4680\n",
      "Epoch 94/100\n",
      "99000/99000 - 4s - loss: 0.0553 - categorical_accuracy: 0.9756 - val_loss: 6.5032 - val_categorical_accuracy: 0.4721\n",
      "Epoch 95/100\n",
      "99000/99000 - 4s - loss: 0.0464 - categorical_accuracy: 0.9787 - val_loss: 6.5809 - val_categorical_accuracy: 0.4706\n",
      "Epoch 96/100\n",
      "99000/99000 - 4s - loss: 0.0493 - categorical_accuracy: 0.9775 - val_loss: 6.6129 - val_categorical_accuracy: 0.4665\n",
      "Epoch 97/100\n",
      "99000/99000 - 4s - loss: 0.0440 - categorical_accuracy: 0.9783 - val_loss: 6.6930 - val_categorical_accuracy: 0.4632\n",
      "Epoch 98/100\n",
      "99000/99000 - 4s - loss: 0.0427 - categorical_accuracy: 0.9795 - val_loss: 6.7872 - val_categorical_accuracy: 0.4615\n",
      "Epoch 99/100\n",
      "99000/99000 - 4s - loss: 0.0439 - categorical_accuracy: 0.9782 - val_loss: 6.7623 - val_categorical_accuracy: 0.4672\n",
      "Epoch 100/100\n",
      "99000/99000 - 4s - loss: 0.0396 - categorical_accuracy: 0.9802 - val_loss: 6.8299 - val_categorical_accuracy: 0.4695\n"
     ]
    }
   ],
   "source": [
    "history = model.fit(X_train,y_train,epochs=numEpochs,batch_size=batchSize,validation_data=(X_valid,y_valid),callbacks=callbackList,verbose=2)"
   ]
  },
  {
   "cell_type": "code",
   "execution_count": 8,
   "metadata": {},
   "outputs": [],
   "source": [
    "# Save History\n",
    "np_loss_history = np.array(history.history[\"loss\"])\n",
    "np.save('Data/CNN-4/lossHist.npy',np_loss_history)\n",
    "\n",
    "np_accu_history = np.array(history.history[\"categorical_accuracy\"])\n",
    "np.save('Data/CNN-4/accuHist.npy',np_accu_history)\n",
    "\n",
    "np_val_loss_history = np.array(history.history[\"val_loss\"])\n",
    "np.save('Data/CNN-4/valLossHist.npy',np_val_loss_history)\n",
    "\n",
    "np_val_accu_history = np.array(history.history[\"val_categorical_accuracy\"])\n",
    "np.save('Data/CNN-4/valAccuHist.npy',np_val_accu_history)"
   ]
  },
  {
   "cell_type": "markdown",
   "metadata": {},
   "source": [
    "# Test/Evaluate Network"
   ]
  },
  {
   "cell_type": "code",
   "execution_count": 6,
   "metadata": {},
   "outputs": [
    {
     "name": "stdout",
     "output_type": "stream",
     "text": [
      "110000/110000 [==============================] - 25s 231us/sample - loss: 1.3296 - categorical_accuracy: 0.5045\n"
     ]
    },
    {
     "data": {
      "text/plain": [
       "[1.329610162787004, 0.5045182]"
      ]
     },
     "execution_count": 6,
     "metadata": {},
     "output_type": "execute_result"
    }
   ],
   "source": [
    "# Re-load Best Weights\n",
    "model.load_weights('Data/CNN-4/CNN-4-Weights_best.h5')\n",
    "\n",
    "model.evaluate(X_test,y_test)"
   ]
  },
  {
   "cell_type": "markdown",
   "metadata": {},
   "source": [
    "# Visualize Results"
   ]
  },
  {
   "cell_type": "code",
   "execution_count": 7,
   "metadata": {},
   "outputs": [
    {
     "data": {
      "text/plain": [
       "<matplotlib.legend.Legend at 0x20be06e4848>"
      ]
     },
     "execution_count": 7,
     "metadata": {},
     "output_type": "execute_result"
    },
    {
     "data": {
      "image/png": "[encoded data removed]",
      "text/plain": [
       "<Figure size 432x288 with 1 Axes>"
      ]
     },
     "metadata": {
      "needs_background": "light"
     },
     "output_type": "display_data"
    }
   ],
   "source": [
    "# Load Details of History\n",
    "lHist = np.load('Data/CNN-4/lossHist.npy')\n",
    "aHist = np.load('Data/CNN-4/accuHist.npy')\n",
    "\n",
    "vLHist = np.load('Data/CNN-4/valLossHist.npy')\n",
    "vAHist = np.load('Data/CNN-4/valAccuHist.npy')\n",
    "\n",
    "# Show loss curves \n",
    "plt.figure()\n",
    "plt.title('CNN 4 - Training performance')\n",
    "plt.plot(lHist, label='Training Loss')\n",
    "plt.plot(vLHist, label='Validation Loss')\n",
    "plt.xlabel('Epochs')\n",
    "plt.xticks(np.arange(0,110,10),np.arange(1,111,10))\n",
    "plt.ylabel('Loss')\n",
    "plt.legend()"
   ]
  },
  {
   "cell_type": "code",
   "execution_count": 8,
   "metadata": {},
   "outputs": [],
   "source": [
    "# Function to Extract Test Data of Specific SNR\n",
    "def extractTest(data,labels,labelsEncoded,testIndex,snr):\n",
    "    testData = data[testIndex]\n",
    "    labelArray = np.array([labels])\n",
    "    testLabels = labelArray[:,testIdx,:]\n",
    "    testLabelsEncoded = labelsEncoded[testIdx]\n",
    "    \n",
    "    idxOP = list()\n",
    "    \n",
    "    # Loop Through Label Array To Get Index of Specific SNR\n",
    "    for i in range(0,testLabels.shape[1]):\n",
    "        if testLabels[0,i,1].decode('ascii')==snr:\n",
    "            idxOP.append(i)\n",
    "    \n",
    "    # Return Subset of Test Data and Corresponding Labels\n",
    "    opTestData = np.expand_dims(testData[idxOP,:,:],axis=-1)\n",
    "    opTestLabel = testLabelsEncoded[idxOP]\n",
    "    \n",
    "    return opTestData, opTestLabel\n",
    "\n",
    "def plot_confusion_matrix(cm, titleAdd, title='CNN 4 - Confusion matrix', cmap=plt.cm.Blues, labels=[]):\n",
    "    plt.imshow(cm, interpolation='nearest', cmap=cmap)\n",
    "    plt.title(title+titleAdd)\n",
    "    plt.colorbar()\n",
    "    tick_marks = np.arange(len(labels))\n",
    "    plt.xticks(tick_marks, labels, rotation=45)\n",
    "    plt.yticks(tick_marks, labels)\n",
    "    plt.tight_layout()\n",
    "    plt.ylabel('True label')\n",
    "    plt.xlabel('Predicted label')\n",
    "\n",
    "# Confusion Matrix Function\n",
    "def prepConfMat(testData,testLabel,predTestLabel,mods,title):\n",
    "    modString = list()\n",
    "    for i in range(0,len(mods)):\n",
    "        modString.append(mods[i].decode('ascii'))\n",
    "    \n",
    "    conf = np.zeros([len(mods),len(mods)])\n",
    "    confnorm = np.zeros([len(mods),len(mods)])\n",
    "    for i in range(0,testData.shape[0]):\n",
    "        j = list(testLabel[i,:]).index(1)\n",
    "        k = int(np.argmax(predTestLabel[i,:]))\n",
    "        conf[j,k] = conf[j,k] + 1\n",
    "    for i in range(0,len(mods)):\n",
    "        confnorm[i,:] = conf[i,:] / np.sum(conf[i,:])\n",
    "    plot_confusion_matrix(confnorm, title, labels=modString)"
   ]
  },
  {
   "cell_type": "code",
   "execution_count": 9,
   "metadata": {},
   "outputs": [
    {
     "data": {
      "image/png": "[encoded data removed]",
      "text/plain": [
       "<Figure size 432x288 with 2 Axes>"
      ]
     },
     "metadata": {
      "needs_background": "light"
     },
     "output_type": "display_data"
    }
   ],
   "source": [
    "# Plot confusion matrix\n",
    "test_Y_hat = model.predict(X_test, batch_size=1024)\n",
    "\n",
    "prepConfMat(X_test,y_test,test_Y_hat,mods,' (All SNRs)')"
   ]
  },
  {
   "cell_type": "code",
   "execution_count": 10,
   "metadata": {
    "scrolled": true
   },
   "outputs": [
    {
     "data": {
      "image/png": "[encoded data removed]",
      "text/plain": [
       "<Figure size 432x288 with 2 Axes>"
      ]
     },
     "metadata": {
      "needs_background": "light"
     },
     "output_type": "display_data"
    }
   ],
   "source": [
    "# Plot Confusion Matrix for Specific SNR\n",
    "snr = '18'\n",
    "title = ' (SNR = '+snr+')'\n",
    "x_testSNR, y_TestSNR = extractTest(X,lbl,lbl_encoded,testIdx,snr)\n",
    "y_hat_snr = model.predict(x_testSNR, batch_size=1024)\n",
    "prepConfMat(x_testSNR,y_TestSNR,y_hat_snr,mods,title)"
   ]
  },
  {
   "cell_type": "code",
   "execution_count": 11,
   "metadata": {},
   "outputs": [
    {
     "name": "stdout",
     "output_type": "stream",
     "text": [
      "Overall Accuracy:  0.09244908992611281 for SNR b'-20'\n",
      "Overall Accuracy:  0.09713144517066086 for SNR b'-18'\n",
      "Overall Accuracy:  0.09676239253704043 for SNR b'-16'\n",
      "Overall Accuracy:  0.12581818181818183 for SNR b'-14'\n",
      "Overall Accuracy:  0.16381945693220643 for SNR b'-12'\n",
      "Overall Accuracy:  0.23562901744719927 for SNR b'-10'\n",
      "Overall Accuracy:  0.32975432211101 for SNR b'-8'\n",
      "Overall Accuracy:  0.44298561151079136 for SNR b'-6'\n",
      "Overall Accuracy:  0.5359692476661175 for SNR b'-4'\n",
      "Overall Accuracy:  0.6410918480265585 for SNR b'-2'\n",
      "Overall Accuracy:  0.7058717579250721 for SNR b'0'\n",
      "Overall Accuracy:  0.7281232801320858 for SNR b'2'\n",
      "Overall Accuracy:  0.7256938227394808 for SNR b'4'\n",
      "Overall Accuracy:  0.7490549054905491 for SNR b'6'\n",
      "Overall Accuracy:  0.7184014869888475 for SNR b'8'\n",
      "Overall Accuracy:  0.7487782805429865 for SNR b'10'\n",
      "Overall Accuracy:  0.7421475529583638 for SNR b'12'\n",
      "Overall Accuracy:  0.7477973568281938 for SNR b'14'\n",
      "Overall Accuracy:  0.7282648235722081 for SNR b'16'\n",
      "Overall Accuracy:  0.7390287769784173 for SNR b'18'\n",
      "Random Guess Accuracy: 0.09090909090909091\n"
     ]
    }
   ],
   "source": [
    "# Get the test accuracy for different SNRs\n",
    "acc = {}\n",
    "acc_array=[]\n",
    "\n",
    "snr_array=np.asarray(lbl)[:,1]\n",
    "lb_temp = preprocessing.LabelBinarizer()\n",
    "lb_temp.fit(snr_array)\n",
    "temp_array=lb_temp.classes_\n",
    "snr_label_array = []\n",
    "\n",
    "\n",
    "snr_label_array.append(temp_array[6])\n",
    "snr_label_array.append(temp_array[4])\n",
    "snr_label_array.append(temp_array[3])\n",
    "snr_label_array.append(temp_array[2])\n",
    "snr_label_array.append(temp_array[1])\n",
    "snr_label_array.append(temp_array[0])\n",
    "snr_label_array.append(temp_array[9])\n",
    "snr_label_array.append(temp_array[8])\n",
    "snr_label_array.append(temp_array[7])\n",
    "snr_label_array.append(temp_array[5])\n",
    "snr_label_array.append(temp_array[10])\n",
    "snr_label_array.append(temp_array[16])\n",
    "snr_label_array.append(temp_array[17])\n",
    "snr_label_array.append(temp_array[18])\n",
    "snr_label_array.append(temp_array[19])\n",
    "snr_label_array.append(temp_array[11])\n",
    "snr_label_array.append(temp_array[12])\n",
    "snr_label_array.append(temp_array[13])\n",
    "snr_label_array.append(temp_array[14])\n",
    "snr_label_array.append(temp_array[15])\n",
    "\n",
    "\n",
    "#print(snr_label_array)\n",
    "y_test_snr=snr_array[testIdx]\n",
    "\n",
    "\n",
    "\n",
    "for snr in snr_label_array:\n",
    "    test_X_i = X_test[np.where(y_test_snr==snr)]\n",
    "    test_Y_i = y_test[np.where(y_test_snr==snr)]\n",
    "    \n",
    "    test_Y_i_hat = model.predict(test_X_i)\n",
    "    conf = np.zeros([len(mods),len(mods)])\n",
    "    confnorm = np.zeros([len(mods),len(mods)])\n",
    "    for i in range(0,test_X_i.shape[0]):\n",
    "        j = list(test_Y_i[i,:]).index(1)\n",
    "        k = int(np.argmax(test_Y_i_hat[i,:]))\n",
    "        conf[j,k] = conf[j,k] + 1\n",
    "    for i in range(0,len(mods)):\n",
    "        confnorm[i,:] = conf[i,:] / np.sum(conf[i,:])\n",
    "    \n",
    "    #plt.figure()\n",
    "    #plot_confusion_matrix(confnorm, labels=classes, title=\"ConvNet Confusion Matrix (SNR=%d)\"%(snr))\n",
    "    \n",
    "    cor = np.sum(np.diag(conf))\n",
    "    ncor = np.sum(conf) - cor\n",
    "    print(\"Overall Accuracy: \", cor / (cor+ncor),\"for SNR\",snr)\n",
    "    acc[snr] = 1.0*cor/(cor+ncor)\n",
    "    acc_array.append(1.0*cor/(cor+ncor))\n",
    "\n",
    "print(\"Random Guess Accuracy:\",1/11)"
   ]
  },
  {
   "cell_type": "code",
   "execution_count": 12,
   "metadata": {
    "scrolled": false
   },
   "outputs": [
    {
     "data": {
      "image/png": "[encoded data removed]",
      "text/plain": [
       "<Figure size 576x432 with 1 Axes>"
      ]
     },
     "metadata": {
      "needs_background": "light"
     },
     "output_type": "display_data"
    }
   ],
   "source": [
    "# Show loss curves \n",
    "plt.figure(figsize=(8, 6))\n",
    "plt.title('CNN 4 - Accuracy vs SNRs')\n",
    "plt.plot(np.arange(-20,20,2), acc_array)\n",
    "plt.xlabel('SNR')\n",
    "plt.xticks(np.arange(-20,20,2))\n",
    "plt.ylabel('Class Accuracy')\n",
    "plt.grid()\n",
    "plt.show()"
   ]
  },
  {
   "cell_type": "code",
   "execution_count": 13,
   "metadata": {},
   "outputs": [],
   "source": [
    "accRes = np.array([acc_array])\n",
    "np.save('Data/CNN-4/accResSNR.npy',accRes)"
   ]
  }
 ],
 "metadata": {
  "kernelspec": {
   "display_name": "Python 3",
   "language": "python",
   "name": "python3"
  },
  "language_info": {
   "codemirror_mode": {
    "name": "ipython",
    "version": 3
   },
   "file_extension": ".py",
   "mimetype": "text/x-python",
   "name": "python",
   "nbconvert_exporter": "python",
   "pygments_lexer": "ipython3",
   "version": "3.7.6"
  }
 },
 "nbformat": 4,
 "nbformat_minor": 4
}
