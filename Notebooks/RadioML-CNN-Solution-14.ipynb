{
 "cells": [
  {
   "cell_type": "markdown",
   "metadata": {},
   "source": [
    "# Radio ML Classification - CNN Approach\n",
    "\n",
    "Solution to the RadioML classification challenge using CNNs."
   ]
  },
  {
   "cell_type": "code",
   "execution_count": 1,
   "metadata": {},
   "outputs": [],
   "source": [
    "# Loading Data\n",
    "\n",
    "pathToDataset = \"C:/Users/aksha/Documents/Jupyter Notebooks/radioml-classification/Datasets/Standard/RML2016.10a_dict.pkl\"\n",
    "\n",
    "# Extract the pickle file\n",
    "import pickle\n",
    "import numpy as np\n",
    "Xd = pickle.load(open(pathToDataset,'rb'),encoding=\"bytes\")\n",
    "snrs,mods = map(lambda j: sorted(list(set(map(lambda x: x[j], Xd.keys())))), [1,0])\n",
    "X = []  \n",
    "lbl = []\n",
    "for mod in mods:\n",
    "    for snr in snrs:\n",
    "        X.append(Xd[(mod,snr)])\n",
    "        for i in range(Xd[(mod,snr)].shape[0]):  lbl.append((mod,snr))\n",
    "X = np.vstack(X)"
   ]
  },
  {
   "cell_type": "markdown",
   "metadata": {},
   "source": [
    "# Description of Data\n",
    "\n",
    "The dataset has the size 220,000×2×128, which means that there are 220,000 entries, each consisting of an array of size 2 × 128. Each array represents the samples of about 128 µs of a received waveform sampled with approximately 106 samples/second, and it contains between 8 and 16 modulation symbols. Since the samples of the signal waveforms are complex-valued, they have been stored as real and imaginary parts, and therefore we have arrays of size 2 × 128 in the data set.\n",
    "\n",
    "That is, each row is essentially, **a + ib**.\n",
    "\n",
    "The labels of the downloaded dataset contain two parameters: the modulation technique used (one of [’8PSK’, ’AM-DSB’, ’AM-SSB’, ’BPSK’,’CPFSK’, ’GFSK’, ’PAM4’, ’QAM16’, ’QAM64’, ’QPSK’, ’WBFM’], so 11 possible modulation techniques), and the signal-to noise ratio (SNR) value (one of [−20, −18, −16, −14, −12, −10, −8, −6, −4, −2, 0, 2, 4, 6, 8, 10, 12, 14, 16, 18], so 20 possible SNR values). The SNR is a measure for the quality of the communication channel. The higher the SNR, the less “noisy” is the channel.\n",
    "\n",
    "Each item of the list is essentially like **(b'Modulation Type',SNR Value)** [Use os.fsdecode to extract Modulation Type as string] "
   ]
  },
  {
   "cell_type": "code",
   "execution_count": 2,
   "metadata": {},
   "outputs": [],
   "source": [
    "# Import Necessary Packages\n",
    "%matplotlib inline\n",
    "import os\n",
    "import random\n",
    "import tensorflow.keras.utils\n",
    "import tensorflow.keras.models as models\n",
    "from tensorflow.keras.layers import Reshape,Dense,Dropout,Activation,Flatten\n",
    "from tensorflow.keras.layers import GaussianNoise\n",
    "from tensorflow.keras.layers import Convolution2D, MaxPooling2D, ZeroPadding2D, BatchNormalization, LayerNormalization\n",
    "from tensorflow.keras.regularizers import *\n",
    "from tensorflow.keras.optimizers import *\n",
    "import matplotlib.pyplot as plt\n",
    "import seaborn as sns\n",
    "import tensorflow.keras\n",
    "import numpy as np"
   ]
  },
  {
   "cell_type": "markdown",
   "metadata": {},
   "source": [
    "# Data Processing\n",
    "\n",
    "The goal of this stage is to split data into Training, Validation and Testing data and then process the available data and transform (if needed) it into relevant inputs to be fed into the CNN.\n",
    "\n",
    "1. Split Dataset into Training, Validation and Testing Data : 110,000 samples for training and validation and 110,000 samples for testing."
   ]
  },
  {
   "cell_type": "code",
   "execution_count": 3,
   "metadata": {},
   "outputs": [],
   "source": [
    "#  into training and test sets of the form we can train/test on \n",
    "random.seed(777)\n",
    "np.random.seed(777)\n",
    "\n",
    "index = np.arange(0,220000)\n",
    "random.shuffle(index)\n",
    "\n",
    "trainIdx = index[0:110000]\n",
    "testIdx = index[110000:220000]\n",
    "\n",
    "trainX = X[trainIdx]\n",
    "\n",
    "\n",
    "# Create Validation Data Set\n",
    "indexVal = np.arange(0,110000)\n",
    "random.shuffle(indexVal)\n",
    "\n",
    "realTrainIdx = indexVal[0:99000] \n",
    "valIdx = indexVal[99000:110000]\n",
    "\n",
    "# Actual Training Data\n",
    "realTrainX = trainX[realTrainIdx]\n",
    "X_train = np.expand_dims(realTrainX, axis=-1) # Important\n",
    "\n",
    "# Actual Validation Data\n",
    "validX = trainX[valIdx]\n",
    "X_valid = np.expand_dims(validX, axis=-1) # Important\n",
    "\n",
    "# Actual Testing Data\n",
    "testX = X[testIdx]\n",
    "X_test = np.expand_dims(testX, axis=-1) # Important"
   ]
  },
  {
   "cell_type": "code",
   "execution_count": 4,
   "metadata": {},
   "outputs": [
    {
     "name": "stdout",
     "output_type": "stream",
     "text": [
      "[b'8PSK' b'AM-DSB' b'AM-SSB' b'BPSK' b'CPFSK' b'GFSK' b'PAM4' b'QAM16'\n",
      " b'QAM64' b'QPSK' b'WBFM']\n"
     ]
    }
   ],
   "source": [
    "# One Hot Encode Labels\n",
    "from sklearn import preprocessing\n",
    "lb = preprocessing.LabelBinarizer()\n",
    "lb.fit(np.asarray(lbl)[:,0])\n",
    "print(lb.classes_)\n",
    "lbl_encoded=lb.transform(np.asarray(lbl)[:,0])\n",
    "ytrain=lbl_encoded[trainIdx]\n",
    "\n",
    "y_train = ytrain[realTrainIdx]\n",
    "y_valid = ytrain[valIdx]\n",
    "y_test=lbl_encoded[testIdx]"
   ]
  },
  {
   "cell_type": "markdown",
   "metadata": {},
   "source": [
    "# Design Neural Network"
   ]
  },
  {
   "cell_type": "code",
   "execution_count": 18,
   "metadata": {},
   "outputs": [
    {
     "name": "stdout",
     "output_type": "stream",
     "text": [
      "Model: \"sequential_13\"\n",
      "_________________________________________________________________\n",
      "Layer (type)                 Output Shape              Param #   \n",
      "=================================================================\n",
      "Conv_1 (Conv2D)              (None, 2, 128, 256)       1024      \n",
      "_________________________________________________________________\n",
      "max_pooling2d_49 (MaxPooling (None, 2, 64, 256)        0         \n",
      "_________________________________________________________________\n",
      "dropout_55 (Dropout)         (None, 2, 64, 256)        0         \n",
      "_________________________________________________________________\n",
      "Conv_2 (Conv2D)              (None, 2, 64, 128)        98432     \n",
      "_________________________________________________________________\n",
      "max_pooling2d_50 (MaxPooling (None, 2, 32, 128)        0         \n",
      "_________________________________________________________________\n",
      "dropout_56 (Dropout)         (None, 2, 32, 128)        0         \n",
      "_________________________________________________________________\n",
      "Conv_3 (Conv2D)              (None, 2, 32, 64)         24640     \n",
      "_________________________________________________________________\n",
      "max_pooling2d_51 (MaxPooling (None, 2, 16, 64)         0         \n",
      "_________________________________________________________________\n",
      "dropout_57 (Dropout)         (None, 2, 16, 64)         0         \n",
      "_________________________________________________________________\n",
      "Conv_4 (Conv2D)              (None, 2, 16, 64)         12352     \n",
      "_________________________________________________________________\n",
      "max_pooling2d_52 (MaxPooling (None, 2, 8, 64)          0         \n",
      "_________________________________________________________________\n",
      "dropout_58 (Dropout)         (None, 2, 8, 64)          0         \n",
      "_________________________________________________________________\n",
      "flatten_11 (Flatten)         (None, 1024)              0         \n",
      "_________________________________________________________________\n",
      "dense_22 (Dense)             (None, 128)               131200    \n",
      "_________________________________________________________________\n",
      "dense_23 (Dense)             (None, 11)                1419      \n",
      "=================================================================\n",
      "Total params: 269,067\n",
      "Trainable params: 269,067\n",
      "Non-trainable params: 0\n",
      "_________________________________________________________________\n"
     ]
    }
   ],
   "source": [
    "# Network Parameters\n",
    "dropoutRate = 0.5\n",
    "\n",
    "# Structure\n",
    "inpShape = (2,128,1) # Shape of Input Data\n",
    "CNN1_numFilt = 256 # Number of Filters in CNN Layer 1\n",
    "CNN1_kernSize = (1,3) # Kernel Size of CNN Layer 1\n",
    "\n",
    "CNN2_numFilt = 80 # Number of Filters in CNN Layer 2\n",
    "CNN2_kernSize = (2,3) # Kernel Size of CNN Layer 2\n",
    "\n",
    "Dense1_numNeurons = 128 # Number of Nodes in the First Dense Layer\n",
    "numOutput = 11 # Number of Output Nodes\n",
    "\n",
    "# Weight Initialization\n",
    "weightInit = 'glorot_uniform' # Xavier Initialization\n",
    "\n",
    "# Activation Functions\n",
    "activationHidden = 'relu'\n",
    "activationOutput = 'softmax'\n",
    "\n",
    "# Loss Function\n",
    "lossFunction = 'categorical_crossentropy'\n",
    "\n",
    "# Learning Algorithm\n",
    "netOptimizer = 'adam'\n",
    "\n",
    "# Callbacks\n",
    "callbackList = [\n",
    "        tensorflow.keras.callbacks.ModelCheckpoint('Data/CNN-14/CNN-14-Weights_best.h5', monitor='val_loss', verbose=0, save_best_only=True, mode='auto'),\n",
    "        tensorflow.keras.callbacks.EarlyStopping(monitor='val_loss', patience=7, verbose=0, mode='auto')]\n",
    "\n",
    "# Construct Network\n",
    "model = models.Sequential()\n",
    "#model.add(BatchNormalization(axis=-1,input_shape=inpShape, name='Normalization_1'))\n",
    "#model.add(ZeroPadding2D(padding=(0,1),name='ZPad1'))\n",
    "model.add(Convolution2D(filters=256, kernel_size=CNN1_kernSize,input_shape=inpShape, padding='same', activation=activationHidden, name='Conv_1'))\n",
    "model.add(MaxPooling2D(pool_size=(1,2),padding='same'))\n",
    "model.add(Dropout(dropoutRate))\n",
    "\n",
    "model.add(Convolution2D(filters=128, kernel_size=CNN1_kernSize,padding='same', activation=activationHidden, name='Conv_2'))\n",
    "model.add(MaxPooling2D(pool_size=(1,2),padding='same'))\n",
    "model.add(Dropout(dropoutRate))\n",
    "\n",
    "model.add(Convolution2D(filters=64, kernel_size=CNN1_kernSize,padding='same', activation=activationHidden, name='Conv_3'))\n",
    "model.add(MaxPooling2D(pool_size=(1,2),padding='same'))\n",
    "model.add(Dropout(dropoutRate))\n",
    "\n",
    "model.add(Convolution2D(filters=64, kernel_size=CNN1_kernSize,padding='same', activation=activationHidden, name='Conv_4'))\n",
    "model.add(MaxPooling2D(pool_size=(1,2),padding='same'))\n",
    "model.add(Dropout(dropoutRate))\n",
    "\n",
    "model.add(Flatten())\n",
    "model.add(Dense(Dense1_numNeurons, activation=activationHidden))\n",
    "model.add(Dense(numOutput, activation=activationOutput))\n",
    "model.compile(loss=lossFunction, optimizer=netOptimizer,metrics=['categorical_accuracy'])\n",
    "model.summary()"
   ]
  },
  {
   "cell_type": "markdown",
   "metadata": {},
   "source": [
    "# Train Network"
   ]
  },
  {
   "cell_type": "code",
   "execution_count": 19,
   "metadata": {},
   "outputs": [],
   "source": [
    "numEpochs = 100\n",
    "batchSize = 1024"
   ]
  },
  {
   "cell_type": "code",
   "execution_count": 20,
   "metadata": {},
   "outputs": [
    {
     "name": "stdout",
     "output_type": "stream",
     "text": [
      "Train on 99000 samples, validate on 11000 samples\n",
      "Epoch 1/100\n",
      "99000/99000 - 22s - loss: 2.3868 - categorical_accuracy: 0.1034 - val_loss: 2.2684 - val_categorical_accuracy: 0.1497\n",
      "Epoch 2/100\n",
      "99000/99000 - 14s - loss: 2.0486 - categorical_accuracy: 0.2351 - val_loss: 1.7541 - val_categorical_accuracy: 0.3447\n",
      "Epoch 3/100\n",
      "99000/99000 - 14s - loss: 1.7058 - categorical_accuracy: 0.3479 - val_loss: 1.6504 - val_categorical_accuracy: 0.3758\n",
      "Epoch 4/100\n",
      "99000/99000 - 14s - loss: 1.6258 - categorical_accuracy: 0.3810 - val_loss: 1.5978 - val_categorical_accuracy: 0.3960\n",
      "Epoch 5/100\n",
      "99000/99000 - 14s - loss: 1.5668 - categorical_accuracy: 0.4106 - val_loss: 1.5531 - val_categorical_accuracy: 0.4096\n",
      "Epoch 6/100\n",
      "99000/99000 - 14s - loss: 1.5345 - categorical_accuracy: 0.4182 - val_loss: 1.4919 - val_categorical_accuracy: 0.4375\n",
      "Epoch 7/100\n",
      "99000/99000 - 14s - loss: 1.5058 - categorical_accuracy: 0.4313 - val_loss: 1.4947 - val_categorical_accuracy: 0.4352\n",
      "Epoch 8/100\n",
      "99000/99000 - 14s - loss: 1.4933 - categorical_accuracy: 0.4360 - val_loss: 1.4887 - val_categorical_accuracy: 0.4375\n",
      "Epoch 9/100\n",
      "99000/99000 - 14s - loss: 1.4767 - categorical_accuracy: 0.4418 - val_loss: 1.4617 - val_categorical_accuracy: 0.4434\n",
      "Epoch 10/100\n",
      "99000/99000 - 14s - loss: 1.4626 - categorical_accuracy: 0.4451 - val_loss: 1.4364 - val_categorical_accuracy: 0.4568\n",
      "Epoch 11/100\n",
      "99000/99000 - 14s - loss: 1.4460 - categorical_accuracy: 0.4531 - val_loss: 1.3887 - val_categorical_accuracy: 0.4753\n",
      "Epoch 12/100\n",
      "99000/99000 - 14s - loss: 1.4367 - categorical_accuracy: 0.4551 - val_loss: 1.4056 - val_categorical_accuracy: 0.4663\n",
      "Epoch 13/100\n",
      "99000/99000 - 14s - loss: 1.4262 - categorical_accuracy: 0.4607 - val_loss: 1.3867 - val_categorical_accuracy: 0.4746\n",
      "Epoch 14/100\n",
      "99000/99000 - 14s - loss: 1.4193 - categorical_accuracy: 0.4608 - val_loss: 1.3861 - val_categorical_accuracy: 0.4741\n",
      "Epoch 15/100\n",
      "99000/99000 - 14s - loss: 1.4098 - categorical_accuracy: 0.4672 - val_loss: 1.3536 - val_categorical_accuracy: 0.4866\n",
      "Epoch 16/100\n",
      "99000/99000 - 14s - loss: 1.4043 - categorical_accuracy: 0.4690 - val_loss: 1.3598 - val_categorical_accuracy: 0.4865\n",
      "Epoch 17/100\n",
      "99000/99000 - 14s - loss: 1.3989 - categorical_accuracy: 0.4705 - val_loss: 1.3433 - val_categorical_accuracy: 0.4946\n",
      "Epoch 18/100\n",
      "99000/99000 - 14s - loss: 1.3902 - categorical_accuracy: 0.4745 - val_loss: 1.3844 - val_categorical_accuracy: 0.4799\n",
      "Epoch 19/100\n",
      "99000/99000 - 14s - loss: 1.3856 - categorical_accuracy: 0.4760 - val_loss: 1.3362 - val_categorical_accuracy: 0.4941\n",
      "Epoch 20/100\n",
      "99000/99000 - 14s - loss: 1.3778 - categorical_accuracy: 0.4783 - val_loss: 1.3444 - val_categorical_accuracy: 0.4870\n",
      "Epoch 21/100\n",
      "99000/99000 - 14s - loss: 1.3725 - categorical_accuracy: 0.4797 - val_loss: 1.3597 - val_categorical_accuracy: 0.4836\n",
      "Epoch 22/100\n",
      "99000/99000 - 14s - loss: 1.3696 - categorical_accuracy: 0.4817 - val_loss: 1.3588 - val_categorical_accuracy: 0.4863\n",
      "Epoch 23/100\n",
      "99000/99000 - 14s - loss: 1.3611 - categorical_accuracy: 0.4845 - val_loss: 1.3158 - val_categorical_accuracy: 0.4945\n",
      "Epoch 24/100\n",
      "99000/99000 - 14s - loss: 1.3607 - categorical_accuracy: 0.4844 - val_loss: 1.3484 - val_categorical_accuracy: 0.4885\n",
      "Epoch 25/100\n",
      "99000/99000 - 14s - loss: 1.3551 - categorical_accuracy: 0.4876 - val_loss: 1.3140 - val_categorical_accuracy: 0.4909\n",
      "Epoch 26/100\n",
      "99000/99000 - 14s - loss: 1.3523 - categorical_accuracy: 0.4874 - val_loss: 1.3811 - val_categorical_accuracy: 0.4747\n",
      "Epoch 27/100\n",
      "99000/99000 - 14s - loss: 1.3485 - categorical_accuracy: 0.4892 - val_loss: 1.3470 - val_categorical_accuracy: 0.4903\n",
      "Epoch 28/100\n",
      "99000/99000 - 14s - loss: 1.3435 - categorical_accuracy: 0.4911 - val_loss: 1.3122 - val_categorical_accuracy: 0.5029\n",
      "Epoch 29/100\n",
      "99000/99000 - 14s - loss: 1.3397 - categorical_accuracy: 0.4923 - val_loss: 1.3299 - val_categorical_accuracy: 0.4946\n",
      "Epoch 30/100\n",
      "99000/99000 - 14s - loss: 1.3360 - categorical_accuracy: 0.4946 - val_loss: 1.3327 - val_categorical_accuracy: 0.4973\n",
      "Epoch 31/100\n",
      "99000/99000 - 14s - loss: 1.3376 - categorical_accuracy: 0.4918 - val_loss: 1.3549 - val_categorical_accuracy: 0.4867\n",
      "Epoch 32/100\n",
      "99000/99000 - 14s - loss: 1.3337 - categorical_accuracy: 0.4956 - val_loss: 1.3291 - val_categorical_accuracy: 0.4864\n",
      "Epoch 33/100\n",
      "99000/99000 - 14s - loss: 1.3271 - categorical_accuracy: 0.4970 - val_loss: 1.2823 - val_categorical_accuracy: 0.5126\n",
      "Epoch 34/100\n",
      "99000/99000 - 14s - loss: 1.3262 - categorical_accuracy: 0.4986 - val_loss: 1.2893 - val_categorical_accuracy: 0.5168\n",
      "Epoch 35/100\n",
      "99000/99000 - 14s - loss: 1.3242 - categorical_accuracy: 0.4996 - val_loss: 1.2763 - val_categorical_accuracy: 0.5238\n",
      "Epoch 36/100\n",
      "99000/99000 - 14s - loss: 1.3196 - categorical_accuracy: 0.5010 - val_loss: 1.2941 - val_categorical_accuracy: 0.5112\n",
      "Epoch 37/100\n",
      "99000/99000 - 14s - loss: 1.3198 - categorical_accuracy: 0.4998 - val_loss: 1.2725 - val_categorical_accuracy: 0.5183\n",
      "Epoch 38/100\n",
      "99000/99000 - 14s - loss: 1.3148 - categorical_accuracy: 0.5030 - val_loss: 1.3121 - val_categorical_accuracy: 0.4947\n",
      "Epoch 39/100\n",
      "99000/99000 - 14s - loss: 1.3130 - categorical_accuracy: 0.5040 - val_loss: 1.3171 - val_categorical_accuracy: 0.5023\n",
      "Epoch 40/100\n",
      "99000/99000 - 14s - loss: 1.3131 - categorical_accuracy: 0.5041 - val_loss: 1.3264 - val_categorical_accuracy: 0.4995\n",
      "Epoch 41/100\n",
      "99000/99000 - 14s - loss: 1.3083 - categorical_accuracy: 0.5063 - val_loss: 1.3090 - val_categorical_accuracy: 0.5032\n",
      "Epoch 42/100\n",
      "99000/99000 - 14s - loss: 1.3052 - categorical_accuracy: 0.5077 - val_loss: 1.3350 - val_categorical_accuracy: 0.4958\n",
      "Epoch 43/100\n",
      "99000/99000 - 14s - loss: 1.3046 - categorical_accuracy: 0.5069 - val_loss: 1.2847 - val_categorical_accuracy: 0.5095\n",
      "Epoch 44/100\n",
      "99000/99000 - 14s - loss: 1.3030 - categorical_accuracy: 0.5077 - val_loss: 1.2906 - val_categorical_accuracy: 0.5135\n"
     ]
    }
   ],
   "source": [
    "history = model.fit(X_train,y_train,epochs=numEpochs,batch_size=batchSize,validation_data=(X_valid,y_valid),callbacks=callbackList,verbose=2)"
   ]
  },
  {
   "cell_type": "code",
   "execution_count": 21,
   "metadata": {},
   "outputs": [],
   "source": [
    "# Save History\n",
    "np_loss_history = np.array(history.history[\"loss\"])\n",
    "np.save('Data/CNN-14/lossHist.npy',np_loss_history)\n",
    "\n",
    "np_accu_history = np.array(history.history[\"categorical_accuracy\"])\n",
    "np.save('Data/CNN-14/accuHist.npy',np_accu_history)\n",
    "\n",
    "np_val_loss_history = np.array(history.history[\"val_loss\"])\n",
    "np.save('Data/CNN-14/valLossHist.npy',np_val_loss_history)\n",
    "\n",
    "np_val_accu_history = np.array(history.history[\"val_categorical_accuracy\"])\n",
    "np.save('Data/CNN-14/valAccuHist.npy',np_val_accu_history)"
   ]
  },
  {
   "cell_type": "markdown",
   "metadata": {},
   "source": [
    "# Test/Evaluate Network"
   ]
  },
  {
   "cell_type": "code",
   "execution_count": 22,
   "metadata": {},
   "outputs": [
    {
     "name": "stdout",
     "output_type": "stream",
     "text": [
      "110000/110000 [==============================] - 25s 226us/sample - loss: 1.2744 - categorical_accuracy: 0.5142\n"
     ]
    },
    {
     "data": {
      "text/plain": [
       "[1.2743716924147173, 0.5141909]"
      ]
     },
     "execution_count": 22,
     "metadata": {},
     "output_type": "execute_result"
    }
   ],
   "source": [
    "# Re-load Best Weights\n",
    "model.load_weights('Data/CNN-14/CNN-14-Weights_best.h5')\n",
    "\n",
    "model.evaluate(X_test,y_test)"
   ]
  },
  {
   "cell_type": "markdown",
   "metadata": {},
   "source": [
    "# Visualize Results"
   ]
  },
  {
   "cell_type": "code",
   "execution_count": 23,
   "metadata": {},
   "outputs": [
    {
     "data": {
      "text/plain": [
       "<matplotlib.legend.Legend at 0x26bc70d25c8>"
      ]
     },
     "execution_count": 23,
     "metadata": {},
     "output_type": "execute_result"
    },
    {
     "data": {
      "image/png": "[encoded data removed]",
      "text/plain": [
       "<Figure size 432x288 with 1 Axes>"
      ]
     },
     "metadata": {
      "needs_background": "light"
     },
     "output_type": "display_data"
    }
   ],
   "source": [
    "# Load Details of History\n",
    "lHist = np.load('Data/CNN-14/lossHist.npy')\n",
    "aHist = np.load('Data/CNN-14/accuHist.npy')\n",
    "\n",
    "vLHist = np.load('Data/CNN-14/valLossHist.npy')\n",
    "vAHist = np.load('Data/CNN-14/valAccuHist.npy')\n",
    "\n",
    "# Show loss curves \n",
    "plt.figure()\n",
    "plt.title('CNN 2 - Training performance')\n",
    "plt.plot(lHist, label='Training Loss')\n",
    "plt.plot(vLHist, label='Validation Loss')\n",
    "plt.xlabel('Epochs')\n",
    "plt.xticks(np.arange(0,len(lHist)+1,2),np.arange(1,len(lHist)+1,2))\n",
    "plt.ylabel('Loss')\n",
    "plt.legend()"
   ]
  },
  {
   "cell_type": "code",
   "execution_count": 24,
   "metadata": {},
   "outputs": [],
   "source": [
    "# Function to Extract Test Data of Specific SNR\n",
    "def extractTest(data,labels,labelsEncoded,testIndex,snr):\n",
    "    testData = data[testIndex]\n",
    "    labelArray = np.array([labels])\n",
    "    testLabels = labelArray[:,testIdx,:]\n",
    "    testLabelsEncoded = labelsEncoded[testIdx]\n",
    "    \n",
    "    idxOP = list()\n",
    "    \n",
    "    # Loop Through Label Array To Get Index of Specific SNR\n",
    "    for i in range(0,testLabels.shape[1]):\n",
    "        if testLabels[0,i,1].decode('ascii')==snr:\n",
    "            idxOP.append(i)\n",
    "    \n",
    "    # Return Subset of Test Data and Corresponding Labels\n",
    "    opTestData = np.expand_dims(testData[idxOP,:,:],axis=-1)\n",
    "    opTestLabel = testLabelsEncoded[idxOP]\n",
    "    \n",
    "    return opTestData, opTestLabel\n",
    "\n",
    "def plot_confusion_matrix(cm, titleAdd, title='CNN 14 - Confusion matrix', cmap=plt.cm.Blues, labels=[]):\n",
    "    plt.imshow(cm, interpolation='nearest', cmap=cmap)\n",
    "    plt.title(title+titleAdd)\n",
    "    plt.colorbar()\n",
    "    tick_marks = np.arange(len(labels))\n",
    "    plt.xticks(tick_marks, labels, rotation=45)\n",
    "    plt.yticks(tick_marks, labels)\n",
    "    plt.tight_layout()\n",
    "    plt.ylabel('True label')\n",
    "    plt.xlabel('Predicted label')\n",
    "\n",
    "# Confusion Matrix Function\n",
    "def prepConfMat(testData,testLabel,predTestLabel,mods,title):\n",
    "    modString = list()\n",
    "    for i in range(0,len(mods)):\n",
    "        modString.append(mods[i].decode('ascii'))\n",
    "    \n",
    "    conf = np.zeros([len(mods),len(mods)])\n",
    "    confnorm = np.zeros([len(mods),len(mods)])\n",
    "    for i in range(0,testData.shape[0]):\n",
    "        j = list(testLabel[i,:]).index(1)\n",
    "        k = int(np.argmax(predTestLabel[i,:]))\n",
    "        conf[j,k] = conf[j,k] + 1\n",
    "    for i in range(0,len(mods)):\n",
    "        confnorm[i,:] = conf[i,:] / np.sum(conf[i,:])\n",
    "    plot_confusion_matrix(confnorm, title, labels=modString)"
   ]
  },
  {
   "cell_type": "code",
   "execution_count": 25,
   "metadata": {},
   "outputs": [
    {
     "data": {
      "image/png": "[encoded data removed]",
      "text/plain": [
       "<Figure size 432x288 with 2 Axes>"
      ]
     },
     "metadata": {
      "needs_background": "light"
     },
     "output_type": "display_data"
    }
   ],
   "source": [
    "# Plot confusion matrix\n",
    "test_Y_hat = model.predict(X_test, batch_size=1024)\n",
    "\n",
    "prepConfMat(X_test,y_test,test_Y_hat,mods,' (All SNRs)')"
   ]
  },
  {
   "cell_type": "code",
   "execution_count": 26,
   "metadata": {
    "scrolled": true
   },
   "outputs": [
    {
     "data": {
      "image/png": "[encoded data removed]",
      "text/plain": [
       "<Figure size 432x288 with 2 Axes>"
      ]
     },
     "metadata": {
      "needs_background": "light"
     },
     "output_type": "display_data"
    }
   ],
   "source": [
    "# Plot Confusion Matrix for Specific SNR\n",
    "snr = '0'\n",
    "title = ' (SNR = '+snr+')'\n",
    "x_testSNR, y_TestSNR = extractTest(X,lbl,lbl_encoded,testIdx,snr)\n",
    "y_hat_snr = model.predict(x_testSNR, batch_size=1024)\n",
    "prepConfMat(x_testSNR,y_TestSNR,y_hat_snr,mods,title)"
   ]
  },
  {
   "cell_type": "code",
   "execution_count": 27,
   "metadata": {},
   "outputs": [
    {
     "name": "stdout",
     "output_type": "stream",
     "text": [
      "Overall Accuracy:  0.09425121643539376 for SNR b'-20'\n",
      "Overall Accuracy:  0.09422657952069717 for SNR b'-18'\n",
      "Overall Accuracy:  0.09090909090909091 for SNR b'-16'\n",
      "Overall Accuracy:  0.10618181818181818 for SNR b'-14'\n",
      "Overall Accuracy:  0.13684589102679373 for SNR b'-12'\n",
      "Overall Accuracy:  0.2056932966023875 for SNR b'-10'\n",
      "Overall Accuracy:  0.2962693357597816 for SNR b'-8'\n",
      "Overall Accuracy:  0.4399280575539568 for SNR b'-6'\n",
      "Overall Accuracy:  0.5802672524254073 for SNR b'-4'\n",
      "Overall Accuracy:  0.6757654002213206 for SNR b'-2'\n",
      "Overall Accuracy:  0.7184798270893372 for SNR b'0'\n",
      "Overall Accuracy:  0.7626123647037241 for SNR b'2'\n",
      "Overall Accuracy:  0.7579230080572963 for SNR b'4'\n",
      "Overall Accuracy:  0.7594959495949595 for SNR b'6'\n",
      "Overall Accuracy:  0.7578066914498142 for SNR b'8'\n",
      "Overall Accuracy:  0.7690497737556561 for SNR b'10'\n",
      "Overall Accuracy:  0.7600438276113952 for SNR b'12'\n",
      "Overall Accuracy:  0.7692731277533039 for SNR b'14'\n",
      "Overall Accuracy:  0.7519097853765006 for SNR b'16'\n",
      "Overall Accuracy:  0.7622302158273381 for SNR b'18'\n",
      "Random Guess Accuracy: 0.09090909090909091\n"
     ]
    }
   ],
   "source": [
    "# Get the test accuracy for different SNRs\n",
    "acc = {}\n",
    "acc_array=[]\n",
    "\n",
    "snr_array=np.asarray(lbl)[:,1]\n",
    "lb_temp = preprocessing.LabelBinarizer()\n",
    "lb_temp.fit(snr_array)\n",
    "temp_array=lb_temp.classes_\n",
    "snr_label_array = []\n",
    "\n",
    "\n",
    "snr_label_array.append(temp_array[6])\n",
    "snr_label_array.append(temp_array[4])\n",
    "snr_label_array.append(temp_array[3])\n",
    "snr_label_array.append(temp_array[2])\n",
    "snr_label_array.append(temp_array[1])\n",
    "snr_label_array.append(temp_array[0])\n",
    "snr_label_array.append(temp_array[9])\n",
    "snr_label_array.append(temp_array[8])\n",
    "snr_label_array.append(temp_array[7])\n",
    "snr_label_array.append(temp_array[5])\n",
    "snr_label_array.append(temp_array[10])\n",
    "snr_label_array.append(temp_array[16])\n",
    "snr_label_array.append(temp_array[17])\n",
    "snr_label_array.append(temp_array[18])\n",
    "snr_label_array.append(temp_array[19])\n",
    "snr_label_array.append(temp_array[11])\n",
    "snr_label_array.append(temp_array[12])\n",
    "snr_label_array.append(temp_array[13])\n",
    "snr_label_array.append(temp_array[14])\n",
    "snr_label_array.append(temp_array[15])\n",
    "\n",
    "\n",
    "#print(snr_label_array)\n",
    "y_test_snr=snr_array[testIdx]\n",
    "\n",
    "\n",
    "\n",
    "for snr in snr_label_array:\n",
    "    test_X_i = X_test[np.where(y_test_snr==snr)]\n",
    "    test_Y_i = y_test[np.where(y_test_snr==snr)]\n",
    "    \n",
    "    test_Y_i_hat = model.predict(test_X_i)\n",
    "    conf = np.zeros([len(mods),len(mods)])\n",
    "    confnorm = np.zeros([len(mods),len(mods)])\n",
    "    for i in range(0,test_X_i.shape[0]):\n",
    "        j = list(test_Y_i[i,:]).index(1)\n",
    "        k = int(np.argmax(test_Y_i_hat[i,:]))\n",
    "        conf[j,k] = conf[j,k] + 1\n",
    "    for i in range(0,len(mods)):\n",
    "        confnorm[i,:] = conf[i,:] / np.sum(conf[i,:])\n",
    "    \n",
    "    #plt.figure()\n",
    "    #plot_confusion_matrix(confnorm, labels=classes, title=\"ConvNet Confusion Matrix (SNR=%d)\"%(snr))\n",
    "    \n",
    "    cor = np.sum(np.diag(conf))\n",
    "    ncor = np.sum(conf) - cor\n",
    "    print(\"Overall Accuracy: \", cor / (cor+ncor),\"for SNR\",snr)\n",
    "    acc[snr] = 1.0*cor/(cor+ncor)\n",
    "    acc_array.append(1.0*cor/(cor+ncor))\n",
    "\n",
    "print(\"Random Guess Accuracy:\",1/11)"
   ]
  },
  {
   "cell_type": "code",
   "execution_count": 28,
   "metadata": {},
   "outputs": [
    {
     "data": {
      "image/png": "[encoded data removed]",
      "text/plain": [
       "<Figure size 576x432 with 1 Axes>"
      ]
     },
     "metadata": {
      "needs_background": "light"
     },
     "output_type": "display_data"
    }
   ],
   "source": [
    "# Show loss curves \n",
    "plt.figure(figsize=(8, 6))\n",
    "plt.title('CNN 14 - Accuracy vs SNRs')\n",
    "plt.plot(np.arange(-20,20,2), acc_array)\n",
    "plt.xlabel('SNR')\n",
    "plt.xticks(np.arange(-20,20,2))\n",
    "plt.ylabel('Class Accuracy')\n",
    "plt.grid()\n",
    "plt.show()"
   ]
  },
  {
   "cell_type": "code",
   "execution_count": 29,
   "metadata": {},
   "outputs": [],
   "source": [
    "accRes = np.array([acc_array])\n",
    "np.save('Data/CNN-14/accResSNR.npy',accRes)"
   ]
  }
 ],
 "metadata": {
  "kernelspec": {
   "display_name": "Python 3",
   "language": "python",
   "name": "python3"
  },
  "language_info": {
   "codemirror_mode": {
    "name": "ipython",
    "version": 3
   },
   "file_extension": ".py",
   "mimetype": "text/x-python",
   "name": "python",
   "nbconvert_exporter": "python",
   "pygments_lexer": "ipython3",
   "version": "3.7.6"
  }
 },
 "nbformat": 4,
 "nbformat_minor": 4
}
